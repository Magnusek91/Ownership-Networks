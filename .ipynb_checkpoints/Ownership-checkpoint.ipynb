{
 "cells": [
  {
   "cell_type": "markdown",
   "id": "285771c9",
   "metadata": {},
   "source": [
    "# Ownership-Networks"
   ]
  },
  {
   "cell_type": "markdown",
   "id": "bc127477",
   "metadata": {},
   "source": [
    "## Data Import"
   ]
  },
  {
   "cell_type": "code",
   "execution_count": 1,
   "id": "eaff2ed0",
   "metadata": {},
   "outputs": [],
   "source": [
    "import pandas as pd\n",
    "import numpy as np"
   ]
  },
  {
   "cell_type": "code",
   "execution_count": 2,
   "id": "faff6344",
   "metadata": {},
   "outputs": [],
   "source": [
    "codebook = 'new'"
   ]
  },
  {
   "cell_type": "code",
   "execution_count": 3,
   "id": "23c4ff9e",
   "metadata": {
    "scrolled": true
   },
   "outputs": [],
   "source": [
    "file_name = '3030-own'\n",
    "df = pd.read_csv(f'Data/{file_name}.csv',\n",
    "                     encoding='unicode_escape',\n",
    "                    index_col=0)\n",
    "\n",
    "df.rename(columns={'Company name Latin alphabet': 'Comp_Name',\n",
    "                   'Country ISO code': 'Country',\n",
    "                   'NACE Rev. 2, core code (4 digits)': 'NACE',\n",
    "                   'BvD ID number': 'BvD',\n",
    "                   'Operating revenue (Turnover)\\nth USD Last avail. yr': 'TURN',\n",
    "                   'Cash flow\\nth USD Last avail. yr': 'CF',\n",
    "                   'Total assets\\nth USD Last avail. yr': 'TASS',\n",
    "                   'Shareholders funds\\nth USD Last avail. yr': 'EC',\n",
    "                   'Number of employees\\nLast avail. yr': 'EM',\n",
    "                   'Shareholder - Name': 'Sha_name',\n",
    "                   'Shareholder - BvD ID number': 'Sha_BvD',\n",
    "                   'Shareholder - Direct %': 'Sha_%',\n",
    "                   'Shareholder - Country ISO code': 'Sha_cntr',\n",
    "                   'Shareholder - NACE,\\nCore code': 'Sha_NACE', \n",
    "                   'Subsidiary - Name': 'Sub_name',\n",
    "                   'Subsidiary - BvD ID number': 'Sub_BvD',\n",
    "                   'Subsidiary - Direct %': 'Sub_%',\n",
    "                   'Subsidiary - Country ISO code': 'Sub_cntr',\n",
    "                   'Subsidiary - NACE,\\nCore code': 'Sub_NACE'\n",
    "                  },\n",
    "            inplace=True)"
   ]
  },
  {
   "cell_type": "code",
   "execution_count": 4,
   "id": "c4495bb7",
   "metadata": {},
   "outputs": [
    {
     "data": {
      "text/html": [
       "<div>\n",
       "<style scoped>\n",
       "    .dataframe tbody tr th:only-of-type {\n",
       "        vertical-align: middle;\n",
       "    }\n",
       "\n",
       "    .dataframe tbody tr th {\n",
       "        vertical-align: top;\n",
       "    }\n",
       "\n",
       "    .dataframe thead th {\n",
       "        text-align: right;\n",
       "    }\n",
       "</style>\n",
       "<table border=\"1\" class=\"dataframe\">\n",
       "  <thead>\n",
       "    <tr style=\"text-align: right;\">\n",
       "      <th></th>\n",
       "      <th>Comp_Name</th>\n",
       "      <th>Country</th>\n",
       "      <th>BvD</th>\n",
       "      <th>NACE</th>\n",
       "      <th>TURN</th>\n",
       "      <th>CF</th>\n",
       "      <th>TASS</th>\n",
       "      <th>EC</th>\n",
       "      <th>EM</th>\n",
       "      <th>Sha_name</th>\n",
       "      <th>Sha_BvD</th>\n",
       "      <th>Sha_cntr</th>\n",
       "      <th>Sha_NACE</th>\n",
       "      <th>Sha_%</th>\n",
       "      <th>Sub_name</th>\n",
       "      <th>Sub_BvD</th>\n",
       "      <th>Sub_cntr</th>\n",
       "      <th>Sub_NACE</th>\n",
       "      <th>Sub_%</th>\n",
       "    </tr>\n",
       "  </thead>\n",
       "  <tbody>\n",
       "    <tr>\n",
       "      <th>1.0</th>\n",
       "      <td>AIRBUS SE</td>\n",
       "      <td>NL</td>\n",
       "      <td>NL24288945</td>\n",
       "      <td>3030.0</td>\n",
       "      <td>59 736 738</td>\n",
       "      <td>7 471 764</td>\n",
       "      <td>121 241 465</td>\n",
       "      <td>10 743 847</td>\n",
       "      <td>126 495</td>\n",
       "      <td>GESELLSCHAFT ZUR BETEILIGUNGSVERWALTUNG GZBV M...</td>\n",
       "      <td>DE6070642164</td>\n",
       "      <td>DE</td>\n",
       "      <td>6420</td>\n",
       "      <td>10.90</td>\n",
       "      <td>AERO RÉ</td>\n",
       "      <td>LULB51757</td>\n",
       "      <td>LU</td>\n",
       "      <td>6520.0</td>\n",
       "      <td>100.00</td>\n",
       "    </tr>\n",
       "    <tr>\n",
       "      <th>NaN</th>\n",
       "      <td>NaN</td>\n",
       "      <td>NaN</td>\n",
       "      <td>NaN</td>\n",
       "      <td>NaN</td>\n",
       "      <td>NaN</td>\n",
       "      <td>NaN</td>\n",
       "      <td>NaN</td>\n",
       "      <td>NaN</td>\n",
       "      <td>NaN</td>\n",
       "      <td>SOGEPA</td>\n",
       "      <td>FR318186756</td>\n",
       "      <td>FR</td>\n",
       "      <td>6420</td>\n",
       "      <td>10.90</td>\n",
       "      <td>AIRBUS BANK GMBH</td>\n",
       "      <td>DEFEB14827</td>\n",
       "      <td>DE</td>\n",
       "      <td>6419.0</td>\n",
       "      <td>100.00</td>\n",
       "    </tr>\n",
       "    <tr>\n",
       "      <th>NaN</th>\n",
       "      <td>NaN</td>\n",
       "      <td>NaN</td>\n",
       "      <td>NaN</td>\n",
       "      <td>NaN</td>\n",
       "      <td>NaN</td>\n",
       "      <td>NaN</td>\n",
       "      <td>NaN</td>\n",
       "      <td>NaN</td>\n",
       "      <td>NaN</td>\n",
       "      <td>CAPITAL RESEARCH &amp; MANAGEMENT CO</td>\n",
       "      <td>US149114345L</td>\n",
       "      <td>US</td>\n",
       "      <td>6530</td>\n",
       "      <td>9.63</td>\n",
       "      <td>AIRBUS DEFENCE AND SPACE LIMITED</td>\n",
       "      <td>GB02449259</td>\n",
       "      <td>GB</td>\n",
       "      <td>3299.0</td>\n",
       "      <td>100.00</td>\n",
       "    </tr>\n",
       "    <tr>\n",
       "      <th>NaN</th>\n",
       "      <td>NaN</td>\n",
       "      <td>NaN</td>\n",
       "      <td>NaN</td>\n",
       "      <td>NaN</td>\n",
       "      <td>NaN</td>\n",
       "      <td>NaN</td>\n",
       "      <td>NaN</td>\n",
       "      <td>NaN</td>\n",
       "      <td>NaN</td>\n",
       "      <td>SOCIEDAD ESTATAL DE PARTICIPACIONES INDUSTRIALES</td>\n",
       "      <td>ESQ2820015B</td>\n",
       "      <td>ES</td>\n",
       "      <td>8411</td>\n",
       "      <td>4.12</td>\n",
       "      <td>AIRBUS DEFENCE AND SPACE NETHERLANDS B.V.</td>\n",
       "      <td>NL28086907</td>\n",
       "      <td>NL</td>\n",
       "      <td>3030.0</td>\n",
       "      <td>100.00</td>\n",
       "    </tr>\n",
       "    <tr>\n",
       "      <th>NaN</th>\n",
       "      <td>NaN</td>\n",
       "      <td>NaN</td>\n",
       "      <td>NaN</td>\n",
       "      <td>NaN</td>\n",
       "      <td>NaN</td>\n",
       "      <td>NaN</td>\n",
       "      <td>NaN</td>\n",
       "      <td>NaN</td>\n",
       "      <td>NaN</td>\n",
       "      <td>TCI FUND MANAGEMENT LTD</td>\n",
       "      <td>YY*4000000169624</td>\n",
       "      <td>n.a.</td>\n",
       "      <td>NaN</td>\n",
       "      <td>3.02</td>\n",
       "      <td>AUSTRALIAN AEROSPACE MILITARY MAINTENANCE PTY LTD</td>\n",
       "      <td>AU2-88271</td>\n",
       "      <td>AU</td>\n",
       "      <td>NaN</td>\n",
       "      <td>100.00</td>\n",
       "    </tr>\n",
       "  </tbody>\n",
       "</table>\n",
       "</div>"
      ],
      "text/plain": [
       "     Comp_Name Country         BvD    NACE        TURN         CF  \\\n",
       "1.0  AIRBUS SE      NL  NL24288945  3030.0  59 736 738  7 471 764   \n",
       "NaN        NaN     NaN         NaN     NaN         NaN        NaN   \n",
       "NaN        NaN     NaN         NaN     NaN         NaN        NaN   \n",
       "NaN        NaN     NaN         NaN     NaN         NaN        NaN   \n",
       "NaN        NaN     NaN         NaN     NaN         NaN        NaN   \n",
       "\n",
       "            TASS          EC       EM  \\\n",
       "1.0  121 241 465  10 743 847  126 495   \n",
       "NaN          NaN         NaN      NaN   \n",
       "NaN          NaN         NaN      NaN   \n",
       "NaN          NaN         NaN      NaN   \n",
       "NaN          NaN         NaN      NaN   \n",
       "\n",
       "                                              Sha_name           Sha_BvD  \\\n",
       "1.0  GESELLSCHAFT ZUR BETEILIGUNGSVERWALTUNG GZBV M...      DE6070642164   \n",
       "NaN                                             SOGEPA       FR318186756   \n",
       "NaN                   CAPITAL RESEARCH & MANAGEMENT CO      US149114345L   \n",
       "NaN   SOCIEDAD ESTATAL DE PARTICIPACIONES INDUSTRIALES       ESQ2820015B   \n",
       "NaN                            TCI FUND MANAGEMENT LTD  YY*4000000169624   \n",
       "\n",
       "    Sha_cntr Sha_NACE  Sha_%  \\\n",
       "1.0       DE     6420  10.90   \n",
       "NaN       FR     6420  10.90   \n",
       "NaN       US     6530   9.63   \n",
       "NaN       ES     8411   4.12   \n",
       "NaN     n.a.      NaN   3.02   \n",
       "\n",
       "                                              Sub_name     Sub_BvD Sub_cntr  \\\n",
       "1.0                                            AERO RÉ   LULB51757       LU   \n",
       "NaN                                   AIRBUS BANK GMBH  DEFEB14827       DE   \n",
       "NaN                   AIRBUS DEFENCE AND SPACE LIMITED  GB02449259       GB   \n",
       "NaN          AIRBUS DEFENCE AND SPACE NETHERLANDS B.V.  NL28086907       NL   \n",
       "NaN  AUSTRALIAN AEROSPACE MILITARY MAINTENANCE PTY LTD   AU2-88271       AU   \n",
       "\n",
       "     Sub_NACE   Sub_%  \n",
       "1.0    6520.0  100.00  \n",
       "NaN    6419.0  100.00  \n",
       "NaN    3299.0  100.00  \n",
       "NaN    3030.0  100.00  \n",
       "NaN       NaN  100.00  "
      ]
     },
     "execution_count": 4,
     "metadata": {},
     "output_type": "execute_result"
    }
   ],
   "source": [
    "df.head()"
   ]
  },
  {
   "cell_type": "markdown",
   "id": "01fc5cb2",
   "metadata": {},
   "source": [
    "## Codebook"
   ]
  },
  {
   "cell_type": "code",
   "execution_count": 5,
   "id": "ce70ae0d",
   "metadata": {},
   "outputs": [],
   "source": [
    "# If it has already been generated\n",
    "if codebook == 'old':   \n",
    "    cdbk = pd.read_csv(f'Data\\\\Codebook.csv',index_col=0)\n",
    "    # Creating dictionary so that it can be used for index in the main dataframe\n",
    "    di_cdbk = dict([(bvd, index) for index, bvd in zip(cdbk.index, cdbk.BvD)])\n",
    "\n",
    "elif codebook == 'new':\n",
    "    # Add Targi companies\n",
    "    count = 1\n",
    "    di_cdbk = {}\n",
    "    df_targi = df[['Comp_Name', 'BvD']].dropna().drop_duplicates(subset=['Comp_Name', 'BvD']).sort_values(by='Comp_Name')\n",
    "    for company, bvd_code in zip(df_targi['Comp_Name'], df_targi['BvD']):\n",
    "        index = f'Targi_{count}'\n",
    "        di_cdbk[index] = [company, bvd_code]\n",
    "        count += 1\n",
    "        \n",
    "    # Add Neigh companies\n",
    "    count = 1\n",
    "    # Get all companies 'relative' to Targi's \n",
    "    relatives = set(list(df['Sha_BvD'].unique()) + list(df['Sub_BvD'].unique()))\n",
    "    targi = [value[1] for value in di_cdbk.values()]\n",
    "    # Extract those that are not already coded as Targi\n",
    "    neigh = [neigh for neigh in relatives if neigh not in targi]\n",
    "    neigh.remove(neigh[0])\n",
    "    df2 = df[['Sha_name', 'Sha_BvD']].rename(columns={'Sha_name':'Comp_Name', 'Sha_BvD':'BvD'}).dropna()\n",
    "    df3 = df[['Sub_name', 'Sub_BvD']].rename(columns={'Sub_name':'Comp_Name', 'Sub_BvD':'BvD'}).dropna()\n",
    "    df4 = pd.concat([df2, df3])\n",
    "    df4 = df4[df4['BvD'].isin(neigh)].drop_duplicates(subset=['Comp_Name', 'BvD']).sort_values(by='Comp_Name')\n",
    "    \n",
    "    for company, bvd_code in zip(df4['Comp_Name'], df4['BvD']):\n",
    "        index = f'Neigh_{count}'\n",
    "        di_cdbk[index] = [company, bvd_code]\n",
    "        count += 1\n",
    "    \n",
    "    # It is ready for export\n",
    "    cdbk_all = pd.DataFrame.from_dict(di_cdbk, orient='index', columns=['Comp_Name', 'BvD'])  # orient='index',\n",
    "#     cdbk_all.to_csv('Data\\Codebook.csv')"
   ]
  },
  {
   "cell_type": "code",
   "execution_count": 6,
   "id": "2cf1db1c",
   "metadata": {},
   "outputs": [],
   "source": [
    "# For mapping on companies there must a simpler two-column codeboook\n",
    "di_all = dict([(bvd, index) for index, bvd in zip(cdbk_all.index, cdbk_all.BvD)])"
   ]
  },
  {
   "cell_type": "markdown",
   "id": "24146ae5",
   "metadata": {},
   "source": [
    "## Creating separate dataframe with economic attributes for Targi companies"
   ]
  },
  {
   "cell_type": "code",
   "execution_count": 7,
   "id": "8646ecac",
   "metadata": {},
   "outputs": [
    {
     "data": {
      "text/html": [
       "<div>\n",
       "<style scoped>\n",
       "    .dataframe tbody tr th:only-of-type {\n",
       "        vertical-align: middle;\n",
       "    }\n",
       "\n",
       "    .dataframe tbody tr th {\n",
       "        vertical-align: top;\n",
       "    }\n",
       "\n",
       "    .dataframe thead th {\n",
       "        text-align: right;\n",
       "    }\n",
       "</style>\n",
       "<table border=\"1\" class=\"dataframe\">\n",
       "  <thead>\n",
       "    <tr style=\"text-align: right;\">\n",
       "      <th></th>\n",
       "      <th>Comp_Name</th>\n",
       "      <th>Country</th>\n",
       "      <th>NACE</th>\n",
       "      <th>BvD</th>\n",
       "      <th>TURN</th>\n",
       "      <th>CF</th>\n",
       "      <th>TASS</th>\n",
       "      <th>EC</th>\n",
       "      <th>EM</th>\n",
       "    </tr>\n",
       "    <tr>\n",
       "      <th>index</th>\n",
       "      <th></th>\n",
       "      <th></th>\n",
       "      <th></th>\n",
       "      <th></th>\n",
       "      <th></th>\n",
       "      <th></th>\n",
       "      <th></th>\n",
       "      <th></th>\n",
       "      <th></th>\n",
       "    </tr>\n",
       "  </thead>\n",
       "  <tbody>\n",
       "    <tr>\n",
       "      <th>Targi_109</th>\n",
       "      <td>AIRBUS SE</td>\n",
       "      <td>NL</td>\n",
       "      <td>3030.0</td>\n",
       "      <td>NL24288945</td>\n",
       "      <td>59 736 738</td>\n",
       "      <td>7 471 764</td>\n",
       "      <td>121 241 465</td>\n",
       "      <td>10 743 847</td>\n",
       "      <td>126 495</td>\n",
       "    </tr>\n",
       "    <tr>\n",
       "      <th>Targi_87</th>\n",
       "      <td>AIRBUS</td>\n",
       "      <td>FR</td>\n",
       "      <td>3030.0</td>\n",
       "      <td>FR383474814</td>\n",
       "      <td>46 503 021</td>\n",
       "      <td>1 450 146</td>\n",
       "      <td>67 241 069</td>\n",
       "      <td>11 035 552</td>\n",
       "      <td>8 944</td>\n",
       "    </tr>\n",
       "    <tr>\n",
       "      <th>Targi_272</th>\n",
       "      <td>BAE SYSTEMS PLC</td>\n",
       "      <td>GB</td>\n",
       "      <td>3030.0</td>\n",
       "      <td>GB01470151</td>\n",
       "      <td>26 837 099</td>\n",
       "      <td>3 328 945</td>\n",
       "      <td>36 453 156</td>\n",
       "      <td>10 301 190</td>\n",
       "      <td>82 000</td>\n",
       "    </tr>\n",
       "    <tr>\n",
       "      <th>Targi_927</th>\n",
       "      <td>SAFRAN</td>\n",
       "      <td>FR</td>\n",
       "      <td>3030.0</td>\n",
       "      <td>FR562082909</td>\n",
       "      <td>18 434 203</td>\n",
       "      <td>1 792 906</td>\n",
       "      <td>47 247 554</td>\n",
       "      <td>15 029 606</td>\n",
       "      <td>77 008</td>\n",
       "    </tr>\n",
       "    <tr>\n",
       "      <th>Targi_695</th>\n",
       "      <td>LEONARDO S.P.A.</td>\n",
       "      <td>IT</td>\n",
       "      <td>3030.0</td>\n",
       "      <td>IT00401990585</td>\n",
       "      <td>16 651 490</td>\n",
       "      <td>1 258 319</td>\n",
       "      <td>32 142 064</td>\n",
       "      <td>7 310 935</td>\n",
       "      <td>50 413</td>\n",
       "    </tr>\n",
       "  </tbody>\n",
       "</table>\n",
       "</div>"
      ],
      "text/plain": [
       "                 Comp_Name Country    NACE            BvD        TURN  \\\n",
       "index                                                                   \n",
       "Targi_109        AIRBUS SE      NL  3030.0     NL24288945  59 736 738   \n",
       "Targi_87            AIRBUS      FR  3030.0    FR383474814  46 503 021   \n",
       "Targi_272  BAE SYSTEMS PLC      GB  3030.0     GB01470151  26 837 099   \n",
       "Targi_927           SAFRAN      FR  3030.0    FR562082909  18 434 203   \n",
       "Targi_695  LEONARDO S.P.A.      IT  3030.0  IT00401990585  16 651 490   \n",
       "\n",
       "                  CF         TASS          EC       EM  \n",
       "index                                                   \n",
       "Targi_109  7 471 764  121 241 465  10 743 847  126 495  \n",
       "Targi_87   1 450 146   67 241 069  11 035 552    8 944  \n",
       "Targi_272  3 328 945   36 453 156  10 301 190   82 000  \n",
       "Targi_927  1 792 906   47 247 554  15 029 606   77 008  \n",
       "Targi_695  1 258 319   32 142 064   7 310 935   50 413  "
      ]
     },
     "execution_count": 7,
     "metadata": {},
     "output_type": "execute_result"
    }
   ],
   "source": [
    "import copy\n",
    "df_econ = copy.copy(df[['Comp_Name', 'Country', 'NACE', 'BvD', 'TURN', 'CF',\n",
    "       'TASS', 'EC', 'EM']]).drop_duplicates(subset=['BvD'], keep='first').dropna()\n",
    "\n",
    "df_econ['index'] = df_econ['BvD'].map(di_all)\n",
    "df_econ.set_index('index', inplace=True)\n",
    "df_econ.head()"
   ]
  },
  {
   "cell_type": "code",
   "execution_count": 8,
   "id": "aa7485c2",
   "metadata": {},
   "outputs": [],
   "source": [
    "df_econ.replace('n.a.', np.nan, inplace=True)"
   ]
  },
  {
   "cell_type": "code",
   "execution_count": 9,
   "id": "474da440",
   "metadata": {},
   "outputs": [
    {
     "data": {
      "text/plain": [
       "Comp_Name     0.000000\n",
       "Country       0.000000\n",
       "NACE          0.000000\n",
       "BvD           0.000000\n",
       "TURN         17.062818\n",
       "CF           27.164686\n",
       "TASS          5.602716\n",
       "EC            5.517827\n",
       "EM           33.955857\n",
       "dtype: float64"
      ]
     },
     "execution_count": 9,
     "metadata": {},
     "output_type": "execute_result"
    }
   ],
   "source": [
    "# MISSING DATA in %\n",
    "df_econ.isna().sum()/len(df_econ)*100"
   ]
  },
  {
   "cell_type": "code",
   "execution_count": 10,
   "id": "158adecb",
   "metadata": {},
   "outputs": [
    {
     "name": "stderr",
     "output_type": "stream",
     "text": [
      "C:\\Users\\laptop\\AppData\\Local\\Temp\\ipykernel_12992\\1455800995.py:8: SettingWithCopyWarning: \n",
      "A value is trying to be set on a copy of a slice from a DataFrame\n",
      "\n",
      "See the caveats in the documentation: https://pandas.pydata.org/pandas-docs/stable/user_guide/indexing.html#returning-a-view-versus-a-copy\n",
      "  df_econ[column].iloc[value[0]] = int(value[1].replace(\" \",\"\"))\n",
      "C:\\Users\\laptop\\AppData\\Local\\Temp\\ipykernel_12992\\1455800995.py:6: SettingWithCopyWarning: \n",
      "A value is trying to be set on a copy of a slice from a DataFrame\n",
      "\n",
      "See the caveats in the documentation: https://pandas.pydata.org/pandas-docs/stable/user_guide/indexing.html#returning-a-view-versus-a-copy\n",
      "  df_econ[column].iloc[value[0]] = np.nan\n"
     ]
    }
   ],
   "source": [
    "size = ['TURN', 'TASS', 'CF', 'EC', 'EM']\n",
    "\n",
    "for column in size:\n",
    "    for value in enumerate(df_econ[column]):\n",
    "        if type(value[1]) == float:\n",
    "            df_econ[column].iloc[value[0]] = np.nan\n",
    "        else:\n",
    "            df_econ[column].iloc[value[0]] = int(value[1].replace(\" \",\"\"))"
   ]
  },
  {
   "cell_type": "code",
   "execution_count": 11,
   "id": "3e451502",
   "metadata": {},
   "outputs": [],
   "source": [
    "# Treats the NA in column with company name and BvD-code in the main dataframe\n",
    "df['Comp_Name'].fillna(method='ffill', inplace=True)\n",
    "df['BvD'].fillna(method='ffill', inplace=True)"
   ]
  },
  {
   "cell_type": "markdown",
   "id": "0a027c28",
   "metadata": {},
   "source": [
    "###### Use the attributes from another study on Interlocks"
   ]
  },
  {
   "cell_type": "code",
   "execution_count": 12,
   "id": "d033c170",
   "metadata": {},
   "outputs": [],
   "source": [
    "attributes = pd.read_csv('Data/Attributes.csv')"
   ]
  },
  {
   "cell_type": "code",
   "execution_count": 13,
   "id": "395122ec",
   "metadata": {},
   "outputs": [],
   "source": [
    "attributes.set_index(attributes['BvD'].map(di_all), inplace=True)"
   ]
  },
  {
   "cell_type": "code",
   "execution_count": 14,
   "id": "69a18845",
   "metadata": {},
   "outputs": [],
   "source": [
    "attributes.drop(['Id','BvD'], axis=1, inplace=True)"
   ]
  },
  {
   "cell_type": "markdown",
   "id": "5c8cfc1b",
   "metadata": {},
   "source": [
    "## Creating separate dataframes for links with shareholders and subsidiaries"
   ]
  },
  {
   "cell_type": "code",
   "execution_count": 15,
   "id": "ec7c3d75",
   "metadata": {},
   "outputs": [],
   "source": [
    "import copy\n",
    "df_sub = copy.copy(df[['Comp_Name', 'BvD','Sub_BvD', 'Sub_%']].dropna(subset='Sub_BvD')).drop('Comp_Name', axis=1)\n",
    "df_sha = copy.copy(df[['Comp_Name', 'BvD','Sha_BvD', 'Sha_%',]].dropna(subset='Sha_BvD')).drop('Comp_Name', axis=1)"
   ]
  },
  {
   "cell_type": "markdown",
   "id": "9bb95f05",
   "metadata": {},
   "source": [
    "### Subsidiaries Dataframe"
   ]
  },
  {
   "cell_type": "code",
   "execution_count": 16,
   "id": "3c6affd9",
   "metadata": {
    "scrolled": true
   },
   "outputs": [
    {
     "data": {
      "text/html": [
       "<div>\n",
       "<style scoped>\n",
       "    .dataframe tbody tr th:only-of-type {\n",
       "        vertical-align: middle;\n",
       "    }\n",
       "\n",
       "    .dataframe tbody tr th {\n",
       "        vertical-align: top;\n",
       "    }\n",
       "\n",
       "    .dataframe thead th {\n",
       "        text-align: right;\n",
       "    }\n",
       "</style>\n",
       "<table border=\"1\" class=\"dataframe\">\n",
       "  <thead>\n",
       "    <tr style=\"text-align: right;\">\n",
       "      <th></th>\n",
       "      <th>BvD</th>\n",
       "      <th>Sub_BvD</th>\n",
       "      <th>Sub_%</th>\n",
       "    </tr>\n",
       "  </thead>\n",
       "  <tbody>\n",
       "    <tr>\n",
       "      <th>1.0</th>\n",
       "      <td>NL24288945</td>\n",
       "      <td>LULB51757</td>\n",
       "      <td>100.00</td>\n",
       "    </tr>\n",
       "    <tr>\n",
       "      <th>NaN</th>\n",
       "      <td>NL24288945</td>\n",
       "      <td>DEFEB14827</td>\n",
       "      <td>100.00</td>\n",
       "    </tr>\n",
       "    <tr>\n",
       "      <th>NaN</th>\n",
       "      <td>NL24288945</td>\n",
       "      <td>GB02449259</td>\n",
       "      <td>100.00</td>\n",
       "    </tr>\n",
       "    <tr>\n",
       "      <th>NaN</th>\n",
       "      <td>NL24288945</td>\n",
       "      <td>NL28086907</td>\n",
       "      <td>100.00</td>\n",
       "    </tr>\n",
       "    <tr>\n",
       "      <th>NaN</th>\n",
       "      <td>NL24288945</td>\n",
       "      <td>AU2-88271</td>\n",
       "      <td>100.00</td>\n",
       "    </tr>\n",
       "  </tbody>\n",
       "</table>\n",
       "</div>"
      ],
      "text/plain": [
       "            BvD     Sub_BvD   Sub_%\n",
       "1.0  NL24288945   LULB51757  100.00\n",
       "NaN  NL24288945  DEFEB14827  100.00\n",
       "NaN  NL24288945  GB02449259  100.00\n",
       "NaN  NL24288945  NL28086907  100.00\n",
       "NaN  NL24288945   AU2-88271  100.00"
      ]
     },
     "execution_count": 16,
     "metadata": {},
     "output_type": "execute_result"
    }
   ],
   "source": [
    "df_sub.head()"
   ]
  },
  {
   "cell_type": "markdown",
   "id": "d08c65c1",
   "metadata": {},
   "source": [
    "#### Checking for non-numeric values"
   ]
  },
  {
   "cell_type": "code",
   "execution_count": 17,
   "id": "c2ad386d",
   "metadata": {
    "scrolled": false
   },
   "outputs": [
    {
     "data": {
      "text/plain": [
       "WO    54\n",
       "MO    13\n",
       "NG     9\n",
       "VE     3\n",
       "Name: Sub_%, dtype: int64"
      ]
     },
     "execution_count": 17,
     "metadata": {},
     "output_type": "execute_result"
    }
   ],
   "source": [
    "df_sub[(df_sub['Sub_%'].str.isalpha())]['Sub_%'].value_counts()"
   ]
  },
  {
   "cell_type": "markdown",
   "id": "65e298f1",
   "metadata": {},
   "source": [
    "#### Changing strings into numeric values"
   ]
  },
  {
   "cell_type": "code",
   "execution_count": 18,
   "id": "c80d6412",
   "metadata": {
    "scrolled": true
   },
   "outputs": [],
   "source": [
    "# Converting entire cells\n",
    "df_sub['Sub_%'].replace({\n",
    "    'WO': 100,\n",
    "    'MO': 51,\n",
    "    'NG': 0.01,\n",
    "    'VE': 0.01,\n",
    "    '-': 0\n",
    "}, \n",
    "                        inplace=True)\n",
    "\n",
    "# Removing special signs from values\n",
    "import regex\n",
    "df_sub['Sub_%'] = df_sub['Sub_%'].replace('[<>]+','',regex=True).astype(float)"
   ]
  },
  {
   "cell_type": "code",
   "execution_count": 19,
   "id": "a47827e7",
   "metadata": {},
   "outputs": [
    {
     "data": {
      "text/html": [
       "<div>\n",
       "<style scoped>\n",
       "    .dataframe tbody tr th:only-of-type {\n",
       "        vertical-align: middle;\n",
       "    }\n",
       "\n",
       "    .dataframe tbody tr th {\n",
       "        vertical-align: top;\n",
       "    }\n",
       "\n",
       "    .dataframe thead th {\n",
       "        text-align: right;\n",
       "    }\n",
       "</style>\n",
       "<table border=\"1\" class=\"dataframe\">\n",
       "  <thead>\n",
       "    <tr style=\"text-align: right;\">\n",
       "      <th></th>\n",
       "      <th>source</th>\n",
       "      <th>target</th>\n",
       "      <th>weight</th>\n",
       "    </tr>\n",
       "  </thead>\n",
       "  <tbody>\n",
       "    <tr>\n",
       "      <th>1.0</th>\n",
       "      <td>Targi_109</td>\n",
       "      <td>Neigh_152</td>\n",
       "      <td>100.0</td>\n",
       "    </tr>\n",
       "    <tr>\n",
       "      <th>NaN</th>\n",
       "      <td>Targi_109</td>\n",
       "      <td>Neigh_258</td>\n",
       "      <td>100.0</td>\n",
       "    </tr>\n",
       "    <tr>\n",
       "      <th>NaN</th>\n",
       "      <td>Targi_109</td>\n",
       "      <td>Neigh_271</td>\n",
       "      <td>100.0</td>\n",
       "    </tr>\n",
       "    <tr>\n",
       "      <th>NaN</th>\n",
       "      <td>Targi_109</td>\n",
       "      <td>Targi_90</td>\n",
       "      <td>100.0</td>\n",
       "    </tr>\n",
       "    <tr>\n",
       "      <th>NaN</th>\n",
       "      <td>Targi_109</td>\n",
       "      <td>Neigh_675</td>\n",
       "      <td>100.0</td>\n",
       "    </tr>\n",
       "  </tbody>\n",
       "</table>\n",
       "</div>"
      ],
      "text/plain": [
       "        source     target  weight\n",
       "1.0  Targi_109  Neigh_152   100.0\n",
       "NaN  Targi_109  Neigh_258   100.0\n",
       "NaN  Targi_109  Neigh_271   100.0\n",
       "NaN  Targi_109   Targi_90   100.0\n",
       "NaN  Targi_109  Neigh_675   100.0"
      ]
     },
     "execution_count": 19,
     "metadata": {},
     "output_type": "execute_result"
    }
   ],
   "source": [
    "# Renames columns\n",
    "df_sub.insert(1, 'source', df_sub['BvD'].map(di_all))\n",
    "df_sub.insert(2, 'target', df_sub['Sub_BvD'].map(di_all))\n",
    "df_sub.rename(columns={'Sub_%': 'weight'}, inplace=True)\n",
    "df_sub.drop(['BvD', 'Sub_BvD'], axis=1, inplace=True)\n",
    "\n",
    "# Keeps only present links (Drops Nans and weight 0)\n",
    "df_sub.dropna(inplace=True)\n",
    "\n",
    "df_sub = df_sub[df_sub['weight'] > 0]\n",
    "df_sub.head()"
   ]
  },
  {
   "cell_type": "markdown",
   "id": "789651cf",
   "metadata": {},
   "source": [
    "### Shareholders Dataframe"
   ]
  },
  {
   "cell_type": "markdown",
   "id": "cb682c42",
   "metadata": {},
   "source": [
    "#### Checking for non-numeric values"
   ]
  },
  {
   "cell_type": "code",
   "execution_count": 20,
   "id": "4f627689",
   "metadata": {},
   "outputs": [
    {
     "data": {
      "text/plain": [
       "WO     40\n",
       "NG     32\n",
       "FC     11\n",
       "MO      9\n",
       "GP      9\n",
       "BR      3\n",
       "T       3\n",
       "FME     1\n",
       "Name: Sha_%, dtype: int64"
      ]
     },
     "execution_count": 20,
     "metadata": {},
     "output_type": "execute_result"
    }
   ],
   "source": [
    "df_sha[(df_sha['Sha_%'].str.isalpha())]['Sha_%'].value_counts()"
   ]
  },
  {
   "cell_type": "code",
   "execution_count": 21,
   "id": "4751f10c",
   "metadata": {},
   "outputs": [],
   "source": [
    "# Converting entire cells\n",
    "df_sha['Sha_%'].replace({\n",
    "    'WO': 100,\n",
    "    'MO': 51,\n",
    "    'NG': 0.01,\n",
    "    'VE': 0.01,\n",
    "    'FC': 0.01,\n",
    "    'GP': 50,\n",
    "    'BR': 0.01,\n",
    "    'T': 0.01,\n",
    "    'FME': 0.01,\n",
    "    '-': 0\n",
    "}, \n",
    "                        inplace=True)\n",
    "\n",
    "# 'WO': Whole ownership,\n",
    "# 'MO': Major ownership,\n",
    "# 'NG': Negligable,\n",
    "# 'VE': ? (Venture Equity?),\n",
    "# 'FC': ?,\n",
    "# 'GP': General partnership,\n",
    "# 'BR': Business Relief,\n",
    "# 'T': ?,\n",
    "# 'FME': ? "
   ]
  },
  {
   "cell_type": "code",
   "execution_count": 22,
   "id": "0b2283fc",
   "metadata": {},
   "outputs": [],
   "source": [
    "# Removing special signs from values\n",
    "import regex\n",
    "df_sha['Sha_%'] = df_sha['Sha_%'].replace('[<>]+','',regex=True).astype(float)"
   ]
  },
  {
   "cell_type": "code",
   "execution_count": 23,
   "id": "2b1424ae",
   "metadata": {},
   "outputs": [
    {
     "data": {
      "text/html": [
       "<div>\n",
       "<style scoped>\n",
       "    .dataframe tbody tr th:only-of-type {\n",
       "        vertical-align: middle;\n",
       "    }\n",
       "\n",
       "    .dataframe tbody tr th {\n",
       "        vertical-align: top;\n",
       "    }\n",
       "\n",
       "    .dataframe thead th {\n",
       "        text-align: right;\n",
       "    }\n",
       "</style>\n",
       "<table border=\"1\" class=\"dataframe\">\n",
       "  <thead>\n",
       "    <tr style=\"text-align: right;\">\n",
       "      <th></th>\n",
       "      <th>source</th>\n",
       "      <th>target</th>\n",
       "      <th>weight</th>\n",
       "    </tr>\n",
       "  </thead>\n",
       "  <tbody>\n",
       "    <tr>\n",
       "      <th>1.0</th>\n",
       "      <td>Neigh_1991</td>\n",
       "      <td>Targi_109</td>\n",
       "      <td>10.90</td>\n",
       "    </tr>\n",
       "    <tr>\n",
       "      <th>NaN</th>\n",
       "      <td>Neigh_4388</td>\n",
       "      <td>Targi_109</td>\n",
       "      <td>10.90</td>\n",
       "    </tr>\n",
       "    <tr>\n",
       "      <th>NaN</th>\n",
       "      <td>Neigh_1287</td>\n",
       "      <td>Targi_109</td>\n",
       "      <td>9.63</td>\n",
       "    </tr>\n",
       "    <tr>\n",
       "      <th>NaN</th>\n",
       "      <td>Neigh_4367</td>\n",
       "      <td>Targi_109</td>\n",
       "      <td>4.12</td>\n",
       "    </tr>\n",
       "    <tr>\n",
       "      <th>NaN</th>\n",
       "      <td>Neigh_4520</td>\n",
       "      <td>Targi_109</td>\n",
       "      <td>3.02</td>\n",
       "    </tr>\n",
       "  </tbody>\n",
       "</table>\n",
       "</div>"
      ],
      "text/plain": [
       "         source     target  weight\n",
       "1.0  Neigh_1991  Targi_109   10.90\n",
       "NaN  Neigh_4388  Targi_109   10.90\n",
       "NaN  Neigh_1287  Targi_109    9.63\n",
       "NaN  Neigh_4367  Targi_109    4.12\n",
       "NaN  Neigh_4520  Targi_109    3.02"
      ]
     },
     "execution_count": 23,
     "metadata": {},
     "output_type": "execute_result"
    }
   ],
   "source": [
    "# Renames columns\n",
    "df_sha.insert(1, 'source', df_sha['Sha_BvD'].map(di_all))\n",
    "df_sha.insert(2, 'target', df_sha['BvD'].map(di_all))\n",
    "df_sha.rename(columns={'Sha_%': 'weight'}, inplace=True)\n",
    "df_sha.drop(['BvD', 'Sha_BvD'], axis=1, inplace=True)\n",
    "\n",
    "# Keeps only present links (Drops Nans and weight 0)\n",
    "df_sha.dropna(inplace=True)\n",
    "\n",
    "df_sha = df_sha[df_sha['weight'] > 0]\n",
    "df_sha.head()"
   ]
  },
  {
   "cell_type": "markdown",
   "id": "5447bf6a",
   "metadata": {},
   "source": [
    "### All links joined"
   ]
  },
  {
   "cell_type": "code",
   "execution_count": 24,
   "id": "3d6af1b4",
   "metadata": {},
   "outputs": [],
   "source": [
    "df_EandN = pd.concat([df_sha, df_sub]).drop_duplicates(subset=['source','target'])"
   ]
  },
  {
   "cell_type": "code",
   "execution_count": 25,
   "id": "369a3539",
   "metadata": {},
   "outputs": [
    {
     "data": {
      "text/html": [
       "<div>\n",
       "<style scoped>\n",
       "    .dataframe tbody tr th:only-of-type {\n",
       "        vertical-align: middle;\n",
       "    }\n",
       "\n",
       "    .dataframe tbody tr th {\n",
       "        vertical-align: top;\n",
       "    }\n",
       "\n",
       "    .dataframe thead th {\n",
       "        text-align: right;\n",
       "    }\n",
       "</style>\n",
       "<table border=\"1\" class=\"dataframe\">\n",
       "  <thead>\n",
       "    <tr style=\"text-align: right;\">\n",
       "      <th></th>\n",
       "      <th>source</th>\n",
       "      <th>target</th>\n",
       "      <th>weight</th>\n",
       "    </tr>\n",
       "  </thead>\n",
       "  <tbody>\n",
       "    <tr>\n",
       "      <th>1.0</th>\n",
       "      <td>Neigh_1991</td>\n",
       "      <td>Targi_109</td>\n",
       "      <td>10.90</td>\n",
       "    </tr>\n",
       "    <tr>\n",
       "      <th>NaN</th>\n",
       "      <td>Neigh_4388</td>\n",
       "      <td>Targi_109</td>\n",
       "      <td>10.90</td>\n",
       "    </tr>\n",
       "    <tr>\n",
       "      <th>NaN</th>\n",
       "      <td>Neigh_1287</td>\n",
       "      <td>Targi_109</td>\n",
       "      <td>9.63</td>\n",
       "    </tr>\n",
       "    <tr>\n",
       "      <th>NaN</th>\n",
       "      <td>Neigh_4367</td>\n",
       "      <td>Targi_109</td>\n",
       "      <td>4.12</td>\n",
       "    </tr>\n",
       "    <tr>\n",
       "      <th>NaN</th>\n",
       "      <td>Neigh_4520</td>\n",
       "      <td>Targi_109</td>\n",
       "      <td>3.02</td>\n",
       "    </tr>\n",
       "  </tbody>\n",
       "</table>\n",
       "</div>"
      ],
      "text/plain": [
       "         source     target  weight\n",
       "1.0  Neigh_1991  Targi_109   10.90\n",
       "NaN  Neigh_4388  Targi_109   10.90\n",
       "NaN  Neigh_1287  Targi_109    9.63\n",
       "NaN  Neigh_4367  Targi_109    4.12\n",
       "NaN  Neigh_4520  Targi_109    3.02"
      ]
     },
     "execution_count": 25,
     "metadata": {},
     "output_type": "execute_result"
    }
   ],
   "source": [
    "df_EandN.head()"
   ]
  },
  {
   "cell_type": "code",
   "execution_count": 26,
   "id": "59a6bbbb",
   "metadata": {},
   "outputs": [
    {
     "name": "stdout",
     "output_type": "stream",
     "text": [
      "Sha links: 1957\n",
      "Sub links: 1829\n",
      "Sum of links: 3786\n",
      "All links filtered: 3626\n"
     ]
    }
   ],
   "source": [
    "print(f\"Sha links: {len(df_sha)}\")\n",
    "print(f\"Sub links: {len(df_sub)}\")\n",
    "print(f\"Sum of links: {len(df_sha) + len(df_sub)}\")\n",
    "print(f\"All links filtered: {len(df_EandN)}\")"
   ]
  },
  {
   "cell_type": "markdown",
   "id": "540587d9",
   "metadata": {},
   "source": [
    "### % turned into share of EC"
   ]
  },
  {
   "cell_type": "code",
   "execution_count": 27,
   "id": "659092e9",
   "metadata": {},
   "outputs": [
    {
     "data": {
      "text/html": [
       "<div>\n",
       "<style scoped>\n",
       "    .dataframe tbody tr th:only-of-type {\n",
       "        vertical-align: middle;\n",
       "    }\n",
       "\n",
       "    .dataframe tbody tr th {\n",
       "        vertical-align: top;\n",
       "    }\n",
       "\n",
       "    .dataframe thead th {\n",
       "        text-align: right;\n",
       "    }\n",
       "</style>\n",
       "<table border=\"1\" class=\"dataframe\">\n",
       "  <thead>\n",
       "    <tr style=\"text-align: right;\">\n",
       "      <th></th>\n",
       "      <th>source</th>\n",
       "      <th>target</th>\n",
       "      <th>weight</th>\n",
       "      <th>EC</th>\n",
       "    </tr>\n",
       "  </thead>\n",
       "  <tbody>\n",
       "    <tr>\n",
       "      <th>1.0</th>\n",
       "      <td>Neigh_1991</td>\n",
       "      <td>Targi_109</td>\n",
       "      <td>10.90</td>\n",
       "      <td>7.03116</td>\n",
       "    </tr>\n",
       "    <tr>\n",
       "      <th>NaN</th>\n",
       "      <td>Neigh_4388</td>\n",
       "      <td>Targi_109</td>\n",
       "      <td>10.90</td>\n",
       "      <td>7.03116</td>\n",
       "    </tr>\n",
       "    <tr>\n",
       "      <th>NaN</th>\n",
       "      <td>Neigh_1287</td>\n",
       "      <td>Targi_109</td>\n",
       "      <td>9.63</td>\n",
       "      <td>7.03116</td>\n",
       "    </tr>\n",
       "    <tr>\n",
       "      <th>NaN</th>\n",
       "      <td>Neigh_4367</td>\n",
       "      <td>Targi_109</td>\n",
       "      <td>4.12</td>\n",
       "      <td>7.03116</td>\n",
       "    </tr>\n",
       "    <tr>\n",
       "      <th>NaN</th>\n",
       "      <td>Neigh_4520</td>\n",
       "      <td>Targi_109</td>\n",
       "      <td>3.02</td>\n",
       "      <td>7.03116</td>\n",
       "    </tr>\n",
       "  </tbody>\n",
       "</table>\n",
       "</div>"
      ],
      "text/plain": [
       "         source     target  weight       EC\n",
       "1.0  Neigh_1991  Targi_109   10.90  7.03116\n",
       "NaN  Neigh_4388  Targi_109   10.90  7.03116\n",
       "NaN  Neigh_1287  Targi_109    9.63  7.03116\n",
       "NaN  Neigh_4367  Targi_109    4.12  7.03116\n",
       "NaN  Neigh_4520  Targi_109    3.02  7.03116"
      ]
     },
     "execution_count": 27,
     "metadata": {},
     "output_type": "execute_result"
    }
   ],
   "source": [
    "df_EandN = df_EandN.merge(attributes['EC'] , how='left', left_on='target', right_index=True)\n",
    "df_EandN.head()"
   ]
  },
  {
   "cell_type": "code",
   "execution_count": 28,
   "id": "cf57b153",
   "metadata": {},
   "outputs": [],
   "source": [
    "df_EandN['weight'] = (df_EandN['weight'] * df_EandN['EC'])/100\n",
    "df_EandN.drop('EC', axis=1, inplace=True)"
   ]
  },
  {
   "cell_type": "code",
   "execution_count": 29,
   "id": "62a34807",
   "metadata": {},
   "outputs": [
    {
     "data": {
      "text/html": [
       "<div>\n",
       "<style scoped>\n",
       "    .dataframe tbody tr th:only-of-type {\n",
       "        vertical-align: middle;\n",
       "    }\n",
       "\n",
       "    .dataframe tbody tr th {\n",
       "        vertical-align: top;\n",
       "    }\n",
       "\n",
       "    .dataframe thead th {\n",
       "        text-align: right;\n",
       "    }\n",
       "</style>\n",
       "<table border=\"1\" class=\"dataframe\">\n",
       "  <thead>\n",
       "    <tr style=\"text-align: right;\">\n",
       "      <th></th>\n",
       "      <th>source</th>\n",
       "      <th>target</th>\n",
       "      <th>weight</th>\n",
       "    </tr>\n",
       "  </thead>\n",
       "  <tbody>\n",
       "    <tr>\n",
       "      <th>1.0</th>\n",
       "      <td>Neigh_1991</td>\n",
       "      <td>Targi_109</td>\n",
       "      <td>0.766396</td>\n",
       "    </tr>\n",
       "    <tr>\n",
       "      <th>NaN</th>\n",
       "      <td>Neigh_4388</td>\n",
       "      <td>Targi_109</td>\n",
       "      <td>0.766396</td>\n",
       "    </tr>\n",
       "    <tr>\n",
       "      <th>NaN</th>\n",
       "      <td>Neigh_1287</td>\n",
       "      <td>Targi_109</td>\n",
       "      <td>0.677101</td>\n",
       "    </tr>\n",
       "    <tr>\n",
       "      <th>NaN</th>\n",
       "      <td>Neigh_4367</td>\n",
       "      <td>Targi_109</td>\n",
       "      <td>0.289684</td>\n",
       "    </tr>\n",
       "    <tr>\n",
       "      <th>NaN</th>\n",
       "      <td>Neigh_4520</td>\n",
       "      <td>Targi_109</td>\n",
       "      <td>0.212341</td>\n",
       "    </tr>\n",
       "  </tbody>\n",
       "</table>\n",
       "</div>"
      ],
      "text/plain": [
       "         source     target    weight\n",
       "1.0  Neigh_1991  Targi_109  0.766396\n",
       "NaN  Neigh_4388  Targi_109  0.766396\n",
       "NaN  Neigh_1287  Targi_109  0.677101\n",
       "NaN  Neigh_4367  Targi_109  0.289684\n",
       "NaN  Neigh_4520  Targi_109  0.212341"
      ]
     },
     "execution_count": 29,
     "metadata": {},
     "output_type": "execute_result"
    }
   ],
   "source": [
    "df_EandN.head()"
   ]
  },
  {
   "cell_type": "markdown",
   "id": "eac57503",
   "metadata": {},
   "source": [
    "### Targi extracted"
   ]
  },
  {
   "cell_type": "code",
   "execution_count": 30,
   "id": "12707070",
   "metadata": {},
   "outputs": [],
   "source": [
    "# Extracting EASIN only links\n",
    "newDict = { key:value for (key,value) in di_all.items() if str(value).startswith('Targi')}\n",
    "\n",
    "df_EASIN = df_EandN[(df_EandN['source'].isin(newDict.values())) &\n",
    "                    (df_EandN['target'].isin(newDict.values()))].reset_index(drop=True)"
   ]
  },
  {
   "cell_type": "code",
   "execution_count": 31,
   "id": "ff2f3aaf",
   "metadata": {},
   "outputs": [
    {
     "data": {
      "text/html": [
       "<div>\n",
       "<style scoped>\n",
       "    .dataframe tbody tr th:only-of-type {\n",
       "        vertical-align: middle;\n",
       "    }\n",
       "\n",
       "    .dataframe tbody tr th {\n",
       "        vertical-align: top;\n",
       "    }\n",
       "\n",
       "    .dataframe thead th {\n",
       "        text-align: right;\n",
       "    }\n",
       "</style>\n",
       "<table border=\"1\" class=\"dataframe\">\n",
       "  <thead>\n",
       "    <tr style=\"text-align: right;\">\n",
       "      <th></th>\n",
       "      <th>source</th>\n",
       "      <th>target</th>\n",
       "      <th>weight</th>\n",
       "    </tr>\n",
       "  </thead>\n",
       "  <tbody>\n",
       "    <tr>\n",
       "      <th>0</th>\n",
       "      <td>Targi_109</td>\n",
       "      <td>Targi_87</td>\n",
       "      <td>6.690654</td>\n",
       "    </tr>\n",
       "    <tr>\n",
       "      <th>1</th>\n",
       "      <td>Targi_91</td>\n",
       "      <td>Targi_87</td>\n",
       "      <td>0.297206</td>\n",
       "    </tr>\n",
       "    <tr>\n",
       "      <th>2</th>\n",
       "      <td>Targi_87</td>\n",
       "      <td>Targi_104</td>\n",
       "      <td>7.024284</td>\n",
       "    </tr>\n",
       "    <tr>\n",
       "      <th>3</th>\n",
       "      <td>Targi_104</td>\n",
       "      <td>Targi_105</td>\n",
       "      <td>6.120289</td>\n",
       "    </tr>\n",
       "    <tr>\n",
       "      <th>4</th>\n",
       "      <td>Targi_927</td>\n",
       "      <td>Targi_932</td>\n",
       "      <td>6.210901</td>\n",
       "    </tr>\n",
       "  </tbody>\n",
       "</table>\n",
       "</div>"
      ],
      "text/plain": [
       "      source     target    weight\n",
       "0  Targi_109   Targi_87  6.690654\n",
       "1   Targi_91   Targi_87  0.297206\n",
       "2   Targi_87  Targi_104  7.024284\n",
       "3  Targi_104  Targi_105  6.120289\n",
       "4  Targi_927  Targi_932  6.210901"
      ]
     },
     "execution_count": 31,
     "metadata": {},
     "output_type": "execute_result"
    }
   ],
   "source": [
    "df_EASIN.head()"
   ]
  },
  {
   "cell_type": "markdown",
   "id": "934a4452",
   "metadata": {},
   "source": [
    "## Visualisation"
   ]
  },
  {
   "cell_type": "code",
   "execution_count": 32,
   "id": "ad239a99",
   "metadata": {},
   "outputs": [],
   "source": [
    "# #Imports\n",
    "# import networkx as nx\n",
    "# from pyvis.network import Network"
   ]
  },
  {
   "cell_type": "code",
   "execution_count": 33,
   "id": "ec8309b9",
   "metadata": {},
   "outputs": [],
   "source": [
    "# # Visualisation of PIN\n",
    "# G1 = nx.from_pandas_edgelist(df_EASIN,\n",
    "#                            source='source',\n",
    "#                            target='target',\n",
    "#                            edge_attr='weight')\n",
    "\n",
    "# net = Network(notebook=True)\n",
    "# net.from_nx(G1)\n",
    "# net.show('example.html')"
   ]
  },
  {
   "cell_type": "markdown",
   "id": "a31fb123",
   "metadata": {},
   "source": [
    "## Preparation of the network"
   ]
  },
  {
   "cell_type": "code",
   "execution_count": 34,
   "id": "52b8401b",
   "metadata": {},
   "outputs": [],
   "source": [
    "from itertools import product\n",
    "\n",
    "def allPossibleEdges(cdbk):\n",
    "    \"\"\"Function to create all possible links in the network and mark them with 0,\n",
    "    which indicates they are possible, but not present yet (it is equal to n*(n-1))\"\"\"\n",
    "    \n",
    "    companies = list(cdbk.index)\n",
    "    all_edges = list(product(companies, companies))\n",
    "        \n",
    "    source = []\n",
    "    target = []\n",
    "    weights = []\n",
    "    \n",
    "    for edge in all_edges:\n",
    "        if edge[0] != edge[1]:\n",
    "            source.append(edge[0])\n",
    "            target.append(edge[1])\n",
    "            weights.append(0)\n",
    "            \n",
    "    edges = pd.DataFrame({'source': source, 'target': target, 'weight': weights})\n",
    "        \n",
    "    return edges"
   ]
  },
  {
   "cell_type": "code",
   "execution_count": 35,
   "id": "4ac19cf5",
   "metadata": {},
   "outputs": [],
   "source": [
    "all_links = allPossibleEdges(cdbk_all[cdbk_all.index.str.startswith('Targi')])"
   ]
  },
  {
   "cell_type": "code",
   "execution_count": 36,
   "id": "e9cad24b",
   "metadata": {},
   "outputs": [],
   "source": [
    "def allEdges(df1, df2):\n",
    "    \"\"\"\n",
    "    Combines the dataframes of existing links with possible links, and thus creates two classes 0 and 1 for ML\n",
    "    \"\"\"    \n",
    "    combined = pd.concat([df1, df2])\n",
    "    combined = combined.groupby(by=['source','target'], as_index=False).agg({'weight': 'sum'}).sort_values(by=['weight'], ascending=False)\n",
    "    \n",
    "    return combined"
   ]
  },
  {
   "cell_type": "code",
   "execution_count": 37,
   "id": "877b3fc4",
   "metadata": {},
   "outputs": [],
   "source": [
    "df = allEdges(all_links, df_EASIN)"
   ]
  },
  {
   "cell_type": "markdown",
   "id": "991ddc05",
   "metadata": {},
   "source": [
    "# All dataframe"
   ]
  },
  {
   "cell_type": "markdown",
   "id": "4843c4e5",
   "metadata": {},
   "source": [
    "## Matching 'source' and 'target' with their attributes"
   ]
  },
  {
   "cell_type": "code",
   "execution_count": 38,
   "id": "cf767233",
   "metadata": {},
   "outputs": [],
   "source": [
    "df = pd.merge(df, attributes, left_on=df['source'], right_index=True, how='left')\n",
    "df = pd.merge(df, attributes, left_on=df['target'], right_index=True, how='left')\n",
    "df.insert(0,'couple','')\n",
    "df['couple'] = df['source'].astype(str) + \":\" + df['target'].astype(str)\n",
    "df.drop(['source', 'target'], axis=1, inplace=True)\n",
    "df.reset_index(drop=True, inplace=True)"
   ]
  },
  {
   "cell_type": "markdown",
   "id": "6bd15764",
   "metadata": {},
   "source": [
    "## Dyadic feature - Same first word (showing if companies belong to the same business group - Airbus, Safran, BAE, etc.)"
   ]
  },
  {
   "cell_type": "code",
   "execution_count": 39,
   "id": "1fa844e9",
   "metadata": {},
   "outputs": [
    {
     "data": {
      "text/html": [
       "<div>\n",
       "<style scoped>\n",
       "    .dataframe tbody tr th:only-of-type {\n",
       "        vertical-align: middle;\n",
       "    }\n",
       "\n",
       "    .dataframe tbody tr th {\n",
       "        vertical-align: top;\n",
       "    }\n",
       "\n",
       "    .dataframe thead th {\n",
       "        text-align: right;\n",
       "    }\n",
       "</style>\n",
       "<table border=\"1\" class=\"dataframe\">\n",
       "  <thead>\n",
       "    <tr style=\"text-align: right;\">\n",
       "      <th></th>\n",
       "      <th>couple</th>\n",
       "      <th>weight</th>\n",
       "      <th>Name_x</th>\n",
       "      <th>Country_Id_x</th>\n",
       "      <th>TURN_x</th>\n",
       "      <th>P/L_bef_tax_x</th>\n",
       "      <th>Net_inc_x</th>\n",
       "      <th>CF_x</th>\n",
       "      <th>TASS_x</th>\n",
       "      <th>EC_x</th>\n",
       "      <th>...</th>\n",
       "      <th>TASS_y</th>\n",
       "      <th>EC_y</th>\n",
       "      <th>Ratio_y</th>\n",
       "      <th>Prof_marg_y</th>\n",
       "      <th>ROE_y</th>\n",
       "      <th>ROCE_y</th>\n",
       "      <th>Solvency_y</th>\n",
       "      <th>EM_y</th>\n",
       "      <th>point_y</th>\n",
       "      <th>Cluster_y</th>\n",
       "    </tr>\n",
       "  </thead>\n",
       "  <tbody>\n",
       "    <tr>\n",
       "      <th>0</th>\n",
       "      <td>Targi_87:Targi_104</td>\n",
       "      <td>7.024284</td>\n",
       "      <td>AIRBUS</td>\n",
       "      <td>FR</td>\n",
       "      <td>7.667481</td>\n",
       "      <td>4.320192</td>\n",
       "      <td>7.160447</td>\n",
       "      <td>6.161412</td>\n",
       "      <td>7.827635</td>\n",
       "      <td>7.042794</td>\n",
       "      <td>...</td>\n",
       "      <td>7.206579</td>\n",
       "      <td>7.024284</td>\n",
       "      <td>-0.194916</td>\n",
       "      <td>0.494917</td>\n",
       "      <td>0.121130</td>\n",
       "      <td>0.122687</td>\n",
       "      <td>1.181090</td>\n",
       "      <td>4.306575</td>\n",
       "      <td>(43.6044622, 1.4442469, 0.0)</td>\n",
       "      <td>25.0</td>\n",
       "    </tr>\n",
       "    <tr>\n",
       "      <th>1</th>\n",
       "      <td>Targi_109:Targi_87</td>\n",
       "      <td>6.690654</td>\n",
       "      <td>AIRBUS SE</td>\n",
       "      <td>NL</td>\n",
       "      <td>7.776242</td>\n",
       "      <td>26.573048</td>\n",
       "      <td>26.297265</td>\n",
       "      <td>6.873423</td>\n",
       "      <td>8.083651</td>\n",
       "      <td>7.031160</td>\n",
       "      <td>...</td>\n",
       "      <td>7.827635</td>\n",
       "      <td>7.042794</td>\n",
       "      <td>-0.108258</td>\n",
       "      <td>0.130759</td>\n",
       "      <td>0.094877</td>\n",
       "      <td>0.014957</td>\n",
       "      <td>-0.302614</td>\n",
       "      <td>3.951580</td>\n",
       "      <td>(43.6434, 1.37799, 0.0)</td>\n",
       "      <td>25.0</td>\n",
       "    </tr>\n",
       "    <tr>\n",
       "      <th>2</th>\n",
       "      <td>Targi_927:Targi_932</td>\n",
       "      <td>6.210901</td>\n",
       "      <td>SAFRAN</td>\n",
       "      <td>FR</td>\n",
       "      <td>7.265624</td>\n",
       "      <td>1.363836</td>\n",
       "      <td>0.216502</td>\n",
       "      <td>6.253558</td>\n",
       "      <td>7.674379</td>\n",
       "      <td>7.176948</td>\n",
       "      <td>...</td>\n",
       "      <td>7.117859</td>\n",
       "      <td>6.210901</td>\n",
       "      <td>-0.262619</td>\n",
       "      <td>0.550428</td>\n",
       "      <td>0.659872</td>\n",
       "      <td>0.423342</td>\n",
       "      <td>-0.423573</td>\n",
       "      <td>4.090152</td>\n",
       "      <td>(48.8588897, 2.3200410217200766, 0.0)</td>\n",
       "      <td>12.0</td>\n",
       "    </tr>\n",
       "    <tr>\n",
       "      <th>3</th>\n",
       "      <td>Targi_104:Targi_105</td>\n",
       "      <td>6.120289</td>\n",
       "      <td>AIRBUS OPERATIONS</td>\n",
       "      <td>FR</td>\n",
       "      <td>7.050982</td>\n",
       "      <td>5.315522</td>\n",
       "      <td>5.169968</td>\n",
       "      <td>6.293877</td>\n",
       "      <td>7.206579</td>\n",
       "      <td>7.024284</td>\n",
       "      <td>...</td>\n",
       "      <td>6.860173</td>\n",
       "      <td>6.120289</td>\n",
       "      <td>-0.173252</td>\n",
       "      <td>-0.943504</td>\n",
       "      <td>-1.928827</td>\n",
       "      <td>-0.561783</td>\n",
       "      <td>-0.248754</td>\n",
       "      <td>4.279302</td>\n",
       "      <td>(53.550341, 10.000654, 0.0)</td>\n",
       "      <td>22.0</td>\n",
       "    </tr>\n",
       "    <tr>\n",
       "      <th>4</th>\n",
       "      <td>Targi_87:Targi_95</td>\n",
       "      <td>6.094546</td>\n",
       "      <td>AIRBUS</td>\n",
       "      <td>FR</td>\n",
       "      <td>7.667481</td>\n",
       "      <td>4.320192</td>\n",
       "      <td>7.160447</td>\n",
       "      <td>6.161412</td>\n",
       "      <td>7.827635</td>\n",
       "      <td>7.042794</td>\n",
       "      <td>...</td>\n",
       "      <td>6.909535</td>\n",
       "      <td>6.363068</td>\n",
       "      <td>-0.230122</td>\n",
       "      <td>0.635250</td>\n",
       "      <td>0.295416</td>\n",
       "      <td>0.039527</td>\n",
       "      <td>0.058458</td>\n",
       "      <td>3.921946</td>\n",
       "      <td>(43.4162729, 5.2146275, 0.0)</td>\n",
       "      <td>-1.0</td>\n",
       "    </tr>\n",
       "  </tbody>\n",
       "</table>\n",
       "<p>5 rows × 34 columns</p>\n",
       "</div>"
      ],
      "text/plain": [
       "                couple    weight             Name_x Country_Id_x    TURN_x  \\\n",
       "0   Targi_87:Targi_104  7.024284             AIRBUS           FR  7.667481   \n",
       "1   Targi_109:Targi_87  6.690654          AIRBUS SE           NL  7.776242   \n",
       "2  Targi_927:Targi_932  6.210901             SAFRAN           FR  7.265624   \n",
       "3  Targi_104:Targi_105  6.120289  AIRBUS OPERATIONS           FR  7.050982   \n",
       "4    Targi_87:Targi_95  6.094546             AIRBUS           FR  7.667481   \n",
       "\n",
       "   P/L_bef_tax_x  Net_inc_x      CF_x    TASS_x      EC_x  ...    TASS_y  \\\n",
       "0       4.320192   7.160447  6.161412  7.827635  7.042794  ...  7.206579   \n",
       "1      26.573048  26.297265  6.873423  8.083651  7.031160  ...  7.827635   \n",
       "2       1.363836   0.216502  6.253558  7.674379  7.176948  ...  7.117859   \n",
       "3       5.315522   5.169968  6.293877  7.206579  7.024284  ...  6.860173   \n",
       "4       4.320192   7.160447  6.161412  7.827635  7.042794  ...  6.909535   \n",
       "\n",
       "       EC_y   Ratio_y  Prof_marg_y     ROE_y    ROCE_y Solvency_y      EM_y  \\\n",
       "0  7.024284 -0.194916     0.494917  0.121130  0.122687   1.181090  4.306575   \n",
       "1  7.042794 -0.108258     0.130759  0.094877  0.014957  -0.302614  3.951580   \n",
       "2  6.210901 -0.262619     0.550428  0.659872  0.423342  -0.423573  4.090152   \n",
       "3  6.120289 -0.173252    -0.943504 -1.928827 -0.561783  -0.248754  4.279302   \n",
       "4  6.363068 -0.230122     0.635250  0.295416  0.039527   0.058458  3.921946   \n",
       "\n",
       "                                 point_y Cluster_y  \n",
       "0           (43.6044622, 1.4442469, 0.0)      25.0  \n",
       "1                (43.6434, 1.37799, 0.0)      25.0  \n",
       "2  (48.8588897, 2.3200410217200766, 0.0)      12.0  \n",
       "3            (53.550341, 10.000654, 0.0)      22.0  \n",
       "4           (43.4162729, 5.2146275, 0.0)      -1.0  \n",
       "\n",
       "[5 rows x 34 columns]"
      ]
     },
     "execution_count": 39,
     "metadata": {},
     "output_type": "execute_result"
    }
   ],
   "source": [
    "df.head()"
   ]
  },
  {
   "cell_type": "code",
   "execution_count": 40,
   "id": "dc4a6d14",
   "metadata": {},
   "outputs": [],
   "source": [
    "df.dropna(subset=['Name_x', 'Name_y'], inplace=True)"
   ]
  },
  {
   "cell_type": "code",
   "execution_count": 41,
   "id": "7baac610",
   "metadata": {},
   "outputs": [],
   "source": [
    "df['Same_words'] = [int((x[2].split()[0]) == (x[18].split()[0])) for x in df.values]\n",
    "\n",
    "df.drop(['Name_x','Name_y'], axis=1, inplace=True)"
   ]
  },
  {
   "cell_type": "markdown",
   "id": "8b35ebbf",
   "metadata": {},
   "source": [
    "## Dyadic feature - Same cluster"
   ]
  },
  {
   "cell_type": "code",
   "execution_count": 42,
   "id": "a36821d6",
   "metadata": {},
   "outputs": [],
   "source": [
    "# For all companies that are in the same cluster put 1, otherwise 0. Cluster -1 means not-clustered companies.\n",
    "df.loc[df['Cluster_x'] == df['Cluster_y'],'Same_cluster'] = 1\n",
    "df.loc[df['Cluster_x'] != df['Cluster_y'],'Same_cluster'] = 0\n",
    "df.loc[df['Cluster_x'] == -1,'Same_cluster'] = 0\n",
    "df.loc[df['Cluster_y'] == -1,'Same_cluster'] = 0\n",
    "\n",
    "df.drop(['Cluster_x','Cluster_y'], axis=1, inplace=True)"
   ]
  },
  {
   "cell_type": "markdown",
   "id": "bc0c39c9",
   "metadata": {},
   "source": [
    "## Dyadic feature - Same country"
   ]
  },
  {
   "cell_type": "code",
   "execution_count": 43,
   "id": "51b0ab65",
   "metadata": {},
   "outputs": [],
   "source": [
    "# For all companies that are in the same country put 1, otherwise 0.\n",
    "df.loc[df['Country_Id_x'] == df['Country_Id_y'],'Same_country'] = 1\n",
    "df['Same_country'].fillna(0, inplace=True)\n",
    "\n",
    "df.drop(['Country_Id_x','Country_Id_y'], axis=1, inplace=True)"
   ]
  },
  {
   "cell_type": "markdown",
   "id": "476deb89",
   "metadata": {},
   "source": [
    "## Dyadic feature - Geographic distance between any two companies"
   ]
  },
  {
   "cell_type": "code",
   "execution_count": 44,
   "id": "c7b0daeb",
   "metadata": {},
   "outputs": [],
   "source": [
    "from math import sin, cos, sqrt, atan2, radians\n",
    "def get_geo_distance2(x, y): # x, y - two points\n",
    "    \n",
    "    lat1 = float(str(x).split()[0].replace(\"(\",\"\").replace(\",\",\"\"))\n",
    "    lon1 = float(str(x).split()[1].replace(\"(\",\"\").replace(\",\",\"\"))\n",
    "    lat2 = float(str(y).split()[0].replace(\"(\",\"\").replace(\",\",\"\"))\n",
    "    lon2 = float(str(y).split()[1].replace(\"(\",\"\").replace(\",\",\"\"))\n",
    "\n",
    "    R = 6373.0\n",
    "\n",
    "    lat1 = radians(lat1)\n",
    "    lon1 = radians(lon1)\n",
    "    lat2 = radians(lat2)\n",
    "    lon2 = radians(lon2)\n",
    "\n",
    "    dlon = lon2 - lon1\n",
    "    dlat = lat2 - lat1\n",
    "\n",
    "    a = sin(dlat / 2) ** 2 + cos(lat1) * cos(lat2) * sin(dlon / 2) ** 2\n",
    "    c = 2 * atan2(sqrt(a), sqrt(1 - a))\n",
    "\n",
    "    distance = R * c\n",
    "    return distance"
   ]
  },
  {
   "cell_type": "code",
   "execution_count": 45,
   "id": "640aed4e",
   "metadata": {},
   "outputs": [
    {
     "name": "stderr",
     "output_type": "stream",
     "text": [
      "C:\\Users\\laptop\\AppData\\Local\\Temp\\ipykernel_12992\\494052680.py:5: SettingWithCopyWarning: \n",
      "A value is trying to be set on a copy of a slice from a DataFrame\n",
      "\n",
      "See the caveats in the documentation: https://pandas.pydata.org/pandas-docs/stable/user_guide/indexing.html#returning-a-view-versus-a-copy\n",
      "  df['Distance'].iloc[row] = get_geo_distance2(df['point_x'].iloc[row], df['point_y'].iloc[row])\n"
     ]
    }
   ],
   "source": [
    "# Commented so it doesn't start at each re-run\n",
    "df.reset_index(drop=True, inplace=True)\n",
    "df['Distance'] = 0\n",
    "for row in df.index:\n",
    "    df['Distance'].iloc[row] = get_geo_distance2(df['point_x'].iloc[row], df['point_y'].iloc[row])"
   ]
  },
  {
   "cell_type": "code",
   "execution_count": 46,
   "id": "d4f145f4",
   "metadata": {},
   "outputs": [],
   "source": [
    "df.drop(['point_x', 'point_y'], axis=1, inplace=True)"
   ]
  },
  {
   "cell_type": "markdown",
   "id": "70f5e5bd",
   "metadata": {},
   "source": [
    "## Class feature - link present or not (1, 0)"
   ]
  },
  {
   "cell_type": "code",
   "execution_count": 47,
   "id": "5aa4ef44",
   "metadata": {},
   "outputs": [],
   "source": [
    "df['Link'] = np.where(df['weight'] > 0, 1, 0)\n",
    "df.drop('weight', axis=1, inplace=True)"
   ]
  },
  {
   "cell_type": "markdown",
   "id": "604e5058",
   "metadata": {},
   "source": [
    "###### The dataframe may be at this point exported and re-imported to avoid having to re-do any calculations each time"
   ]
  },
  {
   "cell_type": "code",
   "execution_count": 48,
   "id": "f434cf2c",
   "metadata": {},
   "outputs": [],
   "source": [
    "df.set_index('couple', inplace=True)\n",
    "df.to_csv('Data\\Data_complete.csv')"
   ]
  },
  {
   "cell_type": "markdown",
   "id": "11336c45",
   "metadata": {},
   "source": [
    "###### One can start from here to avoid loading all the previous steps"
   ]
  },
  {
   "cell_type": "code",
   "execution_count": 49,
   "id": "e8d4239e",
   "metadata": {},
   "outputs": [
    {
     "data": {
      "text/html": [
       "<div>\n",
       "<style scoped>\n",
       "    .dataframe tbody tr th:only-of-type {\n",
       "        vertical-align: middle;\n",
       "    }\n",
       "\n",
       "    .dataframe tbody tr th {\n",
       "        vertical-align: top;\n",
       "    }\n",
       "\n",
       "    .dataframe thead th {\n",
       "        text-align: right;\n",
       "    }\n",
       "</style>\n",
       "<table border=\"1\" class=\"dataframe\">\n",
       "  <thead>\n",
       "    <tr style=\"text-align: right;\">\n",
       "      <th></th>\n",
       "      <th>TURN_x</th>\n",
       "      <th>P/L_bef_tax_x</th>\n",
       "      <th>Net_inc_x</th>\n",
       "      <th>CF_x</th>\n",
       "      <th>TASS_x</th>\n",
       "      <th>EC_x</th>\n",
       "      <th>Ratio_x</th>\n",
       "      <th>Prof_marg_x</th>\n",
       "      <th>ROE_x</th>\n",
       "      <th>ROCE_x</th>\n",
       "      <th>...</th>\n",
       "      <th>Prof_marg_y</th>\n",
       "      <th>ROE_y</th>\n",
       "      <th>ROCE_y</th>\n",
       "      <th>Solvency_y</th>\n",
       "      <th>EM_y</th>\n",
       "      <th>Same_words</th>\n",
       "      <th>Same_cluster</th>\n",
       "      <th>Same_country</th>\n",
       "      <th>Distance</th>\n",
       "      <th>Link</th>\n",
       "    </tr>\n",
       "    <tr>\n",
       "      <th>couple</th>\n",
       "      <th></th>\n",
       "      <th></th>\n",
       "      <th></th>\n",
       "      <th></th>\n",
       "      <th></th>\n",
       "      <th></th>\n",
       "      <th></th>\n",
       "      <th></th>\n",
       "      <th></th>\n",
       "      <th></th>\n",
       "      <th></th>\n",
       "      <th></th>\n",
       "      <th></th>\n",
       "      <th></th>\n",
       "      <th></th>\n",
       "      <th></th>\n",
       "      <th></th>\n",
       "      <th></th>\n",
       "      <th></th>\n",
       "      <th></th>\n",
       "      <th></th>\n",
       "    </tr>\n",
       "  </thead>\n",
       "  <tbody>\n",
       "    <tr>\n",
       "      <th>Targi_87:Targi_104</th>\n",
       "      <td>7.667481</td>\n",
       "      <td>4.320192</td>\n",
       "      <td>7.160447</td>\n",
       "      <td>6.161412</td>\n",
       "      <td>7.827635</td>\n",
       "      <td>7.042794</td>\n",
       "      <td>-0.108258</td>\n",
       "      <td>0.130759</td>\n",
       "      <td>0.094877</td>\n",
       "      <td>0.014957</td>\n",
       "      <td>...</td>\n",
       "      <td>0.494917</td>\n",
       "      <td>0.121130</td>\n",
       "      <td>0.122687</td>\n",
       "      <td>1.181090</td>\n",
       "      <td>4.306575</td>\n",
       "      <td>1</td>\n",
       "      <td>1.0</td>\n",
       "      <td>1.0</td>\n",
       "      <td>6.871568</td>\n",
       "      <td>1</td>\n",
       "    </tr>\n",
       "    <tr>\n",
       "      <th>Targi_109:Targi_87</th>\n",
       "      <td>7.776242</td>\n",
       "      <td>26.573048</td>\n",
       "      <td>26.297265</td>\n",
       "      <td>6.873423</td>\n",
       "      <td>8.083651</td>\n",
       "      <td>7.031160</td>\n",
       "      <td>-0.258556</td>\n",
       "      <td>0.464718</td>\n",
       "      <td>0.585856</td>\n",
       "      <td>0.126467</td>\n",
       "      <td>...</td>\n",
       "      <td>0.130759</td>\n",
       "      <td>0.094877</td>\n",
       "      <td>0.014957</td>\n",
       "      <td>-0.302614</td>\n",
       "      <td>3.951580</td>\n",
       "      <td>1</td>\n",
       "      <td>0.0</td>\n",
       "      <td>0.0</td>\n",
       "      <td>975.026979</td>\n",
       "      <td>1</td>\n",
       "    </tr>\n",
       "    <tr>\n",
       "      <th>Targi_927:Targi_932</th>\n",
       "      <td>7.265624</td>\n",
       "      <td>1.363836</td>\n",
       "      <td>0.216502</td>\n",
       "      <td>6.253558</td>\n",
       "      <td>7.674379</td>\n",
       "      <td>7.176948</td>\n",
       "      <td>-0.276159</td>\n",
       "      <td>0.114772</td>\n",
       "      <td>0.023618</td>\n",
       "      <td>0.010886</td>\n",
       "      <td>...</td>\n",
       "      <td>0.550428</td>\n",
       "      <td>0.659872</td>\n",
       "      <td>0.423342</td>\n",
       "      <td>-0.423573</td>\n",
       "      <td>4.090152</td>\n",
       "      <td>1</td>\n",
       "      <td>1.0</td>\n",
       "      <td>1.0</td>\n",
       "      <td>0.000000</td>\n",
       "      <td>1</td>\n",
       "    </tr>\n",
       "    <tr>\n",
       "      <th>Targi_104:Targi_105</th>\n",
       "      <td>7.050982</td>\n",
       "      <td>5.315522</td>\n",
       "      <td>5.169968</td>\n",
       "      <td>6.293877</td>\n",
       "      <td>7.206579</td>\n",
       "      <td>7.024284</td>\n",
       "      <td>-0.194916</td>\n",
       "      <td>0.494917</td>\n",
       "      <td>0.121130</td>\n",
       "      <td>0.122687</td>\n",
       "      <td>...</td>\n",
       "      <td>-0.943504</td>\n",
       "      <td>-1.928827</td>\n",
       "      <td>-0.561783</td>\n",
       "      <td>-0.248754</td>\n",
       "      <td>4.279302</td>\n",
       "      <td>1</td>\n",
       "      <td>0.0</td>\n",
       "      <td>0.0</td>\n",
       "      <td>1270.858598</td>\n",
       "      <td>1</td>\n",
       "    </tr>\n",
       "    <tr>\n",
       "      <th>Targi_87:Targi_95</th>\n",
       "      <td>7.667481</td>\n",
       "      <td>4.320192</td>\n",
       "      <td>7.160447</td>\n",
       "      <td>6.161412</td>\n",
       "      <td>7.827635</td>\n",
       "      <td>7.042794</td>\n",
       "      <td>-0.108258</td>\n",
       "      <td>0.130759</td>\n",
       "      <td>0.094877</td>\n",
       "      <td>0.014957</td>\n",
       "      <td>...</td>\n",
       "      <td>0.635250</td>\n",
       "      <td>0.295416</td>\n",
       "      <td>0.039527</td>\n",
       "      <td>0.058458</td>\n",
       "      <td>3.921946</td>\n",
       "      <td>1</td>\n",
       "      <td>0.0</td>\n",
       "      <td>1.0</td>\n",
       "      <td>310.401060</td>\n",
       "      <td>1</td>\n",
       "    </tr>\n",
       "  </tbody>\n",
       "</table>\n",
       "<p>5 rows × 29 columns</p>\n",
       "</div>"
      ],
      "text/plain": [
       "                       TURN_x  P/L_bef_tax_x  Net_inc_x      CF_x    TASS_x  \\\n",
       "couple                                                                        \n",
       "Targi_87:Targi_104   7.667481       4.320192   7.160447  6.161412  7.827635   \n",
       "Targi_109:Targi_87   7.776242      26.573048  26.297265  6.873423  8.083651   \n",
       "Targi_927:Targi_932  7.265624       1.363836   0.216502  6.253558  7.674379   \n",
       "Targi_104:Targi_105  7.050982       5.315522   5.169968  6.293877  7.206579   \n",
       "Targi_87:Targi_95    7.667481       4.320192   7.160447  6.161412  7.827635   \n",
       "\n",
       "                         EC_x   Ratio_x  Prof_marg_x     ROE_x    ROCE_x  ...  \\\n",
       "couple                                                                    ...   \n",
       "Targi_87:Targi_104   7.042794 -0.108258     0.130759  0.094877  0.014957  ...   \n",
       "Targi_109:Targi_87   7.031160 -0.258556     0.464718  0.585856  0.126467  ...   \n",
       "Targi_927:Targi_932  7.176948 -0.276159     0.114772  0.023618  0.010886  ...   \n",
       "Targi_104:Targi_105  7.024284 -0.194916     0.494917  0.121130  0.122687  ...   \n",
       "Targi_87:Targi_95    7.042794 -0.108258     0.130759  0.094877  0.014957  ...   \n",
       "\n",
       "                     Prof_marg_y     ROE_y    ROCE_y  Solvency_y      EM_y  \\\n",
       "couple                                                                       \n",
       "Targi_87:Targi_104      0.494917  0.121130  0.122687    1.181090  4.306575   \n",
       "Targi_109:Targi_87      0.130759  0.094877  0.014957   -0.302614  3.951580   \n",
       "Targi_927:Targi_932     0.550428  0.659872  0.423342   -0.423573  4.090152   \n",
       "Targi_104:Targi_105    -0.943504 -1.928827 -0.561783   -0.248754  4.279302   \n",
       "Targi_87:Targi_95       0.635250  0.295416  0.039527    0.058458  3.921946   \n",
       "\n",
       "                     Same_words  Same_cluster  Same_country     Distance  Link  \n",
       "couple                                                                          \n",
       "Targi_87:Targi_104            1           1.0           1.0     6.871568     1  \n",
       "Targi_109:Targi_87            1           0.0           0.0   975.026979     1  \n",
       "Targi_927:Targi_932           1           1.0           1.0     0.000000     1  \n",
       "Targi_104:Targi_105           1           0.0           0.0  1270.858598     1  \n",
       "Targi_87:Targi_95             1           0.0           1.0   310.401060     1  \n",
       "\n",
       "[5 rows x 29 columns]"
      ]
     },
     "execution_count": 49,
     "metadata": {},
     "output_type": "execute_result"
    }
   ],
   "source": [
    "import numpy as np\n",
    "import pandas as pd\n",
    "df = pd.read_csv('Data\\Data_complete.csv', index_col = 0)\n",
    "df.head()"
   ]
  },
  {
   "cell_type": "markdown",
   "id": "50ec99d7",
   "metadata": {},
   "source": [
    "## ML Preparation"
   ]
  },
  {
   "cell_type": "code",
   "execution_count": 50,
   "id": "38693061",
   "metadata": {},
   "outputs": [],
   "source": [
    "from collections import Counter\n",
    "from sklearn.datasets import make_classification\n",
    "from imblearn.under_sampling import NearMiss\n",
    "from matplotlib import pyplot\n",
    "from numpy import where"
   ]
  },
  {
   "cell_type": "markdown",
   "id": "7812c78d",
   "metadata": {},
   "source": [
    "### Undersampling"
   ]
  },
  {
   "cell_type": "code",
   "execution_count": 51,
   "id": "1ef75de8",
   "metadata": {},
   "outputs": [
    {
     "name": "stdout",
     "output_type": "stream",
     "text": [
      "Counter({0: 1328119, 1: 137})\n",
      "Counter({0: 1370, 1: 137})\n"
     ]
    },
    {
     "data": {
      "image/png": "[encoded data removed]",
      "text/plain": [
       "<Figure size 640x480 with 1 Axes>"
      ]
     },
     "metadata": {},
     "output_type": "display_data"
    }
   ],
   "source": [
    "# define dataset\n",
    "X = df.drop('Link', axis=1, inplace=False).values\n",
    "y = df['Link'].values.ravel()\n",
    "# summarize class distribution\n",
    "counter = Counter(y)\n",
    "print(counter)\n",
    "# define the undersampling method\n",
    "undersample = NearMiss(version=1, n_neighbors=3, sampling_strategy=0.1)\n",
    "# transform the dataset\n",
    "X, y = undersample.fit_resample(X, y)\n",
    "# summarize the new class distribution\n",
    "counter = Counter(y)\n",
    "print(counter)\n",
    "# scatter plot of examples by class label\n",
    "for label, _ in counter.items():\n",
    "    row_ix = where(y == label)[0]\n",
    "    pyplot.scatter(X[row_ix, 0], X[row_ix, 1], label=str(label))\n",
    "pyplot.legend()\n",
    "pyplot.show()"
   ]
  },
  {
   "cell_type": "markdown",
   "id": "c98859ac",
   "metadata": {},
   "source": [
    "### Train/test split"
   ]
  },
  {
   "cell_type": "code",
   "execution_count": 52,
   "id": "724a6a91",
   "metadata": {},
   "outputs": [],
   "source": [
    "from sklearn.model_selection import train_test_split\n",
    "\n",
    "X_train, X_test, y_train, y_test = train_test_split(X, y, test_size=0.3, stratify=y)"
   ]
  },
  {
   "cell_type": "markdown",
   "id": "16f8b3d7",
   "metadata": {},
   "source": [
    "# Modelling"
   ]
  },
  {
   "cell_type": "code",
   "execution_count": 53,
   "id": "706557e2",
   "metadata": {},
   "outputs": [],
   "source": [
    "import numpy as np\n",
    "from sklearn.metrics import precision_score, recall_score, f1_score, accuracy_score, classification_report, confusion_matrix\n",
    "from sklearn.preprocessing import scale\n",
    "from sklearn.model_selection import GridSearchCV"
   ]
  },
  {
   "cell_type": "code",
   "execution_count": 54,
   "id": "716a6cac",
   "metadata": {},
   "outputs": [],
   "source": [
    "import matplotlib.pyplot as plt\n",
    "%matplotlib inline\n",
    "from sklearn.metrics import roc_curve, roc_auc_score\n",
    "\n",
    "def plot_roc_curve(y_true_bin, y_pred_proba):\n",
    "    fpr, tpr, thresholds = roc_curve(y_true_bin, y_pred_proba)\n",
    "    plt.plot(fpr, tpr, label = \"AUC = %.2f\" % roc_auc_score(y_true_bin, y_pred_proba))\n",
    "    plt.xlabel(\"FPR\")\n",
    "    plt.ylabel(\"TPR\")\n",
    "    plt.title(\"ROC\")\n",
    "    plt.plot([0, 1], [0, 1], linestyle='--')\n",
    "    plt.legend(loc=\"lower right\", prop={'size':15})\n",
    "    plt.show()\n",
    "    \n",
    "def get_features_importance (df, optimal_model,X_train):\n",
    "    '''\n",
    "    shows the graph of feature importance\n",
    "    '''\n",
    "    features = df.columns[:-1]\n",
    "    importances = optimal_model.feature_importances_\n",
    "    indices = np.argsort(importances)\n",
    "\n",
    "    plt.figure(figsize=(8,5))\n",
    "    plt.title('Feature Importance')\n",
    "    plt.barh(range(len(indices)), importances[indices], color='red', align='center')\n",
    "    plt.yticks(range(len(indices)), [features[i] for i in indices])\n",
    "    plt.xlabel('Relative Importance')\n",
    "\n",
    "    plt.show()"
   ]
  },
  {
   "cell_type": "markdown",
   "id": "da45510c",
   "metadata": {},
   "source": [
    "## Logistic Classification"
   ]
  },
  {
   "cell_type": "markdown",
   "id": "3688c043",
   "metadata": {},
   "source": [
    "### Base"
   ]
  },
  {
   "cell_type": "code",
   "execution_count": 55,
   "id": "6e232615",
   "metadata": {},
   "outputs": [
    {
     "name": "stdout",
     "output_type": "stream",
     "text": [
      "              precision    recall  f1-score   support\n",
      "\n",
      "           0       0.97      0.98      0.97       412\n",
      "           1       0.74      0.68      0.71        41\n",
      "\n",
      "    accuracy                           0.95       453\n",
      "   macro avg       0.85      0.83      0.84       453\n",
      "weighted avg       0.95      0.95      0.95       453\n",
      "\n",
      "Confusion matrix:\n",
      "[[402  10]\n",
      " [ 13  28]]\n",
      "\n",
      "\n",
      "ROC-AUC curve:\n"
     ]
    },
    {
     "data": {
      "image/png": "[encoded data removed]",
      "text/plain": [
       "<Figure size 640x480 with 1 Axes>"
      ]
     },
     "metadata": {},
     "output_type": "display_data"
    }
   ],
   "source": [
    "# X_train is additionally scaled because of still existing outliers that return warning\n",
    "\n",
    "# Don't understand why confusion matrix uses 0's for true positives and not 1's\n",
    "\n",
    "from sklearn.linear_model import LogisticRegression\n",
    "\n",
    "base_lr = LogisticRegression()\n",
    "base_lr.fit(scale(X_train), y_train)\n",
    "\n",
    "y_pred = base_lr.predict(scale(X_test))\n",
    "print(classification_report(y_test, y_pred))\n",
    "\n",
    "print('Confusion matrix:')\n",
    "print(confusion_matrix(y_test, y_pred))\n",
    "\n",
    "print('\\n')\n",
    "print('ROC-AUC curve:')\n",
    "y_pred_proba = base_lr.predict_proba(scale(X_test))\n",
    "plot_roc_curve(y_test, y_pred_proba[:, 1])"
   ]
  },
  {
   "cell_type": "markdown",
   "id": "8dae5e0f",
   "metadata": {},
   "source": [
    "### Grid Search"
   ]
  },
  {
   "cell_type": "code",
   "execution_count": 56,
   "id": "d249e4e0",
   "metadata": {},
   "outputs": [
    {
     "name": "stderr",
     "output_type": "stream",
     "text": [
      "C:\\Users\\laptop\\anaconda3\\lib\\site-packages\\sklearn\\linear_model\\_sag.py:352: ConvergenceWarning: The max_iter was reached which means the coef_ did not converge\n",
      "  warnings.warn(\n",
      "C:\\Users\\laptop\\anaconda3\\lib\\site-packages\\sklearn\\linear_model\\_sag.py:352: ConvergenceWarning: The max_iter was reached which means the coef_ did not converge\n",
      "  warnings.warn(\n",
      "C:\\Users\\laptop\\anaconda3\\lib\\site-packages\\sklearn\\linear_model\\_sag.py:352: ConvergenceWarning: The max_iter was reached which means the coef_ did not converge\n",
      "  warnings.warn(\n",
      "C:\\Users\\laptop\\anaconda3\\lib\\site-packages\\sklearn\\linear_model\\_sag.py:352: ConvergenceWarning: The max_iter was reached which means the coef_ did not converge\n",
      "  warnings.warn(\n",
      "C:\\Users\\laptop\\anaconda3\\lib\\site-packages\\sklearn\\linear_model\\_sag.py:352: ConvergenceWarning: The max_iter was reached which means the coef_ did not converge\n",
      "  warnings.warn(\n",
      "C:\\Users\\laptop\\anaconda3\\lib\\site-packages\\sklearn\\linear_model\\_sag.py:352: ConvergenceWarning: The max_iter was reached which means the coef_ did not converge\n",
      "  warnings.warn(\n",
      "C:\\Users\\laptop\\anaconda3\\lib\\site-packages\\sklearn\\linear_model\\_sag.py:352: ConvergenceWarning: The max_iter was reached which means the coef_ did not converge\n",
      "  warnings.warn(\n",
      "C:\\Users\\laptop\\anaconda3\\lib\\site-packages\\sklearn\\linear_model\\_sag.py:352: ConvergenceWarning: The max_iter was reached which means the coef_ did not converge\n",
      "  warnings.warn(\n",
      "C:\\Users\\laptop\\anaconda3\\lib\\site-packages\\sklearn\\linear_model\\_sag.py:352: ConvergenceWarning: The max_iter was reached which means the coef_ did not converge\n",
      "  warnings.warn(\n",
      "C:\\Users\\laptop\\anaconda3\\lib\\site-packages\\sklearn\\linear_model\\_sag.py:352: ConvergenceWarning: The max_iter was reached which means the coef_ did not converge\n",
      "  warnings.warn(\n",
      "C:\\Users\\laptop\\anaconda3\\lib\\site-packages\\sklearn\\linear_model\\_sag.py:352: ConvergenceWarning: The max_iter was reached which means the coef_ did not converge\n",
      "  warnings.warn(\n",
      "C:\\Users\\laptop\\anaconda3\\lib\\site-packages\\sklearn\\linear_model\\_sag.py:352: ConvergenceWarning: The max_iter was reached which means the coef_ did not converge\n",
      "  warnings.warn(\n",
      "C:\\Users\\laptop\\anaconda3\\lib\\site-packages\\sklearn\\linear_model\\_sag.py:352: ConvergenceWarning: The max_iter was reached which means the coef_ did not converge\n",
      "  warnings.warn(\n",
      "C:\\Users\\laptop\\anaconda3\\lib\\site-packages\\sklearn\\linear_model\\_sag.py:352: ConvergenceWarning: The max_iter was reached which means the coef_ did not converge\n",
      "  warnings.warn(\n",
      "C:\\Users\\laptop\\anaconda3\\lib\\site-packages\\sklearn\\linear_model\\_sag.py:352: ConvergenceWarning: The max_iter was reached which means the coef_ did not converge\n",
      "  warnings.warn(\n",
      "C:\\Users\\laptop\\anaconda3\\lib\\site-packages\\sklearn\\linear_model\\_sag.py:352: ConvergenceWarning: The max_iter was reached which means the coef_ did not converge\n",
      "  warnings.warn(\n",
      "C:\\Users\\laptop\\anaconda3\\lib\\site-packages\\sklearn\\linear_model\\_sag.py:352: ConvergenceWarning: The max_iter was reached which means the coef_ did not converge\n",
      "  warnings.warn(\n",
      "C:\\Users\\laptop\\anaconda3\\lib\\site-packages\\sklearn\\linear_model\\_sag.py:352: ConvergenceWarning: The max_iter was reached which means the coef_ did not converge\n",
      "  warnings.warn(\n",
      "C:\\Users\\laptop\\anaconda3\\lib\\site-packages\\sklearn\\linear_model\\_sag.py:352: ConvergenceWarning: The max_iter was reached which means the coef_ did not converge\n",
      "  warnings.warn(\n",
      "C:\\Users\\laptop\\anaconda3\\lib\\site-packages\\sklearn\\linear_model\\_sag.py:352: ConvergenceWarning: The max_iter was reached which means the coef_ did not converge\n",
      "  warnings.warn(\n",
      "C:\\Users\\laptop\\anaconda3\\lib\\site-packages\\sklearn\\linear_model\\_sag.py:352: ConvergenceWarning: The max_iter was reached which means the coef_ did not converge\n",
      "  warnings.warn(\n",
      "C:\\Users\\laptop\\anaconda3\\lib\\site-packages\\sklearn\\linear_model\\_sag.py:352: ConvergenceWarning: The max_iter was reached which means the coef_ did not converge\n",
      "  warnings.warn(\n",
      "C:\\Users\\laptop\\anaconda3\\lib\\site-packages\\sklearn\\linear_model\\_sag.py:352: ConvergenceWarning: The max_iter was reached which means the coef_ did not converge\n",
      "  warnings.warn(\n",
      "C:\\Users\\laptop\\anaconda3\\lib\\site-packages\\sklearn\\linear_model\\_sag.py:352: ConvergenceWarning: The max_iter was reached which means the coef_ did not converge\n",
      "  warnings.warn(\n",
      "C:\\Users\\laptop\\anaconda3\\lib\\site-packages\\sklearn\\linear_model\\_sag.py:352: ConvergenceWarning: The max_iter was reached which means the coef_ did not converge\n",
      "  warnings.warn(\n",
      "C:\\Users\\laptop\\anaconda3\\lib\\site-packages\\sklearn\\linear_model\\_sag.py:352: ConvergenceWarning: The max_iter was reached which means the coef_ did not converge\n",
      "  warnings.warn(\n",
      "C:\\Users\\laptop\\anaconda3\\lib\\site-packages\\sklearn\\linear_model\\_sag.py:352: ConvergenceWarning: The max_iter was reached which means the coef_ did not converge\n",
      "  warnings.warn(\n",
      "C:\\Users\\laptop\\anaconda3\\lib\\site-packages\\sklearn\\linear_model\\_sag.py:352: ConvergenceWarning: The max_iter was reached which means the coef_ did not converge\n",
      "  warnings.warn(\n",
      "C:\\Users\\laptop\\anaconda3\\lib\\site-packages\\sklearn\\linear_model\\_sag.py:352: ConvergenceWarning: The max_iter was reached which means the coef_ did not converge\n",
      "  warnings.warn(\n",
      "C:\\Users\\laptop\\anaconda3\\lib\\site-packages\\sklearn\\linear_model\\_sag.py:352: ConvergenceWarning: The max_iter was reached which means the coef_ did not converge\n",
      "  warnings.warn(\n",
      "C:\\Users\\laptop\\anaconda3\\lib\\site-packages\\sklearn\\linear_model\\_sag.py:352: ConvergenceWarning: The max_iter was reached which means the coef_ did not converge\n",
      "  warnings.warn(\n",
      "C:\\Users\\laptop\\anaconda3\\lib\\site-packages\\sklearn\\linear_model\\_sag.py:352: ConvergenceWarning: The max_iter was reached which means the coef_ did not converge\n",
      "  warnings.warn(\n",
      "C:\\Users\\laptop\\anaconda3\\lib\\site-packages\\sklearn\\linear_model\\_sag.py:352: ConvergenceWarning: The max_iter was reached which means the coef_ did not converge\n",
      "  warnings.warn(\n",
      "C:\\Users\\laptop\\anaconda3\\lib\\site-packages\\sklearn\\linear_model\\_sag.py:352: ConvergenceWarning: The max_iter was reached which means the coef_ did not converge\n",
      "  warnings.warn(\n",
      "C:\\Users\\laptop\\anaconda3\\lib\\site-packages\\sklearn\\linear_model\\_sag.py:352: ConvergenceWarning: The max_iter was reached which means the coef_ did not converge\n",
      "  warnings.warn(\n",
      "C:\\Users\\laptop\\anaconda3\\lib\\site-packages\\sklearn\\linear_model\\_sag.py:352: ConvergenceWarning: The max_iter was reached which means the coef_ did not converge\n",
      "  warnings.warn(\n",
      "C:\\Users\\laptop\\anaconda3\\lib\\site-packages\\sklearn\\linear_model\\_sag.py:352: ConvergenceWarning: The max_iter was reached which means the coef_ did not converge\n",
      "  warnings.warn(\n",
      "C:\\Users\\laptop\\anaconda3\\lib\\site-packages\\sklearn\\linear_model\\_sag.py:352: ConvergenceWarning: The max_iter was reached which means the coef_ did not converge\n",
      "  warnings.warn(\n",
      "C:\\Users\\laptop\\anaconda3\\lib\\site-packages\\sklearn\\linear_model\\_sag.py:352: ConvergenceWarning: The max_iter was reached which means the coef_ did not converge\n",
      "  warnings.warn(\n",
      "C:\\Users\\laptop\\anaconda3\\lib\\site-packages\\sklearn\\linear_model\\_sag.py:352: ConvergenceWarning: The max_iter was reached which means the coef_ did not converge\n",
      "  warnings.warn(\n",
      "C:\\Users\\laptop\\anaconda3\\lib\\site-packages\\sklearn\\linear_model\\_sag.py:352: ConvergenceWarning: The max_iter was reached which means the coef_ did not converge\n",
      "  warnings.warn(\n",
      "C:\\Users\\laptop\\anaconda3\\lib\\site-packages\\sklearn\\linear_model\\_sag.py:352: ConvergenceWarning: The max_iter was reached which means the coef_ did not converge\n",
      "  warnings.warn(\n",
      "C:\\Users\\laptop\\anaconda3\\lib\\site-packages\\sklearn\\linear_model\\_sag.py:352: ConvergenceWarning: The max_iter was reached which means the coef_ did not converge\n",
      "  warnings.warn(\n",
      "C:\\Users\\laptop\\anaconda3\\lib\\site-packages\\sklearn\\linear_model\\_sag.py:352: ConvergenceWarning: The max_iter was reached which means the coef_ did not converge\n",
      "  warnings.warn(\n",
      "C:\\Users\\laptop\\anaconda3\\lib\\site-packages\\sklearn\\linear_model\\_sag.py:352: ConvergenceWarning: The max_iter was reached which means the coef_ did not converge\n",
      "  warnings.warn(\n",
      "C:\\Users\\laptop\\anaconda3\\lib\\site-packages\\sklearn\\linear_model\\_sag.py:352: ConvergenceWarning: The max_iter was reached which means the coef_ did not converge\n",
      "  warnings.warn(\n",
      "C:\\Users\\laptop\\anaconda3\\lib\\site-packages\\sklearn\\linear_model\\_sag.py:352: ConvergenceWarning: The max_iter was reached which means the coef_ did not converge\n",
      "  warnings.warn(\n",
      "C:\\Users\\laptop\\anaconda3\\lib\\site-packages\\sklearn\\linear_model\\_sag.py:352: ConvergenceWarning: The max_iter was reached which means the coef_ did not converge\n",
      "  warnings.warn(\n",
      "C:\\Users\\laptop\\anaconda3\\lib\\site-packages\\sklearn\\linear_model\\_sag.py:352: ConvergenceWarning: The max_iter was reached which means the coef_ did not converge\n",
      "  warnings.warn(\n",
      "C:\\Users\\laptop\\anaconda3\\lib\\site-packages\\sklearn\\linear_model\\_sag.py:352: ConvergenceWarning: The max_iter was reached which means the coef_ did not converge\n",
      "  warnings.warn(\n"
     ]
    },
    {
     "name": "stderr",
     "output_type": "stream",
     "text": [
      "C:\\Users\\laptop\\anaconda3\\lib\\site-packages\\sklearn\\linear_model\\_sag.py:352: ConvergenceWarning: The max_iter was reached which means the coef_ did not converge\n",
      "  warnings.warn(\n",
      "C:\\Users\\laptop\\anaconda3\\lib\\site-packages\\sklearn\\linear_model\\_sag.py:352: ConvergenceWarning: The max_iter was reached which means the coef_ did not converge\n",
      "  warnings.warn(\n",
      "C:\\Users\\laptop\\anaconda3\\lib\\site-packages\\sklearn\\linear_model\\_sag.py:352: ConvergenceWarning: The max_iter was reached which means the coef_ did not converge\n",
      "  warnings.warn(\n",
      "C:\\Users\\laptop\\anaconda3\\lib\\site-packages\\sklearn\\linear_model\\_sag.py:352: ConvergenceWarning: The max_iter was reached which means the coef_ did not converge\n",
      "  warnings.warn(\n",
      "C:\\Users\\laptop\\anaconda3\\lib\\site-packages\\sklearn\\linear_model\\_sag.py:352: ConvergenceWarning: The max_iter was reached which means the coef_ did not converge\n",
      "  warnings.warn(\n",
      "C:\\Users\\laptop\\anaconda3\\lib\\site-packages\\sklearn\\linear_model\\_sag.py:352: ConvergenceWarning: The max_iter was reached which means the coef_ did not converge\n",
      "  warnings.warn(\n",
      "C:\\Users\\laptop\\anaconda3\\lib\\site-packages\\sklearn\\linear_model\\_sag.py:352: ConvergenceWarning: The max_iter was reached which means the coef_ did not converge\n",
      "  warnings.warn(\n",
      "C:\\Users\\laptop\\anaconda3\\lib\\site-packages\\sklearn\\linear_model\\_sag.py:352: ConvergenceWarning: The max_iter was reached which means the coef_ did not converge\n",
      "  warnings.warn(\n",
      "C:\\Users\\laptop\\anaconda3\\lib\\site-packages\\sklearn\\linear_model\\_sag.py:352: ConvergenceWarning: The max_iter was reached which means the coef_ did not converge\n",
      "  warnings.warn(\n",
      "C:\\Users\\laptop\\anaconda3\\lib\\site-packages\\sklearn\\linear_model\\_sag.py:352: ConvergenceWarning: The max_iter was reached which means the coef_ did not converge\n",
      "  warnings.warn(\n",
      "C:\\Users\\laptop\\anaconda3\\lib\\site-packages\\sklearn\\linear_model\\_sag.py:352: ConvergenceWarning: The max_iter was reached which means the coef_ did not converge\n",
      "  warnings.warn(\n",
      "C:\\Users\\laptop\\anaconda3\\lib\\site-packages\\sklearn\\linear_model\\_sag.py:352: ConvergenceWarning: The max_iter was reached which means the coef_ did not converge\n",
      "  warnings.warn(\n",
      "C:\\Users\\laptop\\anaconda3\\lib\\site-packages\\sklearn\\linear_model\\_sag.py:352: ConvergenceWarning: The max_iter was reached which means the coef_ did not converge\n",
      "  warnings.warn(\n",
      "C:\\Users\\laptop\\anaconda3\\lib\\site-packages\\sklearn\\linear_model\\_sag.py:352: ConvergenceWarning: The max_iter was reached which means the coef_ did not converge\n",
      "  warnings.warn(\n",
      "C:\\Users\\laptop\\anaconda3\\lib\\site-packages\\sklearn\\linear_model\\_sag.py:352: ConvergenceWarning: The max_iter was reached which means the coef_ did not converge\n",
      "  warnings.warn(\n",
      "C:\\Users\\laptop\\anaconda3\\lib\\site-packages\\sklearn\\linear_model\\_sag.py:352: ConvergenceWarning: The max_iter was reached which means the coef_ did not converge\n",
      "  warnings.warn(\n",
      "C:\\Users\\laptop\\anaconda3\\lib\\site-packages\\sklearn\\linear_model\\_sag.py:352: ConvergenceWarning: The max_iter was reached which means the coef_ did not converge\n",
      "  warnings.warn(\n",
      "C:\\Users\\laptop\\anaconda3\\lib\\site-packages\\sklearn\\linear_model\\_sag.py:352: ConvergenceWarning: The max_iter was reached which means the coef_ did not converge\n",
      "  warnings.warn(\n",
      "C:\\Users\\laptop\\anaconda3\\lib\\site-packages\\sklearn\\linear_model\\_sag.py:352: ConvergenceWarning: The max_iter was reached which means the coef_ did not converge\n",
      "  warnings.warn(\n",
      "C:\\Users\\laptop\\anaconda3\\lib\\site-packages\\sklearn\\linear_model\\_sag.py:352: ConvergenceWarning: The max_iter was reached which means the coef_ did not converge\n",
      "  warnings.warn(\n",
      "C:\\Users\\laptop\\anaconda3\\lib\\site-packages\\sklearn\\linear_model\\_sag.py:352: ConvergenceWarning: The max_iter was reached which means the coef_ did not converge\n",
      "  warnings.warn(\n",
      "C:\\Users\\laptop\\anaconda3\\lib\\site-packages\\sklearn\\linear_model\\_sag.py:352: ConvergenceWarning: The max_iter was reached which means the coef_ did not converge\n",
      "  warnings.warn(\n",
      "C:\\Users\\laptop\\anaconda3\\lib\\site-packages\\sklearn\\linear_model\\_sag.py:352: ConvergenceWarning: The max_iter was reached which means the coef_ did not converge\n",
      "  warnings.warn(\n",
      "C:\\Users\\laptop\\anaconda3\\lib\\site-packages\\sklearn\\linear_model\\_sag.py:352: ConvergenceWarning: The max_iter was reached which means the coef_ did not converge\n",
      "  warnings.warn(\n",
      "C:\\Users\\laptop\\anaconda3\\lib\\site-packages\\sklearn\\linear_model\\_sag.py:352: ConvergenceWarning: The max_iter was reached which means the coef_ did not converge\n",
      "  warnings.warn(\n",
      "C:\\Users\\laptop\\anaconda3\\lib\\site-packages\\sklearn\\linear_model\\_sag.py:352: ConvergenceWarning: The max_iter was reached which means the coef_ did not converge\n",
      "  warnings.warn(\n",
      "C:\\Users\\laptop\\anaconda3\\lib\\site-packages\\sklearn\\linear_model\\_sag.py:352: ConvergenceWarning: The max_iter was reached which means the coef_ did not converge\n",
      "  warnings.warn(\n",
      "C:\\Users\\laptop\\anaconda3\\lib\\site-packages\\sklearn\\linear_model\\_sag.py:352: ConvergenceWarning: The max_iter was reached which means the coef_ did not converge\n",
      "  warnings.warn(\n",
      "C:\\Users\\laptop\\anaconda3\\lib\\site-packages\\sklearn\\linear_model\\_sag.py:352: ConvergenceWarning: The max_iter was reached which means the coef_ did not converge\n",
      "  warnings.warn(\n",
      "C:\\Users\\laptop\\anaconda3\\lib\\site-packages\\sklearn\\linear_model\\_sag.py:352: ConvergenceWarning: The max_iter was reached which means the coef_ did not converge\n",
      "  warnings.warn(\n",
      "C:\\Users\\laptop\\anaconda3\\lib\\site-packages\\sklearn\\linear_model\\_sag.py:352: ConvergenceWarning: The max_iter was reached which means the coef_ did not converge\n",
      "  warnings.warn(\n",
      "C:\\Users\\laptop\\anaconda3\\lib\\site-packages\\sklearn\\linear_model\\_sag.py:352: ConvergenceWarning: The max_iter was reached which means the coef_ did not converge\n",
      "  warnings.warn(\n",
      "C:\\Users\\laptop\\anaconda3\\lib\\site-packages\\sklearn\\linear_model\\_sag.py:352: ConvergenceWarning: The max_iter was reached which means the coef_ did not converge\n",
      "  warnings.warn(\n",
      "C:\\Users\\laptop\\anaconda3\\lib\\site-packages\\sklearn\\linear_model\\_sag.py:352: ConvergenceWarning: The max_iter was reached which means the coef_ did not converge\n",
      "  warnings.warn(\n",
      "C:\\Users\\laptop\\anaconda3\\lib\\site-packages\\sklearn\\linear_model\\_logistic.py:814: ConvergenceWarning: lbfgs failed to converge (status=1):\n",
      "STOP: TOTAL NO. of ITERATIONS REACHED LIMIT.\n",
      "\n",
      "Increase the number of iterations (max_iter) or scale the data as shown in:\n",
      "    https://scikit-learn.org/stable/modules/preprocessing.html\n",
      "Please also refer to the documentation for alternative solver options:\n",
      "    https://scikit-learn.org/stable/modules/linear_model.html#logistic-regression\n",
      "  n_iter_i = _check_optimize_result(\n",
      "C:\\Users\\laptop\\anaconda3\\lib\\site-packages\\sklearn\\linear_model\\_logistic.py:814: ConvergenceWarning: lbfgs failed to converge (status=1):\n",
      "STOP: TOTAL NO. of ITERATIONS REACHED LIMIT.\n",
      "\n",
      "Increase the number of iterations (max_iter) or scale the data as shown in:\n",
      "    https://scikit-learn.org/stable/modules/preprocessing.html\n",
      "Please also refer to the documentation for alternative solver options:\n",
      "    https://scikit-learn.org/stable/modules/linear_model.html#logistic-regression\n",
      "  n_iter_i = _check_optimize_result(\n",
      "C:\\Users\\laptop\\anaconda3\\lib\\site-packages\\sklearn\\linear_model\\_sag.py:352: ConvergenceWarning: The max_iter was reached which means the coef_ did not converge\n",
      "  warnings.warn(\n",
      "C:\\Users\\laptop\\anaconda3\\lib\\site-packages\\sklearn\\linear_model\\_sag.py:352: ConvergenceWarning: The max_iter was reached which means the coef_ did not converge\n",
      "  warnings.warn(\n",
      "C:\\Users\\laptop\\anaconda3\\lib\\site-packages\\sklearn\\linear_model\\_sag.py:352: ConvergenceWarning: The max_iter was reached which means the coef_ did not converge\n",
      "  warnings.warn(\n",
      "C:\\Users\\laptop\\anaconda3\\lib\\site-packages\\sklearn\\linear_model\\_sag.py:352: ConvergenceWarning: The max_iter was reached which means the coef_ did not converge\n",
      "  warnings.warn(\n",
      "C:\\Users\\laptop\\anaconda3\\lib\\site-packages\\sklearn\\linear_model\\_sag.py:352: ConvergenceWarning: The max_iter was reached which means the coef_ did not converge\n",
      "  warnings.warn(\n",
      "C:\\Users\\laptop\\anaconda3\\lib\\site-packages\\sklearn\\linear_model\\_sag.py:352: ConvergenceWarning: The max_iter was reached which means the coef_ did not converge\n",
      "  warnings.warn(\n",
      "C:\\Users\\laptop\\anaconda3\\lib\\site-packages\\sklearn\\linear_model\\_sag.py:352: ConvergenceWarning: The max_iter was reached which means the coef_ did not converge\n",
      "  warnings.warn(\n"
     ]
    },
    {
     "name": "stderr",
     "output_type": "stream",
     "text": [
      "C:\\Users\\laptop\\anaconda3\\lib\\site-packages\\sklearn\\linear_model\\_sag.py:352: ConvergenceWarning: The max_iter was reached which means the coef_ did not converge\n",
      "  warnings.warn(\n",
      "C:\\Users\\laptop\\anaconda3\\lib\\site-packages\\sklearn\\linear_model\\_sag.py:352: ConvergenceWarning: The max_iter was reached which means the coef_ did not converge\n",
      "  warnings.warn(\n",
      "C:\\Users\\laptop\\anaconda3\\lib\\site-packages\\sklearn\\linear_model\\_sag.py:352: ConvergenceWarning: The max_iter was reached which means the coef_ did not converge\n",
      "  warnings.warn(\n",
      "C:\\Users\\laptop\\anaconda3\\lib\\site-packages\\sklearn\\linear_model\\_sag.py:352: ConvergenceWarning: The max_iter was reached which means the coef_ did not converge\n",
      "  warnings.warn(\n",
      "C:\\Users\\laptop\\anaconda3\\lib\\site-packages\\sklearn\\linear_model\\_sag.py:352: ConvergenceWarning: The max_iter was reached which means the coef_ did not converge\n",
      "  warnings.warn(\n",
      "C:\\Users\\laptop\\anaconda3\\lib\\site-packages\\sklearn\\linear_model\\_sag.py:352: ConvergenceWarning: The max_iter was reached which means the coef_ did not converge\n",
      "  warnings.warn(\n",
      "C:\\Users\\laptop\\anaconda3\\lib\\site-packages\\sklearn\\linear_model\\_sag.py:352: ConvergenceWarning: The max_iter was reached which means the coef_ did not converge\n",
      "  warnings.warn(\n",
      "C:\\Users\\laptop\\anaconda3\\lib\\site-packages\\sklearn\\linear_model\\_sag.py:352: ConvergenceWarning: The max_iter was reached which means the coef_ did not converge\n",
      "  warnings.warn(\n",
      "C:\\Users\\laptop\\anaconda3\\lib\\site-packages\\sklearn\\linear_model\\_sag.py:352: ConvergenceWarning: The max_iter was reached which means the coef_ did not converge\n",
      "  warnings.warn(\n",
      "C:\\Users\\laptop\\anaconda3\\lib\\site-packages\\sklearn\\linear_model\\_sag.py:352: ConvergenceWarning: The max_iter was reached which means the coef_ did not converge\n",
      "  warnings.warn(\n",
      "C:\\Users\\laptop\\anaconda3\\lib\\site-packages\\sklearn\\linear_model\\_sag.py:352: ConvergenceWarning: The max_iter was reached which means the coef_ did not converge\n",
      "  warnings.warn(\n",
      "C:\\Users\\laptop\\anaconda3\\lib\\site-packages\\sklearn\\linear_model\\_sag.py:352: ConvergenceWarning: The max_iter was reached which means the coef_ did not converge\n",
      "  warnings.warn(\n",
      "C:\\Users\\laptop\\anaconda3\\lib\\site-packages\\sklearn\\linear_model\\_sag.py:352: ConvergenceWarning: The max_iter was reached which means the coef_ did not converge\n",
      "  warnings.warn(\n",
      "C:\\Users\\laptop\\anaconda3\\lib\\site-packages\\sklearn\\svm\\_base.py:1206: ConvergenceWarning: Liblinear failed to converge, increase the number of iterations.\n",
      "  warnings.warn(\n",
      "C:\\Users\\laptop\\anaconda3\\lib\\site-packages\\sklearn\\linear_model\\_sag.py:352: ConvergenceWarning: The max_iter was reached which means the coef_ did not converge\n",
      "  warnings.warn(\n",
      "C:\\Users\\laptop\\anaconda3\\lib\\site-packages\\sklearn\\linear_model\\_sag.py:352: ConvergenceWarning: The max_iter was reached which means the coef_ did not converge\n",
      "  warnings.warn(\n",
      "C:\\Users\\laptop\\anaconda3\\lib\\site-packages\\sklearn\\linear_model\\_sag.py:352: ConvergenceWarning: The max_iter was reached which means the coef_ did not converge\n",
      "  warnings.warn(\n",
      "C:\\Users\\laptop\\anaconda3\\lib\\site-packages\\sklearn\\linear_model\\_sag.py:352: ConvergenceWarning: The max_iter was reached which means the coef_ did not converge\n",
      "  warnings.warn(\n",
      "C:\\Users\\laptop\\anaconda3\\lib\\site-packages\\sklearn\\linear_model\\_sag.py:352: ConvergenceWarning: The max_iter was reached which means the coef_ did not converge\n",
      "  warnings.warn(\n",
      "C:\\Users\\laptop\\anaconda3\\lib\\site-packages\\sklearn\\linear_model\\_sag.py:352: ConvergenceWarning: The max_iter was reached which means the coef_ did not converge\n",
      "  warnings.warn(\n",
      "C:\\Users\\laptop\\anaconda3\\lib\\site-packages\\sklearn\\linear_model\\_sag.py:352: ConvergenceWarning: The max_iter was reached which means the coef_ did not converge\n",
      "  warnings.warn(\n",
      "C:\\Users\\laptop\\anaconda3\\lib\\site-packages\\sklearn\\linear_model\\_sag.py:352: ConvergenceWarning: The max_iter was reached which means the coef_ did not converge\n",
      "  warnings.warn(\n",
      "C:\\Users\\laptop\\anaconda3\\lib\\site-packages\\sklearn\\linear_model\\_sag.py:352: ConvergenceWarning: The max_iter was reached which means the coef_ did not converge\n",
      "  warnings.warn(\n",
      "C:\\Users\\laptop\\anaconda3\\lib\\site-packages\\sklearn\\linear_model\\_sag.py:352: ConvergenceWarning: The max_iter was reached which means the coef_ did not converge\n",
      "  warnings.warn(\n",
      "C:\\Users\\laptop\\anaconda3\\lib\\site-packages\\sklearn\\linear_model\\_logistic.py:814: ConvergenceWarning: lbfgs failed to converge (status=1):\n",
      "STOP: TOTAL NO. of ITERATIONS REACHED LIMIT.\n",
      "\n",
      "Increase the number of iterations (max_iter) or scale the data as shown in:\n",
      "    https://scikit-learn.org/stable/modules/preprocessing.html\n",
      "Please also refer to the documentation for alternative solver options:\n",
      "    https://scikit-learn.org/stable/modules/linear_model.html#logistic-regression\n",
      "  n_iter_i = _check_optimize_result(\n",
      "C:\\Users\\laptop\\anaconda3\\lib\\site-packages\\sklearn\\linear_model\\_logistic.py:814: ConvergenceWarning: lbfgs failed to converge (status=1):\n",
      "STOP: TOTAL NO. of ITERATIONS REACHED LIMIT.\n",
      "\n",
      "Increase the number of iterations (max_iter) or scale the data as shown in:\n",
      "    https://scikit-learn.org/stable/modules/preprocessing.html\n",
      "Please also refer to the documentation for alternative solver options:\n",
      "    https://scikit-learn.org/stable/modules/linear_model.html#logistic-regression\n",
      "  n_iter_i = _check_optimize_result(\n",
      "C:\\Users\\laptop\\anaconda3\\lib\\site-packages\\sklearn\\linear_model\\_logistic.py:814: ConvergenceWarning: lbfgs failed to converge (status=1):\n",
      "STOP: TOTAL NO. of ITERATIONS REACHED LIMIT.\n",
      "\n",
      "Increase the number of iterations (max_iter) or scale the data as shown in:\n",
      "    https://scikit-learn.org/stable/modules/preprocessing.html\n",
      "Please also refer to the documentation for alternative solver options:\n",
      "    https://scikit-learn.org/stable/modules/linear_model.html#logistic-regression\n",
      "  n_iter_i = _check_optimize_result(\n",
      "C:\\Users\\laptop\\anaconda3\\lib\\site-packages\\sklearn\\linear_model\\_logistic.py:814: ConvergenceWarning: lbfgs failed to converge (status=1):\n",
      "STOP: TOTAL NO. of ITERATIONS REACHED LIMIT.\n",
      "\n",
      "Increase the number of iterations (max_iter) or scale the data as shown in:\n",
      "    https://scikit-learn.org/stable/modules/preprocessing.html\n",
      "Please also refer to the documentation for alternative solver options:\n",
      "    https://scikit-learn.org/stable/modules/linear_model.html#logistic-regression\n",
      "  n_iter_i = _check_optimize_result(\n",
      "C:\\Users\\laptop\\anaconda3\\lib\\site-packages\\sklearn\\linear_model\\_logistic.py:814: ConvergenceWarning: lbfgs failed to converge (status=1):\n",
      "STOP: TOTAL NO. of ITERATIONS REACHED LIMIT.\n",
      "\n",
      "Increase the number of iterations (max_iter) or scale the data as shown in:\n",
      "    https://scikit-learn.org/stable/modules/preprocessing.html\n",
      "Please also refer to the documentation for alternative solver options:\n",
      "    https://scikit-learn.org/stable/modules/linear_model.html#logistic-regression\n",
      "  n_iter_i = _check_optimize_result(\n",
      "C:\\Users\\laptop\\anaconda3\\lib\\site-packages\\sklearn\\linear_model\\_logistic.py:814: ConvergenceWarning: lbfgs failed to converge (status=1):\n",
      "STOP: TOTAL NO. of ITERATIONS REACHED LIMIT.\n",
      "\n",
      "Increase the number of iterations (max_iter) or scale the data as shown in:\n",
      "    https://scikit-learn.org/stable/modules/preprocessing.html\n",
      "Please also refer to the documentation for alternative solver options:\n",
      "    https://scikit-learn.org/stable/modules/linear_model.html#logistic-regression\n",
      "  n_iter_i = _check_optimize_result(\n",
      "C:\\Users\\laptop\\anaconda3\\lib\\site-packages\\sklearn\\linear_model\\_logistic.py:814: ConvergenceWarning: lbfgs failed to converge (status=1):\n",
      "STOP: TOTAL NO. of ITERATIONS REACHED LIMIT.\n",
      "\n",
      "Increase the number of iterations (max_iter) or scale the data as shown in:\n",
      "    https://scikit-learn.org/stable/modules/preprocessing.html\n",
      "Please also refer to the documentation for alternative solver options:\n",
      "    https://scikit-learn.org/stable/modules/linear_model.html#logistic-regression\n",
      "  n_iter_i = _check_optimize_result(\n",
      "C:\\Users\\laptop\\anaconda3\\lib\\site-packages\\sklearn\\linear_model\\_logistic.py:814: ConvergenceWarning: lbfgs failed to converge (status=1):\n",
      "STOP: TOTAL NO. of ITERATIONS REACHED LIMIT.\n",
      "\n",
      "Increase the number of iterations (max_iter) or scale the data as shown in:\n",
      "    https://scikit-learn.org/stable/modules/preprocessing.html\n",
      "Please also refer to the documentation for alternative solver options:\n",
      "    https://scikit-learn.org/stable/modules/linear_model.html#logistic-regression\n",
      "  n_iter_i = _check_optimize_result(\n",
      "C:\\Users\\laptop\\anaconda3\\lib\\site-packages\\sklearn\\linear_model\\_logistic.py:814: ConvergenceWarning: lbfgs failed to converge (status=1):\n",
      "STOP: TOTAL NO. of ITERATIONS REACHED LIMIT.\n",
      "\n",
      "Increase the number of iterations (max_iter) or scale the data as shown in:\n",
      "    https://scikit-learn.org/stable/modules/preprocessing.html\n",
      "Please also refer to the documentation for alternative solver options:\n",
      "    https://scikit-learn.org/stable/modules/linear_model.html#logistic-regression\n",
      "  n_iter_i = _check_optimize_result(\n",
      "C:\\Users\\laptop\\anaconda3\\lib\\site-packages\\sklearn\\linear_model\\_logistic.py:814: ConvergenceWarning: lbfgs failed to converge (status=1):\n",
      "STOP: TOTAL NO. of ITERATIONS REACHED LIMIT.\n",
      "\n",
      "Increase the number of iterations (max_iter) or scale the data as shown in:\n",
      "    https://scikit-learn.org/stable/modules/preprocessing.html\n",
      "Please also refer to the documentation for alternative solver options:\n",
      "    https://scikit-learn.org/stable/modules/linear_model.html#logistic-regression\n",
      "  n_iter_i = _check_optimize_result(\n"
     ]
    },
    {
     "name": "stderr",
     "output_type": "stream",
     "text": [
      "C:\\Users\\laptop\\anaconda3\\lib\\site-packages\\sklearn\\linear_model\\_sag.py:352: ConvergenceWarning: The max_iter was reached which means the coef_ did not converge\n",
      "  warnings.warn(\n",
      "C:\\Users\\laptop\\anaconda3\\lib\\site-packages\\sklearn\\linear_model\\_sag.py:352: ConvergenceWarning: The max_iter was reached which means the coef_ did not converge\n",
      "  warnings.warn(\n",
      "C:\\Users\\laptop\\anaconda3\\lib\\site-packages\\sklearn\\linear_model\\_sag.py:352: ConvergenceWarning: The max_iter was reached which means the coef_ did not converge\n",
      "  warnings.warn(\n",
      "C:\\Users\\laptop\\anaconda3\\lib\\site-packages\\sklearn\\linear_model\\_sag.py:352: ConvergenceWarning: The max_iter was reached which means the coef_ did not converge\n",
      "  warnings.warn(\n",
      "C:\\Users\\laptop\\anaconda3\\lib\\site-packages\\sklearn\\linear_model\\_sag.py:352: ConvergenceWarning: The max_iter was reached which means the coef_ did not converge\n",
      "  warnings.warn(\n",
      "C:\\Users\\laptop\\anaconda3\\lib\\site-packages\\sklearn\\linear_model\\_sag.py:352: ConvergenceWarning: The max_iter was reached which means the coef_ did not converge\n",
      "  warnings.warn(\n",
      "C:\\Users\\laptop\\anaconda3\\lib\\site-packages\\sklearn\\linear_model\\_sag.py:352: ConvergenceWarning: The max_iter was reached which means the coef_ did not converge\n",
      "  warnings.warn(\n",
      "C:\\Users\\laptop\\anaconda3\\lib\\site-packages\\sklearn\\linear_model\\_sag.py:352: ConvergenceWarning: The max_iter was reached which means the coef_ did not converge\n",
      "  warnings.warn(\n",
      "C:\\Users\\laptop\\anaconda3\\lib\\site-packages\\sklearn\\linear_model\\_sag.py:352: ConvergenceWarning: The max_iter was reached which means the coef_ did not converge\n",
      "  warnings.warn(\n",
      "C:\\Users\\laptop\\anaconda3\\lib\\site-packages\\sklearn\\linear_model\\_sag.py:352: ConvergenceWarning: The max_iter was reached which means the coef_ did not converge\n",
      "  warnings.warn(\n",
      "C:\\Users\\laptop\\anaconda3\\lib\\site-packages\\sklearn\\linear_model\\_sag.py:352: ConvergenceWarning: The max_iter was reached which means the coef_ did not converge\n",
      "  warnings.warn(\n",
      "C:\\Users\\laptop\\anaconda3\\lib\\site-packages\\sklearn\\linear_model\\_sag.py:352: ConvergenceWarning: The max_iter was reached which means the coef_ did not converge\n",
      "  warnings.warn(\n",
      "C:\\Users\\laptop\\anaconda3\\lib\\site-packages\\sklearn\\linear_model\\_sag.py:352: ConvergenceWarning: The max_iter was reached which means the coef_ did not converge\n",
      "  warnings.warn(\n",
      "C:\\Users\\laptop\\anaconda3\\lib\\site-packages\\sklearn\\linear_model\\_sag.py:352: ConvergenceWarning: The max_iter was reached which means the coef_ did not converge\n",
      "  warnings.warn(\n",
      "C:\\Users\\laptop\\anaconda3\\lib\\site-packages\\sklearn\\linear_model\\_sag.py:352: ConvergenceWarning: The max_iter was reached which means the coef_ did not converge\n",
      "  warnings.warn(\n",
      "C:\\Users\\laptop\\anaconda3\\lib\\site-packages\\sklearn\\linear_model\\_sag.py:352: ConvergenceWarning: The max_iter was reached which means the coef_ did not converge\n",
      "  warnings.warn(\n",
      "C:\\Users\\laptop\\anaconda3\\lib\\site-packages\\sklearn\\linear_model\\_sag.py:352: ConvergenceWarning: The max_iter was reached which means the coef_ did not converge\n",
      "  warnings.warn(\n",
      "C:\\Users\\laptop\\anaconda3\\lib\\site-packages\\sklearn\\linear_model\\_sag.py:352: ConvergenceWarning: The max_iter was reached which means the coef_ did not converge\n",
      "  warnings.warn(\n",
      "C:\\Users\\laptop\\anaconda3\\lib\\site-packages\\sklearn\\linear_model\\_sag.py:352: ConvergenceWarning: The max_iter was reached which means the coef_ did not converge\n",
      "  warnings.warn(\n",
      "C:\\Users\\laptop\\anaconda3\\lib\\site-packages\\sklearn\\linear_model\\_sag.py:352: ConvergenceWarning: The max_iter was reached which means the coef_ did not converge\n",
      "  warnings.warn(\n",
      "C:\\Users\\laptop\\anaconda3\\lib\\site-packages\\sklearn\\svm\\_base.py:1206: ConvergenceWarning: Liblinear failed to converge, increase the number of iterations.\n",
      "  warnings.warn(\n",
      "C:\\Users\\laptop\\anaconda3\\lib\\site-packages\\sklearn\\svm\\_base.py:1206: ConvergenceWarning: Liblinear failed to converge, increase the number of iterations.\n",
      "  warnings.warn(\n",
      "C:\\Users\\laptop\\anaconda3\\lib\\site-packages\\sklearn\\svm\\_base.py:1206: ConvergenceWarning: Liblinear failed to converge, increase the number of iterations.\n",
      "  warnings.warn(\n",
      "C:\\Users\\laptop\\anaconda3\\lib\\site-packages\\sklearn\\svm\\_base.py:1206: ConvergenceWarning: Liblinear failed to converge, increase the number of iterations.\n",
      "  warnings.warn(\n",
      "C:\\Users\\laptop\\anaconda3\\lib\\site-packages\\sklearn\\svm\\_base.py:1206: ConvergenceWarning: Liblinear failed to converge, increase the number of iterations.\n",
      "  warnings.warn(\n",
      "C:\\Users\\laptop\\anaconda3\\lib\\site-packages\\sklearn\\svm\\_base.py:1206: ConvergenceWarning: Liblinear failed to converge, increase the number of iterations.\n",
      "  warnings.warn(\n",
      "C:\\Users\\laptop\\anaconda3\\lib\\site-packages\\sklearn\\svm\\_base.py:1206: ConvergenceWarning: Liblinear failed to converge, increase the number of iterations.\n",
      "  warnings.warn(\n",
      "C:\\Users\\laptop\\anaconda3\\lib\\site-packages\\sklearn\\svm\\_base.py:1206: ConvergenceWarning: Liblinear failed to converge, increase the number of iterations.\n",
      "  warnings.warn(\n",
      "C:\\Users\\laptop\\anaconda3\\lib\\site-packages\\sklearn\\svm\\_base.py:1206: ConvergenceWarning: Liblinear failed to converge, increase the number of iterations.\n",
      "  warnings.warn(\n",
      "C:\\Users\\laptop\\anaconda3\\lib\\site-packages\\sklearn\\linear_model\\_sag.py:352: ConvergenceWarning: The max_iter was reached which means the coef_ did not converge\n",
      "  warnings.warn(\n",
      "C:\\Users\\laptop\\anaconda3\\lib\\site-packages\\sklearn\\linear_model\\_sag.py:352: ConvergenceWarning: The max_iter was reached which means the coef_ did not converge\n",
      "  warnings.warn(\n",
      "C:\\Users\\laptop\\anaconda3\\lib\\site-packages\\sklearn\\linear_model\\_sag.py:352: ConvergenceWarning: The max_iter was reached which means the coef_ did not converge\n",
      "  warnings.warn(\n",
      "C:\\Users\\laptop\\anaconda3\\lib\\site-packages\\sklearn\\linear_model\\_sag.py:352: ConvergenceWarning: The max_iter was reached which means the coef_ did not converge\n",
      "  warnings.warn(\n",
      "C:\\Users\\laptop\\anaconda3\\lib\\site-packages\\sklearn\\linear_model\\_sag.py:352: ConvergenceWarning: The max_iter was reached which means the coef_ did not converge\n",
      "  warnings.warn(\n",
      "C:\\Users\\laptop\\anaconda3\\lib\\site-packages\\sklearn\\linear_model\\_sag.py:352: ConvergenceWarning: The max_iter was reached which means the coef_ did not converge\n",
      "  warnings.warn(\n",
      "C:\\Users\\laptop\\anaconda3\\lib\\site-packages\\sklearn\\linear_model\\_sag.py:352: ConvergenceWarning: The max_iter was reached which means the coef_ did not converge\n",
      "  warnings.warn(\n",
      "C:\\Users\\laptop\\anaconda3\\lib\\site-packages\\sklearn\\linear_model\\_sag.py:352: ConvergenceWarning: The max_iter was reached which means the coef_ did not converge\n",
      "  warnings.warn(\n",
      "C:\\Users\\laptop\\anaconda3\\lib\\site-packages\\sklearn\\linear_model\\_sag.py:352: ConvergenceWarning: The max_iter was reached which means the coef_ did not converge\n",
      "  warnings.warn(\n",
      "C:\\Users\\laptop\\anaconda3\\lib\\site-packages\\sklearn\\linear_model\\_sag.py:352: ConvergenceWarning: The max_iter was reached which means the coef_ did not converge\n",
      "  warnings.warn(\n",
      "C:\\Users\\laptop\\anaconda3\\lib\\site-packages\\sklearn\\linear_model\\_logistic.py:814: ConvergenceWarning: lbfgs failed to converge (status=1):\n",
      "STOP: TOTAL NO. of ITERATIONS REACHED LIMIT.\n",
      "\n",
      "Increase the number of iterations (max_iter) or scale the data as shown in:\n",
      "    https://scikit-learn.org/stable/modules/preprocessing.html\n",
      "Please also refer to the documentation for alternative solver options:\n",
      "    https://scikit-learn.org/stable/modules/linear_model.html#logistic-regression\n",
      "  n_iter_i = _check_optimize_result(\n",
      "C:\\Users\\laptop\\anaconda3\\lib\\site-packages\\sklearn\\linear_model\\_logistic.py:814: ConvergenceWarning: lbfgs failed to converge (status=1):\n",
      "STOP: TOTAL NO. of ITERATIONS REACHED LIMIT.\n",
      "\n",
      "Increase the number of iterations (max_iter) or scale the data as shown in:\n",
      "    https://scikit-learn.org/stable/modules/preprocessing.html\n",
      "Please also refer to the documentation for alternative solver options:\n",
      "    https://scikit-learn.org/stable/modules/linear_model.html#logistic-regression\n",
      "  n_iter_i = _check_optimize_result(\n",
      "C:\\Users\\laptop\\anaconda3\\lib\\site-packages\\sklearn\\linear_model\\_logistic.py:814: ConvergenceWarning: lbfgs failed to converge (status=1):\n",
      "STOP: TOTAL NO. of ITERATIONS REACHED LIMIT.\n",
      "\n",
      "Increase the number of iterations (max_iter) or scale the data as shown in:\n",
      "    https://scikit-learn.org/stable/modules/preprocessing.html\n",
      "Please also refer to the documentation for alternative solver options:\n",
      "    https://scikit-learn.org/stable/modules/linear_model.html#logistic-regression\n",
      "  n_iter_i = _check_optimize_result(\n",
      "C:\\Users\\laptop\\anaconda3\\lib\\site-packages\\sklearn\\linear_model\\_logistic.py:814: ConvergenceWarning: lbfgs failed to converge (status=1):\n",
      "STOP: TOTAL NO. of ITERATIONS REACHED LIMIT.\n",
      "\n",
      "Increase the number of iterations (max_iter) or scale the data as shown in:\n",
      "    https://scikit-learn.org/stable/modules/preprocessing.html\n",
      "Please also refer to the documentation for alternative solver options:\n",
      "    https://scikit-learn.org/stable/modules/linear_model.html#logistic-regression\n",
      "  n_iter_i = _check_optimize_result(\n",
      "C:\\Users\\laptop\\anaconda3\\lib\\site-packages\\sklearn\\linear_model\\_logistic.py:814: ConvergenceWarning: lbfgs failed to converge (status=1):\n",
      "STOP: TOTAL NO. of ITERATIONS REACHED LIMIT.\n",
      "\n",
      "Increase the number of iterations (max_iter) or scale the data as shown in:\n",
      "    https://scikit-learn.org/stable/modules/preprocessing.html\n",
      "Please also refer to the documentation for alternative solver options:\n",
      "    https://scikit-learn.org/stable/modules/linear_model.html#logistic-regression\n",
      "  n_iter_i = _check_optimize_result(\n",
      "C:\\Users\\laptop\\anaconda3\\lib\\site-packages\\sklearn\\linear_model\\_logistic.py:814: ConvergenceWarning: lbfgs failed to converge (status=1):\n",
      "STOP: TOTAL NO. of ITERATIONS REACHED LIMIT.\n",
      "\n",
      "Increase the number of iterations (max_iter) or scale the data as shown in:\n",
      "    https://scikit-learn.org/stable/modules/preprocessing.html\n",
      "Please also refer to the documentation for alternative solver options:\n",
      "    https://scikit-learn.org/stable/modules/linear_model.html#logistic-regression\n",
      "  n_iter_i = _check_optimize_result(\n",
      "C:\\Users\\laptop\\anaconda3\\lib\\site-packages\\sklearn\\linear_model\\_logistic.py:814: ConvergenceWarning: lbfgs failed to converge (status=1):\n",
      "STOP: TOTAL NO. of ITERATIONS REACHED LIMIT.\n",
      "\n",
      "Increase the number of iterations (max_iter) or scale the data as shown in:\n",
      "    https://scikit-learn.org/stable/modules/preprocessing.html\n",
      "Please also refer to the documentation for alternative solver options:\n",
      "    https://scikit-learn.org/stable/modules/linear_model.html#logistic-regression\n",
      "  n_iter_i = _check_optimize_result(\n",
      "C:\\Users\\laptop\\anaconda3\\lib\\site-packages\\sklearn\\linear_model\\_logistic.py:814: ConvergenceWarning: lbfgs failed to converge (status=1):\n",
      "STOP: TOTAL NO. of ITERATIONS REACHED LIMIT.\n",
      "\n",
      "Increase the number of iterations (max_iter) or scale the data as shown in:\n",
      "    https://scikit-learn.org/stable/modules/preprocessing.html\n",
      "Please also refer to the documentation for alternative solver options:\n",
      "    https://scikit-learn.org/stable/modules/linear_model.html#logistic-regression\n",
      "  n_iter_i = _check_optimize_result(\n",
      "C:\\Users\\laptop\\anaconda3\\lib\\site-packages\\sklearn\\linear_model\\_logistic.py:814: ConvergenceWarning: lbfgs failed to converge (status=1):\n",
      "STOP: TOTAL NO. of ITERATIONS REACHED LIMIT.\n",
      "\n",
      "Increase the number of iterations (max_iter) or scale the data as shown in:\n",
      "    https://scikit-learn.org/stable/modules/preprocessing.html\n",
      "Please also refer to the documentation for alternative solver options:\n",
      "    https://scikit-learn.org/stable/modules/linear_model.html#logistic-regression\n",
      "  n_iter_i = _check_optimize_result(\n",
      "C:\\Users\\laptop\\anaconda3\\lib\\site-packages\\sklearn\\linear_model\\_logistic.py:814: ConvergenceWarning: lbfgs failed to converge (status=1):\n",
      "STOP: TOTAL NO. of ITERATIONS REACHED LIMIT.\n",
      "\n",
      "Increase the number of iterations (max_iter) or scale the data as shown in:\n",
      "    https://scikit-learn.org/stable/modules/preprocessing.html\n",
      "Please also refer to the documentation for alternative solver options:\n",
      "    https://scikit-learn.org/stable/modules/linear_model.html#logistic-regression\n",
      "  n_iter_i = _check_optimize_result(\n"
     ]
    },
    {
     "name": "stderr",
     "output_type": "stream",
     "text": [
      "C:\\Users\\laptop\\anaconda3\\lib\\site-packages\\sklearn\\linear_model\\_sag.py:352: ConvergenceWarning: The max_iter was reached which means the coef_ did not converge\n",
      "  warnings.warn(\n",
      "C:\\Users\\laptop\\anaconda3\\lib\\site-packages\\sklearn\\linear_model\\_sag.py:352: ConvergenceWarning: The max_iter was reached which means the coef_ did not converge\n",
      "  warnings.warn(\n",
      "C:\\Users\\laptop\\anaconda3\\lib\\site-packages\\sklearn\\linear_model\\_sag.py:352: ConvergenceWarning: The max_iter was reached which means the coef_ did not converge\n",
      "  warnings.warn(\n",
      "C:\\Users\\laptop\\anaconda3\\lib\\site-packages\\sklearn\\linear_model\\_sag.py:352: ConvergenceWarning: The max_iter was reached which means the coef_ did not converge\n",
      "  warnings.warn(\n",
      "C:\\Users\\laptop\\anaconda3\\lib\\site-packages\\sklearn\\linear_model\\_sag.py:352: ConvergenceWarning: The max_iter was reached which means the coef_ did not converge\n",
      "  warnings.warn(\n",
      "C:\\Users\\laptop\\anaconda3\\lib\\site-packages\\sklearn\\linear_model\\_sag.py:352: ConvergenceWarning: The max_iter was reached which means the coef_ did not converge\n",
      "  warnings.warn(\n",
      "C:\\Users\\laptop\\anaconda3\\lib\\site-packages\\sklearn\\linear_model\\_sag.py:352: ConvergenceWarning: The max_iter was reached which means the coef_ did not converge\n",
      "  warnings.warn(\n",
      "C:\\Users\\laptop\\anaconda3\\lib\\site-packages\\sklearn\\linear_model\\_sag.py:352: ConvergenceWarning: The max_iter was reached which means the coef_ did not converge\n",
      "  warnings.warn(\n",
      "C:\\Users\\laptop\\anaconda3\\lib\\site-packages\\sklearn\\linear_model\\_sag.py:352: ConvergenceWarning: The max_iter was reached which means the coef_ did not converge\n",
      "  warnings.warn(\n",
      "C:\\Users\\laptop\\anaconda3\\lib\\site-packages\\sklearn\\linear_model\\_sag.py:352: ConvergenceWarning: The max_iter was reached which means the coef_ did not converge\n",
      "  warnings.warn(\n",
      "C:\\Users\\laptop\\anaconda3\\lib\\site-packages\\sklearn\\linear_model\\_sag.py:352: ConvergenceWarning: The max_iter was reached which means the coef_ did not converge\n",
      "  warnings.warn(\n",
      "C:\\Users\\laptop\\anaconda3\\lib\\site-packages\\sklearn\\linear_model\\_sag.py:352: ConvergenceWarning: The max_iter was reached which means the coef_ did not converge\n",
      "  warnings.warn(\n",
      "C:\\Users\\laptop\\anaconda3\\lib\\site-packages\\sklearn\\linear_model\\_sag.py:352: ConvergenceWarning: The max_iter was reached which means the coef_ did not converge\n",
      "  warnings.warn(\n",
      "C:\\Users\\laptop\\anaconda3\\lib\\site-packages\\sklearn\\linear_model\\_sag.py:352: ConvergenceWarning: The max_iter was reached which means the coef_ did not converge\n",
      "  warnings.warn(\n",
      "C:\\Users\\laptop\\anaconda3\\lib\\site-packages\\sklearn\\linear_model\\_sag.py:352: ConvergenceWarning: The max_iter was reached which means the coef_ did not converge\n",
      "  warnings.warn(\n",
      "C:\\Users\\laptop\\anaconda3\\lib\\site-packages\\sklearn\\linear_model\\_sag.py:352: ConvergenceWarning: The max_iter was reached which means the coef_ did not converge\n",
      "  warnings.warn(\n"
     ]
    },
    {
     "name": "stdout",
     "output_type": "stream",
     "text": [
      "tuned hpyerparameters :(best parameters)  {'C': 10.0, 'penalty': 'l1', 'solver': 'saga'}\n",
      "accuracy : 0.9751828703703704\n"
     ]
    },
    {
     "name": "stderr",
     "output_type": "stream",
     "text": [
      "C:\\Users\\laptop\\anaconda3\\lib\\site-packages\\sklearn\\linear_model\\_sag.py:352: ConvergenceWarning: The max_iter was reached which means the coef_ did not converge\n",
      "  warnings.warn(\n",
      "C:\\Users\\laptop\\anaconda3\\lib\\site-packages\\sklearn\\linear_model\\_sag.py:352: ConvergenceWarning: The max_iter was reached which means the coef_ did not converge\n",
      "  warnings.warn(\n",
      "C:\\Users\\laptop\\anaconda3\\lib\\site-packages\\sklearn\\linear_model\\_sag.py:352: ConvergenceWarning: The max_iter was reached which means the coef_ did not converge\n",
      "  warnings.warn(\n",
      "C:\\Users\\laptop\\anaconda3\\lib\\site-packages\\sklearn\\linear_model\\_sag.py:352: ConvergenceWarning: The max_iter was reached which means the coef_ did not converge\n",
      "  warnings.warn(\n",
      "C:\\Users\\laptop\\anaconda3\\lib\\site-packages\\sklearn\\model_selection\\_validation.py:372: FitFailedWarning: \n",
      "210 fits failed out of a total of 700.\n",
      "The score on these train-test partitions for these parameters will be set to nan.\n",
      "If these failures are not expected, you can try to debug them by setting error_score='raise'.\n",
      "\n",
      "Below are more details about the failures:\n",
      "--------------------------------------------------------------------------------\n",
      "70 fits failed with the following error:\n",
      "Traceback (most recent call last):\n",
      "  File \"C:\\Users\\laptop\\anaconda3\\lib\\site-packages\\sklearn\\model_selection\\_validation.py\", line 680, in _fit_and_score\n",
      "    estimator.fit(X_train, y_train, **fit_params)\n",
      "  File \"C:\\Users\\laptop\\anaconda3\\lib\\site-packages\\sklearn\\linear_model\\_logistic.py\", line 1461, in fit\n",
      "    solver = _check_solver(self.solver, self.penalty, self.dual)\n",
      "  File \"C:\\Users\\laptop\\anaconda3\\lib\\site-packages\\sklearn\\linear_model\\_logistic.py\", line 447, in _check_solver\n",
      "    raise ValueError(\n",
      "ValueError: Solver newton-cg supports only 'l2' or 'none' penalties, got l1 penalty.\n",
      "\n",
      "--------------------------------------------------------------------------------\n",
      "70 fits failed with the following error:\n",
      "Traceback (most recent call last):\n",
      "  File \"C:\\Users\\laptop\\anaconda3\\lib\\site-packages\\sklearn\\model_selection\\_validation.py\", line 680, in _fit_and_score\n",
      "    estimator.fit(X_train, y_train, **fit_params)\n",
      "  File \"C:\\Users\\laptop\\anaconda3\\lib\\site-packages\\sklearn\\linear_model\\_logistic.py\", line 1461, in fit\n",
      "    solver = _check_solver(self.solver, self.penalty, self.dual)\n",
      "  File \"C:\\Users\\laptop\\anaconda3\\lib\\site-packages\\sklearn\\linear_model\\_logistic.py\", line 447, in _check_solver\n",
      "    raise ValueError(\n",
      "ValueError: Solver lbfgs supports only 'l2' or 'none' penalties, got l1 penalty.\n",
      "\n",
      "--------------------------------------------------------------------------------\n",
      "70 fits failed with the following error:\n",
      "Traceback (most recent call last):\n",
      "  File \"C:\\Users\\laptop\\anaconda3\\lib\\site-packages\\sklearn\\model_selection\\_validation.py\", line 680, in _fit_and_score\n",
      "    estimator.fit(X_train, y_train, **fit_params)\n",
      "  File \"C:\\Users\\laptop\\anaconda3\\lib\\site-packages\\sklearn\\linear_model\\_logistic.py\", line 1461, in fit\n",
      "    solver = _check_solver(self.solver, self.penalty, self.dual)\n",
      "  File \"C:\\Users\\laptop\\anaconda3\\lib\\site-packages\\sklearn\\linear_model\\_logistic.py\", line 447, in _check_solver\n",
      "    raise ValueError(\n",
      "ValueError: Solver sag supports only 'l2' or 'none' penalties, got l1 penalty.\n",
      "\n",
      "  warnings.warn(some_fits_failed_message, FitFailedWarning)\n",
      "C:\\Users\\laptop\\anaconda3\\lib\\site-packages\\sklearn\\model_selection\\_search.py:969: UserWarning: One or more of the test scores are non-finite: [       nan        nan 0.5               nan 0.5        0.96063097\n",
      " 0.96063097 0.95935843 0.96063097 0.96063097        nan        nan\n",
      " 0.92548422        nan 0.92562421 0.97259539 0.97259539 0.96651876\n",
      " 0.97259539 0.9725943         nan        nan 0.97205629        nan\n",
      " 0.97146382 0.97403984 0.97403984 0.97489303 0.97405032 0.97449013\n",
      "        nan        nan 0.96743872        nan 0.97428947 0.96328582\n",
      " 0.96328582 0.97056591 0.97303009 0.97507761        nan        nan\n",
      " 0.94853692        nan 0.97518287 0.9431261  0.9431261  0.94493165\n",
      " 0.97256823 0.97476182        nan        nan 0.9464085         nan\n",
      " 0.97476291 0.9457327  0.94594103 0.94606835 0.97277656 0.97507761\n",
      "        nan        nan 0.94527096        nan 0.9750787  0.94669566\n",
      " 0.94761769 0.94669566 0.97287025 0.97486818]\n",
      "  warnings.warn(\n",
      "C:\\Users\\laptop\\anaconda3\\lib\\site-packages\\sklearn\\linear_model\\_sag.py:352: ConvergenceWarning: The max_iter was reached which means the coef_ did not converge\n",
      "  warnings.warn(\n"
     ]
    }
   ],
   "source": [
    "grid = {\"C\":np.logspace(-3,3,7), \n",
    "      \"penalty\":[\"l1\",\"l2\"], \n",
    "      'solver' : ['newton-cg', 'lbfgs', 'liblinear', 'sag', 'saga'] }\n",
    "\n",
    "logreg = LogisticRegression()\n",
    "logreg_cv = GridSearchCV(logreg,grid,cv=10, scoring='roc_auc')\n",
    "logreg_cv.fit(scale(X_train),y_train)\n",
    "\n",
    "print(\"tuned hpyerparameters :(best parameters) \",logreg_cv.best_params_)\n",
    "print(\"accuracy :\",logreg_cv.best_score_)"
   ]
  },
  {
   "cell_type": "code",
   "execution_count": 68,
   "id": "f766ac0c",
   "metadata": {},
   "outputs": [
    {
     "data": {
      "text/plain": [
       "{'C': 10.0, 'penalty': 'l1', 'solver': 'saga'}"
      ]
     },
     "execution_count": 68,
     "metadata": {},
     "output_type": "execute_result"
    }
   ],
   "source": [
    "logreg_cv.best_params_"
   ]
  },
  {
   "cell_type": "markdown",
   "id": "7d69fbe1",
   "metadata": {},
   "source": [
    "### Best model"
   ]
  },
  {
   "cell_type": "code",
   "execution_count": 69,
   "id": "0bdadd84",
   "metadata": {},
   "outputs": [
    {
     "name": "stdout",
     "output_type": "stream",
     "text": [
      "              precision    recall  f1-score   support\n",
      "\n",
      "           0       0.97      0.98      0.97       412\n",
      "           1       0.76      0.71      0.73        41\n",
      "\n",
      "    accuracy                           0.95       453\n",
      "   macro avg       0.87      0.84      0.85       453\n",
      "weighted avg       0.95      0.95      0.95       453\n",
      "\n",
      "Confusion matrix:\n",
      "[[403   9]\n",
      " [ 12  29]]\n",
      "\n",
      "\n",
      "ROC-AUC curve:\n"
     ]
    },
    {
     "name": "stderr",
     "output_type": "stream",
     "text": [
      "C:\\Users\\laptop\\anaconda3\\lib\\site-packages\\sklearn\\linear_model\\_sag.py:352: ConvergenceWarning: The max_iter was reached which means the coef_ did not converge\n",
      "  warnings.warn(\n"
     ]
    },
    {
     "data": {
      "image/png": "[encoded data removed]",
      "text/plain": [
       "<Figure size 640x480 with 1 Axes>"
      ]
     },
     "metadata": {},
     "output_type": "display_data"
    }
   ],
   "source": [
    "from sklearn.linear_model import LogisticRegression\n",
    "\n",
    "lr_best = LogisticRegression(C=10, penalty='l1', solver= 'saga')\n",
    "lr_best.fit(scale(X_train), y_train)\n",
    "\n",
    "y_pred = lr_best.predict(scale(X_test))\n",
    "print(classification_report(y_test, y_pred))\n",
    "\n",
    "print('Confusion matrix:')\n",
    "print(confusion_matrix(y_test, y_pred))\n",
    "\n",
    "print('\\n')\n",
    "print('ROC-AUC curve:')\n",
    "y_pred_proba = lr_best.predict_proba(scale(X_test))\n",
    "plot_roc_curve(y_test, y_pred_proba[:, 1])"
   ]
  },
  {
   "cell_type": "markdown",
   "id": "7c10ed2e",
   "metadata": {},
   "source": [
    "## Random Forest Classifier"
   ]
  },
  {
   "cell_type": "code",
   "execution_count": 58,
   "id": "7a89a6e8",
   "metadata": {},
   "outputs": [],
   "source": [
    "from sklearn.ensemble import RandomForestClassifier"
   ]
  },
  {
   "cell_type": "markdown",
   "id": "6c93cb85",
   "metadata": {},
   "source": [
    "### Base"
   ]
  },
  {
   "cell_type": "code",
   "execution_count": 59,
   "id": "0252fa90",
   "metadata": {},
   "outputs": [
    {
     "name": "stdout",
     "output_type": "stream",
     "text": [
      "              precision    recall  f1-score   support\n",
      "\n",
      "           0       0.98      0.99      0.98       412\n",
      "           1       0.91      0.76      0.83        41\n",
      "\n",
      "    accuracy                           0.97       453\n",
      "   macro avg       0.94      0.87      0.91       453\n",
      "weighted avg       0.97      0.97      0.97       453\n",
      "\n",
      "Confusion matrix:\n",
      "[[409   3]\n",
      " [ 10  31]]\n",
      "\n",
      "\n",
      "ROC-AUC curve:\n"
     ]
    },
    {
     "data": {
      "image/png": "[encoded data removed]",
      "text/plain": [
       "<Figure size 640x480 with 1 Axes>"
      ]
     },
     "metadata": {},
     "output_type": "display_data"
    }
   ],
   "source": [
    "base_forest = RandomForestClassifier()\n",
    "base_forest.fit(X_train, y_train)\n",
    "\n",
    "# Make predictions for the test set\n",
    "y_pred = base_forest.predict(X_test)\n",
    "print(classification_report(y_test, y_pred))\n",
    "\n",
    "print('Confusion matrix:')\n",
    "print(confusion_matrix(y_test, y_pred))\n",
    "\n",
    "print('\\n')\n",
    "print('ROC-AUC curve:')\n",
    "y_pred_proba = base_forest.predict_proba(X_test)\n",
    "plot_roc_curve(y_test, y_pred_proba[:, 1])"
   ]
  },
  {
   "cell_type": "markdown",
   "id": "9491eefa",
   "metadata": {},
   "source": [
    "### Grid Search"
   ]
  },
  {
   "cell_type": "markdown",
   "id": "a7224731",
   "metadata": {},
   "source": [
    "#### Scoring 'roc_auc'"
   ]
  },
  {
   "cell_type": "code",
   "execution_count": 60,
   "id": "6ed57a78",
   "metadata": {},
   "outputs": [
    {
     "data": {
      "text/plain": [
       "GridSearchCV(cv=5, estimator=RandomForestClassifier(random_state=42),\n",
       "             param_grid={'criterion': ['gini', 'entropy'],\n",
       "                         'max_depth': [4, 5, 6, 7, 8],\n",
       "                         'max_features': ['sqrt', 'log2'],\n",
       "                         'n_estimators': [100, 200]},\n",
       "             scoring='roc_auc')"
      ]
     },
     "execution_count": 60,
     "metadata": {},
     "output_type": "execute_result"
    }
   ],
   "source": [
    "rfc = RandomForestClassifier(random_state=42)\n",
    "\n",
    "param_grid = { \n",
    "    'n_estimators': [100, 200],\n",
    "    'max_features': ['sqrt', 'log2'],\n",
    "    'max_depth' : [4,5,6,7,8],\n",
    "    'criterion' :['gini', 'entropy']\n",
    "}\n",
    "\n",
    "CV_rfc = GridSearchCV(estimator=rfc, param_grid=param_grid, cv= 5, scoring='roc_auc')\n",
    "CV_rfc.fit(X_train, y_train)"
   ]
  },
  {
   "cell_type": "code",
   "execution_count": 61,
   "id": "cb5d53bd",
   "metadata": {},
   "outputs": [
    {
     "data": {
      "text/plain": [
       "{'criterion': 'entropy',\n",
       " 'max_depth': 8,\n",
       " 'max_features': 'log2',\n",
       " 'n_estimators': 100}"
      ]
     },
     "execution_count": 61,
     "metadata": {},
     "output_type": "execute_result"
    }
   ],
   "source": [
    "CV_rfc.best_params_"
   ]
  },
  {
   "cell_type": "markdown",
   "id": "6a10e357",
   "metadata": {},
   "source": [
    "### Best model"
   ]
  },
  {
   "cell_type": "code",
   "execution_count": 62,
   "id": "ac3da12e",
   "metadata": {},
   "outputs": [
    {
     "name": "stdout",
     "output_type": "stream",
     "text": [
      "              precision    recall  f1-score   support\n",
      "\n",
      "           0       0.96      1.00      0.98       412\n",
      "           1       0.93      0.63      0.75        41\n",
      "\n",
      "    accuracy                           0.96       453\n",
      "   macro avg       0.95      0.81      0.87       453\n",
      "weighted avg       0.96      0.96      0.96       453\n",
      "\n",
      "Confusion matrix:\n",
      "[[410   2]\n",
      " [ 15  26]]\n",
      "\n",
      "\n",
      "ROC-AUC curve:\n"
     ]
    },
    {
     "data": {
      "image/png": "[encoded data removed]",
      "text/plain": [
       "<Figure size 640x480 with 1 Axes>"
      ]
     },
     "metadata": {},
     "output_type": "display_data"
    }
   ],
   "source": [
    "rfc_best = RandomForestClassifier(random_state=42, \n",
    "                              max_features='sqrt', \n",
    "                              n_estimators= 200,\n",
    "                              max_depth=8, \n",
    "                              criterion='entropy')\n",
    "\n",
    "rfc_best.fit(X_train, y_train)\n",
    "y_pred = rfc_best.predict(X_test)\n",
    "print(classification_report(y_test, y_pred))\n",
    "\n",
    "print('Confusion matrix:')\n",
    "print(confusion_matrix(y_test, y_pred))\n",
    "\n",
    "print('\\n')\n",
    "print('ROC-AUC curve:')\n",
    "y_pred_proba = rfc_best.predict_proba(X_test)\n",
    "plot_roc_curve(y_test, y_pred_proba[:, 1])"
   ]
  },
  {
   "cell_type": "code",
   "execution_count": 63,
   "id": "3537f536",
   "metadata": {},
   "outputs": [
    {
     "data": {
      "image/png": "[encoded data removed]",
      "text/plain": [
       "<Figure size 800x500 with 1 Axes>"
      ]
     },
     "metadata": {},
     "output_type": "display_data"
    }
   ],
   "source": [
    "#getting features importance of random forest\n",
    "get_features_importance(df, rfc_best, X_train)"
   ]
  },
  {
   "cell_type": "markdown",
   "id": "32a400fc",
   "metadata": {},
   "source": [
    "## Gradient Boosting"
   ]
  },
  {
   "cell_type": "code",
   "execution_count": 64,
   "id": "9dd1b168",
   "metadata": {},
   "outputs": [
    {
     "name": "stdout",
     "output_type": "stream",
     "text": [
      "1.0.2\n"
     ]
    }
   ],
   "source": [
    "from sklearn.model_selection import cross_val_score\n",
    "from sklearn.model_selection import RepeatedStratifiedKFold\n",
    "from sklearn.ensemble import GradientBoostingClassifier\n",
    "\n",
    "import sklearn\n",
    "print(sklearn.__version__)"
   ]
  },
  {
   "cell_type": "code",
   "execution_count": 65,
   "id": "95e951dc",
   "metadata": {},
   "outputs": [
    {
     "name": "stdout",
     "output_type": "stream",
     "text": [
      "Mean Accuracy: 0.980 (0.011)\n"
     ]
    }
   ],
   "source": [
    "# define the model\n",
    "gbc = GradientBoostingClassifier()\n",
    "# define the evaluation method\n",
    "cv = RepeatedStratifiedKFold(n_splits=10, n_repeats=3, random_state=42)\n",
    "# evaluate the model on the dataset\n",
    "n_scores = cross_val_score(gbc, X, y, scoring='accuracy', cv=cv, n_jobs=-1)\n",
    "# report performance\n",
    "print('Mean Accuracy: %.3f (%.3f)' % (np.mean(n_scores), np.std(n_scores)))"
   ]
  },
  {
   "cell_type": "markdown",
   "id": "42f2c924",
   "metadata": {},
   "source": [
    "### Base"
   ]
  },
  {
   "cell_type": "code",
   "execution_count": 66,
   "id": "7adb4d18",
   "metadata": {},
   "outputs": [
    {
     "name": "stdout",
     "output_type": "stream",
     "text": [
      "              precision    recall  f1-score   support\n",
      "\n",
      "           0       0.99      1.00      1.00       412\n",
      "           1       1.00      0.93      0.96        41\n",
      "\n",
      "    accuracy                           0.99       453\n",
      "   macro avg       1.00      0.96      0.98       453\n",
      "weighted avg       0.99      0.99      0.99       453\n",
      "\n",
      "Confusion matrix:\n",
      "[[412   0]\n",
      " [  3  38]]\n",
      "\n",
      "\n",
      "ROC-AUC curve:\n"
     ]
    },
    {
     "data": {
      "image/png": "[encoded data removed]",
      "text/plain": [
       "<Figure size 640x480 with 1 Axes>"
      ]
     },
     "metadata": {},
     "output_type": "display_data"
    }
   ],
   "source": [
    "gbc.fit(X, y)\n",
    "\n",
    "y_pred = gbc.predict(X_test)\n",
    "print(classification_report(y_test, y_pred))\n",
    "\n",
    "print('Confusion matrix:')\n",
    "print(confusion_matrix(y_test, y_pred))\n",
    "\n",
    "print('\\n')\n",
    "print('ROC-AUC curve:')\n",
    "y_pred_proba = gbc.predict_proba(X_test)\n",
    "plot_roc_curve(y_test, y_pred_proba[:, 1])"
   ]
  },
  {
   "cell_type": "code",
   "execution_count": 67,
   "id": "cdd63e9a",
   "metadata": {},
   "outputs": [
    {
     "data": {
      "image/png": "[encoded data removed]",
      "text/plain": [
       "<Figure size 800x500 with 1 Axes>"
      ]
     },
     "metadata": {},
     "output_type": "display_data"
    }
   ],
   "source": [
    "#getting features importance of gradient boosting\n",
    "get_features_importance(df, gbc, X_train)"
   ]
  },
  {
   "cell_type": "markdown",
   "id": "ab067fca",
   "metadata": {},
   "source": [
    "### Grid Search"
   ]
  },
  {
   "cell_type": "code",
   "execution_count": null,
   "id": "f245b4aa",
   "metadata": {},
   "outputs": [],
   "source": [
    "# # define the model with default hyperparameters\n",
    "# model = GradientBoostingClassifier()\n",
    "# # define the grid of values to search\n",
    "# grid = dict()\n",
    "# grid['n_estimators'] = [10, 50, 100, 500]\n",
    "# grid['learning_rate'] = [0.0001, 0.001, 0.01, 0.1, 1.0]\n",
    "# grid['subsample'] = [0.5, 0.7, 1.0]\n",
    "# grid['max_depth'] = [3, 7, 9]\n",
    "# # define the evaluation procedure\n",
    "# cv = RepeatedStratifiedKFold(n_splits=10, n_repeats=3, random_state=42)\n",
    "# # define the grid search procedure\n",
    "# grid_search = GridSearchCV(estimator=model, param_grid=grid, n_jobs=-1, cv=cv, scoring='roc_auc')\n",
    "# # execute the grid search\n",
    "# grid_result = grid_search.fit(scale(X), y)\n",
    "# # summarize the best score and configuration\n",
    "# print(\"Best: %f using %s\" % (grid_result.best_score_, grid_result.best_params_))\n",
    "# # summarize all scores that were evaluated\n",
    "# means = grid_result.cv_results_['mean_test_score']\n",
    "# stds = grid_result.cv_results_['std_test_score']\n",
    "# params = grid_result.cv_results_['params']\n",
    "# for mean, stdev, param in zip(means, stds, params):\n",
    "#     print(\"%f (%f) with: %r\" % (mean, stdev, param))"
   ]
  }
 ],
 "metadata": {
  "kernelspec": {
   "display_name": "Python 3 (ipykernel)",
   "language": "python",
   "name": "python3"
  },
  "language_info": {
   "codemirror_mode": {
    "name": "ipython",
    "version": 3
   },
   "file_extension": ".py",
   "mimetype": "text/x-python",
   "name": "python",
   "nbconvert_exporter": "python",
   "pygments_lexer": "ipython3",
   "version": "3.9.13"
  },
  "toc": {
   "base_numbering": 1,
   "nav_menu": {},
   "number_sections": true,
   "sideBar": true,
   "skip_h1_title": false,
   "title_cell": "Table of Contents",
   "title_sidebar": "Contents",
   "toc_cell": false,
   "toc_position": {},
   "toc_section_display": true,
   "toc_window_display": false
  },
  "varInspector": {
   "cols": {
    "lenName": 16,
    "lenType": 16,
    "lenVar": 40
   },
   "kernels_config": {
    "python": {
     "delete_cmd_postfix": "",
     "delete_cmd_prefix": "del ",
     "library": "var_list.py",
     "varRefreshCmd": "print(var_dic_list())"
    },
    "r": {
     "delete_cmd_postfix": ") ",
     "delete_cmd_prefix": "rm(",
     "library": "var_list.r",
     "varRefreshCmd": "cat(var_dic_list()) "
    }
   },
   "types_to_exclude": [
    "module",
    "function",
    "builtin_function_or_method",
    "instance",
    "_Feature"
   ],
   "window_display": false
  }
 },
 "nbformat": 4,
 "nbformat_minor": 5
}
