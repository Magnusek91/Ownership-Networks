{
 "cells": [
  {
   "cell_type": "markdown",
   "id": "285771c9",
   "metadata": {},
   "source": [
    "# Ownership-Networks"
   ]
  },
  {
   "cell_type": "markdown",
   "id": "bc127477",
   "metadata": {},
   "source": [
    "## Data Import"
   ]
  },
  {
   "cell_type": "code",
   "execution_count": 1,
   "id": "eaff2ed0",
   "metadata": {},
   "outputs": [],
   "source": [
    "import pandas as pd\n",
    "import numpy as np"
   ]
  },
  {
   "cell_type": "code",
   "execution_count": 2,
   "id": "faff6344",
   "metadata": {},
   "outputs": [],
   "source": [
    "codebook = 'new'"
   ]
  },
  {
   "cell_type": "code",
   "execution_count": 3,
   "id": "23c4ff9e",
   "metadata": {
    "scrolled": true
   },
   "outputs": [],
   "source": [
    "file_name = '3030-own'\n",
    "df = pd.read_csv(f'Data/{file_name}.csv',\n",
    "                     encoding='unicode_escape',\n",
    "                    index_col=0)\n",
    "\n",
    "df.rename(columns={'Company name Latin alphabet': 'Comp_Name',\n",
    "                   'Country ISO code': 'Country',\n",
    "                   'NACE Rev. 2, core code (4 digits)': 'NACE',\n",
    "                   'BvD ID number': 'BvD',\n",
    "                   'Operating revenue (Turnover)\\nth USD Last avail. yr': 'TURN',\n",
    "                   'Cash flow\\nth USD Last avail. yr': 'CF',\n",
    "                   'Total assets\\nth USD Last avail. yr': 'TASS',\n",
    "                   'Shareholders funds\\nth USD Last avail. yr': 'EC',\n",
    "                   'Number of employees\\nLast avail. yr': 'EM',\n",
    "                   'Shareholder - Name': 'Sha_name',\n",
    "                   'Shareholder - BvD ID number': 'Sha_BvD',\n",
    "                   'Shareholder - Direct %': 'Sha_%',\n",
    "                   'Shareholder - Country ISO code': 'Sha_cntr',\n",
    "                   'Shareholder - NACE,\\nCore code': 'Sha_NACE', \n",
    "                   'Subsidiary - Name': 'Sub_name',\n",
    "                   'Subsidiary - BvD ID number': 'Sub_BvD',\n",
    "                   'Subsidiary - Direct %': 'Sub_%',\n",
    "                   'Subsidiary - Country ISO code': 'Sub_cntr',\n",
    "                   'Subsidiary - NACE,\\nCore code': 'Sub_NACE'\n",
    "                  },\n",
    "            inplace=True)"
   ]
  },
  {
   "cell_type": "code",
   "execution_count": 4,
   "id": "c4495bb7",
   "metadata": {},
   "outputs": [
    {
     "data": {
      "text/html": [
       "<div>\n",
       "<style scoped>\n",
       "    .dataframe tbody tr th:only-of-type {\n",
       "        vertical-align: middle;\n",
       "    }\n",
       "\n",
       "    .dataframe tbody tr th {\n",
       "        vertical-align: top;\n",
       "    }\n",
       "\n",
       "    .dataframe thead th {\n",
       "        text-align: right;\n",
       "    }\n",
       "</style>\n",
       "<table border=\"1\" class=\"dataframe\">\n",
       "  <thead>\n",
       "    <tr style=\"text-align: right;\">\n",
       "      <th></th>\n",
       "      <th>Comp_Name</th>\n",
       "      <th>Country</th>\n",
       "      <th>BvD</th>\n",
       "      <th>NACE</th>\n",
       "      <th>TURN</th>\n",
       "      <th>CF</th>\n",
       "      <th>TASS</th>\n",
       "      <th>EC</th>\n",
       "      <th>EM</th>\n",
       "      <th>Sha_name</th>\n",
       "      <th>Sha_BvD</th>\n",
       "      <th>Sha_cntr</th>\n",
       "      <th>Sha_NACE</th>\n",
       "      <th>Sha_%</th>\n",
       "      <th>Sub_name</th>\n",
       "      <th>Sub_BvD</th>\n",
       "      <th>Sub_cntr</th>\n",
       "      <th>Sub_NACE</th>\n",
       "      <th>Sub_%</th>\n",
       "    </tr>\n",
       "  </thead>\n",
       "  <tbody>\n",
       "    <tr>\n",
       "      <th>1.0</th>\n",
       "      <td>AIRBUS SE</td>\n",
       "      <td>NL</td>\n",
       "      <td>NL24288945</td>\n",
       "      <td>3030.0</td>\n",
       "      <td>59 736 738</td>\n",
       "      <td>7 471 764</td>\n",
       "      <td>121 241 465</td>\n",
       "      <td>10 743 847</td>\n",
       "      <td>126 495</td>\n",
       "      <td>GESELLSCHAFT ZUR BETEILIGUNGSVERWALTUNG GZBV M...</td>\n",
       "      <td>DE6070642164</td>\n",
       "      <td>DE</td>\n",
       "      <td>6420</td>\n",
       "      <td>10.90</td>\n",
       "      <td>AERO RÉ</td>\n",
       "      <td>LULB51757</td>\n",
       "      <td>LU</td>\n",
       "      <td>6520.0</td>\n",
       "      <td>100.00</td>\n",
       "    </tr>\n",
       "    <tr>\n",
       "      <th>NaN</th>\n",
       "      <td>NaN</td>\n",
       "      <td>NaN</td>\n",
       "      <td>NaN</td>\n",
       "      <td>NaN</td>\n",
       "      <td>NaN</td>\n",
       "      <td>NaN</td>\n",
       "      <td>NaN</td>\n",
       "      <td>NaN</td>\n",
       "      <td>NaN</td>\n",
       "      <td>SOGEPA</td>\n",
       "      <td>FR318186756</td>\n",
       "      <td>FR</td>\n",
       "      <td>6420</td>\n",
       "      <td>10.90</td>\n",
       "      <td>AIRBUS BANK GMBH</td>\n",
       "      <td>DEFEB14827</td>\n",
       "      <td>DE</td>\n",
       "      <td>6419.0</td>\n",
       "      <td>100.00</td>\n",
       "    </tr>\n",
       "    <tr>\n",
       "      <th>NaN</th>\n",
       "      <td>NaN</td>\n",
       "      <td>NaN</td>\n",
       "      <td>NaN</td>\n",
       "      <td>NaN</td>\n",
       "      <td>NaN</td>\n",
       "      <td>NaN</td>\n",
       "      <td>NaN</td>\n",
       "      <td>NaN</td>\n",
       "      <td>NaN</td>\n",
       "      <td>CAPITAL RESEARCH &amp; MANAGEMENT CO</td>\n",
       "      <td>US149114345L</td>\n",
       "      <td>US</td>\n",
       "      <td>6530</td>\n",
       "      <td>9.63</td>\n",
       "      <td>AIRBUS DEFENCE AND SPACE LIMITED</td>\n",
       "      <td>GB02449259</td>\n",
       "      <td>GB</td>\n",
       "      <td>3299.0</td>\n",
       "      <td>100.00</td>\n",
       "    </tr>\n",
       "    <tr>\n",
       "      <th>NaN</th>\n",
       "      <td>NaN</td>\n",
       "      <td>NaN</td>\n",
       "      <td>NaN</td>\n",
       "      <td>NaN</td>\n",
       "      <td>NaN</td>\n",
       "      <td>NaN</td>\n",
       "      <td>NaN</td>\n",
       "      <td>NaN</td>\n",
       "      <td>NaN</td>\n",
       "      <td>SOCIEDAD ESTATAL DE PARTICIPACIONES INDUSTRIALES</td>\n",
       "      <td>ESQ2820015B</td>\n",
       "      <td>ES</td>\n",
       "      <td>8411</td>\n",
       "      <td>4.12</td>\n",
       "      <td>AIRBUS DEFENCE AND SPACE NETHERLANDS B.V.</td>\n",
       "      <td>NL28086907</td>\n",
       "      <td>NL</td>\n",
       "      <td>3030.0</td>\n",
       "      <td>100.00</td>\n",
       "    </tr>\n",
       "    <tr>\n",
       "      <th>NaN</th>\n",
       "      <td>NaN</td>\n",
       "      <td>NaN</td>\n",
       "      <td>NaN</td>\n",
       "      <td>NaN</td>\n",
       "      <td>NaN</td>\n",
       "      <td>NaN</td>\n",
       "      <td>NaN</td>\n",
       "      <td>NaN</td>\n",
       "      <td>NaN</td>\n",
       "      <td>TCI FUND MANAGEMENT LTD</td>\n",
       "      <td>YY*4000000169624</td>\n",
       "      <td>n.a.</td>\n",
       "      <td>NaN</td>\n",
       "      <td>3.02</td>\n",
       "      <td>AUSTRALIAN AEROSPACE MILITARY MAINTENANCE PTY LTD</td>\n",
       "      <td>AU2-88271</td>\n",
       "      <td>AU</td>\n",
       "      <td>NaN</td>\n",
       "      <td>100.00</td>\n",
       "    </tr>\n",
       "  </tbody>\n",
       "</table>\n",
       "</div>"
      ],
      "text/plain": [
       "     Comp_Name Country         BvD    NACE        TURN         CF  \\\n",
       "1.0  AIRBUS SE      NL  NL24288945  3030.0  59 736 738  7 471 764   \n",
       "NaN        NaN     NaN         NaN     NaN         NaN        NaN   \n",
       "NaN        NaN     NaN         NaN     NaN         NaN        NaN   \n",
       "NaN        NaN     NaN         NaN     NaN         NaN        NaN   \n",
       "NaN        NaN     NaN         NaN     NaN         NaN        NaN   \n",
       "\n",
       "            TASS          EC       EM  \\\n",
       "1.0  121 241 465  10 743 847  126 495   \n",
       "NaN          NaN         NaN      NaN   \n",
       "NaN          NaN         NaN      NaN   \n",
       "NaN          NaN         NaN      NaN   \n",
       "NaN          NaN         NaN      NaN   \n",
       "\n",
       "                                              Sha_name           Sha_BvD  \\\n",
       "1.0  GESELLSCHAFT ZUR BETEILIGUNGSVERWALTUNG GZBV M...      DE6070642164   \n",
       "NaN                                             SOGEPA       FR318186756   \n",
       "NaN                   CAPITAL RESEARCH & MANAGEMENT CO      US149114345L   \n",
       "NaN   SOCIEDAD ESTATAL DE PARTICIPACIONES INDUSTRIALES       ESQ2820015B   \n",
       "NaN                            TCI FUND MANAGEMENT LTD  YY*4000000169624   \n",
       "\n",
       "    Sha_cntr Sha_NACE  Sha_%  \\\n",
       "1.0       DE     6420  10.90   \n",
       "NaN       FR     6420  10.90   \n",
       "NaN       US     6530   9.63   \n",
       "NaN       ES     8411   4.12   \n",
       "NaN     n.a.      NaN   3.02   \n",
       "\n",
       "                                              Sub_name     Sub_BvD Sub_cntr  \\\n",
       "1.0                                            AERO RÉ   LULB51757       LU   \n",
       "NaN                                   AIRBUS BANK GMBH  DEFEB14827       DE   \n",
       "NaN                   AIRBUS DEFENCE AND SPACE LIMITED  GB02449259       GB   \n",
       "NaN          AIRBUS DEFENCE AND SPACE NETHERLANDS B.V.  NL28086907       NL   \n",
       "NaN  AUSTRALIAN AEROSPACE MILITARY MAINTENANCE PTY LTD   AU2-88271       AU   \n",
       "\n",
       "     Sub_NACE   Sub_%  \n",
       "1.0    6520.0  100.00  \n",
       "NaN    6419.0  100.00  \n",
       "NaN    3299.0  100.00  \n",
       "NaN    3030.0  100.00  \n",
       "NaN       NaN  100.00  "
      ]
     },
     "execution_count": 4,
     "metadata": {},
     "output_type": "execute_result"
    }
   ],
   "source": [
    "df.head()"
   ]
  },
  {
   "cell_type": "markdown",
   "id": "01fc5cb2",
   "metadata": {},
   "source": [
    "## Codebook"
   ]
  },
  {
   "cell_type": "code",
   "execution_count": 5,
   "id": "ce70ae0d",
   "metadata": {},
   "outputs": [],
   "source": [
    "# If it has already been generated\n",
    "if codebook == 'old':   \n",
    "    cdbk = pd.read_csv(f'Data\\\\Codebook.csv',index_col=0)\n",
    "    # Creating dictionary so that it can be used for index in the main dataframe\n",
    "    di_cdbk = dict([(bvd, index) for index, bvd in zip(cdbk.index, cdbk.BvD)])\n",
    "\n",
    "elif codebook == 'new':\n",
    "    # Add Targi companies\n",
    "    count = 1\n",
    "    di_cdbk = {}\n",
    "    df_targi = df[['Comp_Name', 'BvD']].dropna().drop_duplicates(subset=['Comp_Name', 'BvD']).sort_values(by='Comp_Name')\n",
    "    for company, bvd_code in zip(df_targi['Comp_Name'], df_targi['BvD']):\n",
    "        index = f'Targi_{count}'\n",
    "        di_cdbk[index] = [company, bvd_code]\n",
    "        count += 1\n",
    "        \n",
    "    # Add Neigh companies\n",
    "    count = 1\n",
    "    # Get all companies 'relative' to Targi's \n",
    "    relatives = set(list(df['Sha_BvD'].unique()) + list(df['Sub_BvD'].unique()))\n",
    "    targi = [value[1] for value in di_cdbk.values()]\n",
    "    # Extract those that are not already coded as Targi\n",
    "    neigh = [neigh for neigh in relatives if neigh not in targi]\n",
    "    neigh.remove(neigh[0])\n",
    "    df2 = df[['Sha_name', 'Sha_BvD']].rename(columns={'Sha_name':'Comp_Name', 'Sha_BvD':'BvD'}).dropna()\n",
    "    df3 = df[['Sub_name', 'Sub_BvD']].rename(columns={'Sub_name':'Comp_Name', 'Sub_BvD':'BvD'}).dropna()\n",
    "    df4 = pd.concat([df2, df3])\n",
    "    df4 = df4[df4['BvD'].isin(neigh)].drop_duplicates(subset=['Comp_Name', 'BvD']).sort_values(by='Comp_Name')\n",
    "    \n",
    "    for company, bvd_code in zip(df4['Comp_Name'], df4['BvD']):\n",
    "        index = f'Neigh_{count}'\n",
    "        di_cdbk[index] = [company, bvd_code]\n",
    "        count += 1\n",
    "    \n",
    "    # It is ready for export\n",
    "    cdbk_all = pd.DataFrame.from_dict(di_cdbk, orient='index', columns=['Comp_Name', 'BvD'])  # orient='index',\n",
    "#     cdbk_all.to_csv('Data\\Codebook.csv')"
   ]
  },
  {
   "cell_type": "code",
   "execution_count": 6,
   "id": "2cf1db1c",
   "metadata": {},
   "outputs": [],
   "source": [
    "# For mapping on companies there must a simpler two-column codeboook\n",
    "di_all = dict([(bvd, index) for index, bvd in zip(cdbk_all.index, cdbk_all.BvD)])"
   ]
  },
  {
   "cell_type": "markdown",
   "id": "24146ae5",
   "metadata": {},
   "source": [
    "## Creating separate dataframe with economic attributes for Targi companies"
   ]
  },
  {
   "cell_type": "code",
   "execution_count": 7,
   "id": "8646ecac",
   "metadata": {},
   "outputs": [
    {
     "data": {
      "text/html": [
       "<div>\n",
       "<style scoped>\n",
       "    .dataframe tbody tr th:only-of-type {\n",
       "        vertical-align: middle;\n",
       "    }\n",
       "\n",
       "    .dataframe tbody tr th {\n",
       "        vertical-align: top;\n",
       "    }\n",
       "\n",
       "    .dataframe thead th {\n",
       "        text-align: right;\n",
       "    }\n",
       "</style>\n",
       "<table border=\"1\" class=\"dataframe\">\n",
       "  <thead>\n",
       "    <tr style=\"text-align: right;\">\n",
       "      <th></th>\n",
       "      <th>Comp_Name</th>\n",
       "      <th>Country</th>\n",
       "      <th>NACE</th>\n",
       "      <th>BvD</th>\n",
       "      <th>TURN</th>\n",
       "      <th>CF</th>\n",
       "      <th>TASS</th>\n",
       "      <th>EC</th>\n",
       "      <th>EM</th>\n",
       "    </tr>\n",
       "    <tr>\n",
       "      <th>index</th>\n",
       "      <th></th>\n",
       "      <th></th>\n",
       "      <th></th>\n",
       "      <th></th>\n",
       "      <th></th>\n",
       "      <th></th>\n",
       "      <th></th>\n",
       "      <th></th>\n",
       "      <th></th>\n",
       "    </tr>\n",
       "  </thead>\n",
       "  <tbody>\n",
       "    <tr>\n",
       "      <th>Targi_109</th>\n",
       "      <td>AIRBUS SE</td>\n",
       "      <td>NL</td>\n",
       "      <td>3030.0</td>\n",
       "      <td>NL24288945</td>\n",
       "      <td>59 736 738</td>\n",
       "      <td>7 471 764</td>\n",
       "      <td>121 241 465</td>\n",
       "      <td>10 743 847</td>\n",
       "      <td>126 495</td>\n",
       "    </tr>\n",
       "    <tr>\n",
       "      <th>Targi_87</th>\n",
       "      <td>AIRBUS</td>\n",
       "      <td>FR</td>\n",
       "      <td>3030.0</td>\n",
       "      <td>FR383474814</td>\n",
       "      <td>46 503 021</td>\n",
       "      <td>1 450 146</td>\n",
       "      <td>67 241 069</td>\n",
       "      <td>11 035 552</td>\n",
       "      <td>8 944</td>\n",
       "    </tr>\n",
       "    <tr>\n",
       "      <th>Targi_272</th>\n",
       "      <td>BAE SYSTEMS PLC</td>\n",
       "      <td>GB</td>\n",
       "      <td>3030.0</td>\n",
       "      <td>GB01470151</td>\n",
       "      <td>26 837 099</td>\n",
       "      <td>3 328 945</td>\n",
       "      <td>36 453 156</td>\n",
       "      <td>10 301 190</td>\n",
       "      <td>82 000</td>\n",
       "    </tr>\n",
       "    <tr>\n",
       "      <th>Targi_927</th>\n",
       "      <td>SAFRAN</td>\n",
       "      <td>FR</td>\n",
       "      <td>3030.0</td>\n",
       "      <td>FR562082909</td>\n",
       "      <td>18 434 203</td>\n",
       "      <td>1 792 906</td>\n",
       "      <td>47 247 554</td>\n",
       "      <td>15 029 606</td>\n",
       "      <td>77 008</td>\n",
       "    </tr>\n",
       "    <tr>\n",
       "      <th>Targi_695</th>\n",
       "      <td>LEONARDO S.P.A.</td>\n",
       "      <td>IT</td>\n",
       "      <td>3030.0</td>\n",
       "      <td>IT00401990585</td>\n",
       "      <td>16 651 490</td>\n",
       "      <td>1 258 319</td>\n",
       "      <td>32 142 064</td>\n",
       "      <td>7 310 935</td>\n",
       "      <td>50 413</td>\n",
       "    </tr>\n",
       "  </tbody>\n",
       "</table>\n",
       "</div>"
      ],
      "text/plain": [
       "                 Comp_Name Country    NACE            BvD        TURN  \\\n",
       "index                                                                   \n",
       "Targi_109        AIRBUS SE      NL  3030.0     NL24288945  59 736 738   \n",
       "Targi_87            AIRBUS      FR  3030.0    FR383474814  46 503 021   \n",
       "Targi_272  BAE SYSTEMS PLC      GB  3030.0     GB01470151  26 837 099   \n",
       "Targi_927           SAFRAN      FR  3030.0    FR562082909  18 434 203   \n",
       "Targi_695  LEONARDO S.P.A.      IT  3030.0  IT00401990585  16 651 490   \n",
       "\n",
       "                  CF         TASS          EC       EM  \n",
       "index                                                   \n",
       "Targi_109  7 471 764  121 241 465  10 743 847  126 495  \n",
       "Targi_87   1 450 146   67 241 069  11 035 552    8 944  \n",
       "Targi_272  3 328 945   36 453 156  10 301 190   82 000  \n",
       "Targi_927  1 792 906   47 247 554  15 029 606   77 008  \n",
       "Targi_695  1 258 319   32 142 064   7 310 935   50 413  "
      ]
     },
     "execution_count": 7,
     "metadata": {},
     "output_type": "execute_result"
    }
   ],
   "source": [
    "import copy\n",
    "df_econ = copy.copy(df[['Comp_Name', 'Country', 'NACE', 'BvD', 'TURN', 'CF',\n",
    "       'TASS', 'EC', 'EM']]).drop_duplicates(subset=['BvD'], keep='first').dropna()\n",
    "\n",
    "df_econ['index'] = df_econ['BvD'].map(di_all)\n",
    "df_econ.set_index('index', inplace=True)\n",
    "df_econ.head()"
   ]
  },
  {
   "cell_type": "code",
   "execution_count": 8,
   "id": "aa7485c2",
   "metadata": {},
   "outputs": [],
   "source": [
    "df_econ.replace('n.a.', np.nan, inplace=True)"
   ]
  },
  {
   "cell_type": "code",
   "execution_count": 9,
   "id": "474da440",
   "metadata": {},
   "outputs": [
    {
     "data": {
      "text/plain": [
       "Comp_Name     0.000000\n",
       "Country       0.000000\n",
       "NACE          0.000000\n",
       "BvD           0.000000\n",
       "TURN         17.062818\n",
       "CF           27.164686\n",
       "TASS          5.602716\n",
       "EC            5.517827\n",
       "EM           33.955857\n",
       "dtype: float64"
      ]
     },
     "execution_count": 9,
     "metadata": {},
     "output_type": "execute_result"
    }
   ],
   "source": [
    "# MISSING DATA in %\n",
    "df_econ.isna().sum()/len(df_econ)*100"
   ]
  },
  {
   "cell_type": "code",
   "execution_count": 10,
   "id": "158adecb",
   "metadata": {},
   "outputs": [
    {
     "name": "stderr",
     "output_type": "stream",
     "text": [
      "C:\\Users\\laptop\\AppData\\Local\\Temp\\ipykernel_4652\\1455800995.py:8: SettingWithCopyWarning: \n",
      "A value is trying to be set on a copy of a slice from a DataFrame\n",
      "\n",
      "See the caveats in the documentation: https://pandas.pydata.org/pandas-docs/stable/user_guide/indexing.html#returning-a-view-versus-a-copy\n",
      "  df_econ[column].iloc[value[0]] = int(value[1].replace(\" \",\"\"))\n",
      "C:\\Users\\laptop\\AppData\\Local\\Temp\\ipykernel_4652\\1455800995.py:6: SettingWithCopyWarning: \n",
      "A value is trying to be set on a copy of a slice from a DataFrame\n",
      "\n",
      "See the caveats in the documentation: https://pandas.pydata.org/pandas-docs/stable/user_guide/indexing.html#returning-a-view-versus-a-copy\n",
      "  df_econ[column].iloc[value[0]] = np.nan\n"
     ]
    }
   ],
   "source": [
    "size = ['TURN', 'TASS', 'CF', 'EC', 'EM']\n",
    "\n",
    "for column in size:\n",
    "    for value in enumerate(df_econ[column]):\n",
    "        if type(value[1]) == float:\n",
    "            df_econ[column].iloc[value[0]] = np.nan\n",
    "        else:\n",
    "            df_econ[column].iloc[value[0]] = int(value[1].replace(\" \",\"\"))"
   ]
  },
  {
   "cell_type": "code",
   "execution_count": 11,
   "id": "3e451502",
   "metadata": {},
   "outputs": [],
   "source": [
    "# Treats the NA in column with company name and BvD-code in the main dataframe\n",
    "df['Comp_Name'].fillna(method='ffill', inplace=True)\n",
    "df['BvD'].fillna(method='ffill', inplace=True)"
   ]
  },
  {
   "cell_type": "markdown",
   "id": "5c8cfc1b",
   "metadata": {},
   "source": [
    "## Creating separate dataframes for links with shareholders and subsidiaries"
   ]
  },
  {
   "cell_type": "code",
   "execution_count": 12,
   "id": "ec7c3d75",
   "metadata": {},
   "outputs": [],
   "source": [
    "import copy\n",
    "df_sub = copy.copy(df[['Comp_Name', 'BvD','Sub_BvD', 'Sub_%']].dropna(subset='Sub_BvD')).drop('Comp_Name', axis=1)\n",
    "df_sha = copy.copy(df[['Comp_Name', 'BvD','Sha_BvD', 'Sha_%',]].dropna(subset='Sha_BvD')).drop('Comp_Name', axis=1)"
   ]
  },
  {
   "cell_type": "markdown",
   "id": "9bb95f05",
   "metadata": {},
   "source": [
    "### Subsidiaries Dataframe"
   ]
  },
  {
   "cell_type": "code",
   "execution_count": 13,
   "id": "3c6affd9",
   "metadata": {
    "scrolled": true
   },
   "outputs": [
    {
     "data": {
      "text/html": [
       "<div>\n",
       "<style scoped>\n",
       "    .dataframe tbody tr th:only-of-type {\n",
       "        vertical-align: middle;\n",
       "    }\n",
       "\n",
       "    .dataframe tbody tr th {\n",
       "        vertical-align: top;\n",
       "    }\n",
       "\n",
       "    .dataframe thead th {\n",
       "        text-align: right;\n",
       "    }\n",
       "</style>\n",
       "<table border=\"1\" class=\"dataframe\">\n",
       "  <thead>\n",
       "    <tr style=\"text-align: right;\">\n",
       "      <th></th>\n",
       "      <th>BvD</th>\n",
       "      <th>Sub_BvD</th>\n",
       "      <th>Sub_%</th>\n",
       "    </tr>\n",
       "  </thead>\n",
       "  <tbody>\n",
       "    <tr>\n",
       "      <th>1.0</th>\n",
       "      <td>NL24288945</td>\n",
       "      <td>LULB51757</td>\n",
       "      <td>100.00</td>\n",
       "    </tr>\n",
       "    <tr>\n",
       "      <th>NaN</th>\n",
       "      <td>NL24288945</td>\n",
       "      <td>DEFEB14827</td>\n",
       "      <td>100.00</td>\n",
       "    </tr>\n",
       "    <tr>\n",
       "      <th>NaN</th>\n",
       "      <td>NL24288945</td>\n",
       "      <td>GB02449259</td>\n",
       "      <td>100.00</td>\n",
       "    </tr>\n",
       "    <tr>\n",
       "      <th>NaN</th>\n",
       "      <td>NL24288945</td>\n",
       "      <td>NL28086907</td>\n",
       "      <td>100.00</td>\n",
       "    </tr>\n",
       "    <tr>\n",
       "      <th>NaN</th>\n",
       "      <td>NL24288945</td>\n",
       "      <td>AU2-88271</td>\n",
       "      <td>100.00</td>\n",
       "    </tr>\n",
       "  </tbody>\n",
       "</table>\n",
       "</div>"
      ],
      "text/plain": [
       "            BvD     Sub_BvD   Sub_%\n",
       "1.0  NL24288945   LULB51757  100.00\n",
       "NaN  NL24288945  DEFEB14827  100.00\n",
       "NaN  NL24288945  GB02449259  100.00\n",
       "NaN  NL24288945  NL28086907  100.00\n",
       "NaN  NL24288945   AU2-88271  100.00"
      ]
     },
     "execution_count": 13,
     "metadata": {},
     "output_type": "execute_result"
    }
   ],
   "source": [
    "df_sub.head()"
   ]
  },
  {
   "cell_type": "markdown",
   "id": "d08c65c1",
   "metadata": {},
   "source": [
    "#### Checking for non-numeric values"
   ]
  },
  {
   "cell_type": "code",
   "execution_count": 14,
   "id": "c2ad386d",
   "metadata": {
    "scrolled": false
   },
   "outputs": [
    {
     "data": {
      "text/plain": [
       "WO    54\n",
       "MO    13\n",
       "NG     9\n",
       "VE     3\n",
       "Name: Sub_%, dtype: int64"
      ]
     },
     "execution_count": 14,
     "metadata": {},
     "output_type": "execute_result"
    }
   ],
   "source": [
    "df_sub[(df_sub['Sub_%'].str.isalpha())]['Sub_%'].value_counts()"
   ]
  },
  {
   "cell_type": "markdown",
   "id": "65e298f1",
   "metadata": {},
   "source": [
    "#### Changing strings into numeric values"
   ]
  },
  {
   "cell_type": "code",
   "execution_count": 15,
   "id": "c80d6412",
   "metadata": {
    "scrolled": true
   },
   "outputs": [],
   "source": [
    "# Converting entire cells\n",
    "df_sub['Sub_%'].replace({\n",
    "    'WO': 100,\n",
    "    'MO': 51,\n",
    "    'NG': 0.01,\n",
    "    'VE': 0.01,\n",
    "    '-': 0\n",
    "}, \n",
    "                        inplace=True)\n",
    "\n",
    "# Removing special signs from values\n",
    "import regex\n",
    "df_sub['Sub_%'] = df_sub['Sub_%'].replace('[<>]+','',regex=True).astype(float)"
   ]
  },
  {
   "cell_type": "code",
   "execution_count": 16,
   "id": "a47827e7",
   "metadata": {},
   "outputs": [
    {
     "data": {
      "text/html": [
       "<div>\n",
       "<style scoped>\n",
       "    .dataframe tbody tr th:only-of-type {\n",
       "        vertical-align: middle;\n",
       "    }\n",
       "\n",
       "    .dataframe tbody tr th {\n",
       "        vertical-align: top;\n",
       "    }\n",
       "\n",
       "    .dataframe thead th {\n",
       "        text-align: right;\n",
       "    }\n",
       "</style>\n",
       "<table border=\"1\" class=\"dataframe\">\n",
       "  <thead>\n",
       "    <tr style=\"text-align: right;\">\n",
       "      <th></th>\n",
       "      <th>source</th>\n",
       "      <th>target</th>\n",
       "      <th>weight</th>\n",
       "    </tr>\n",
       "  </thead>\n",
       "  <tbody>\n",
       "    <tr>\n",
       "      <th>1.0</th>\n",
       "      <td>Targi_109</td>\n",
       "      <td>Neigh_152</td>\n",
       "      <td>100.0</td>\n",
       "    </tr>\n",
       "    <tr>\n",
       "      <th>NaN</th>\n",
       "      <td>Targi_109</td>\n",
       "      <td>Neigh_258</td>\n",
       "      <td>100.0</td>\n",
       "    </tr>\n",
       "    <tr>\n",
       "      <th>NaN</th>\n",
       "      <td>Targi_109</td>\n",
       "      <td>Neigh_271</td>\n",
       "      <td>100.0</td>\n",
       "    </tr>\n",
       "    <tr>\n",
       "      <th>NaN</th>\n",
       "      <td>Targi_109</td>\n",
       "      <td>Targi_90</td>\n",
       "      <td>100.0</td>\n",
       "    </tr>\n",
       "    <tr>\n",
       "      <th>NaN</th>\n",
       "      <td>Targi_109</td>\n",
       "      <td>Neigh_675</td>\n",
       "      <td>100.0</td>\n",
       "    </tr>\n",
       "  </tbody>\n",
       "</table>\n",
       "</div>"
      ],
      "text/plain": [
       "        source     target  weight\n",
       "1.0  Targi_109  Neigh_152   100.0\n",
       "NaN  Targi_109  Neigh_258   100.0\n",
       "NaN  Targi_109  Neigh_271   100.0\n",
       "NaN  Targi_109   Targi_90   100.0\n",
       "NaN  Targi_109  Neigh_675   100.0"
      ]
     },
     "execution_count": 16,
     "metadata": {},
     "output_type": "execute_result"
    }
   ],
   "source": [
    "# Renames columns\n",
    "df_sub.insert(1, 'source', df_sub['BvD'].map(di_all))\n",
    "df_sub.insert(2, 'target', df_sub['Sub_BvD'].map(di_all))\n",
    "df_sub.rename(columns={'Sub_%': 'weight'}, inplace=True)\n",
    "df_sub.drop(['BvD', 'Sub_BvD'], axis=1, inplace=True)\n",
    "\n",
    "# Keeps only present links (Drops Nans and weight 0)\n",
    "df_sub.dropna(inplace=True)\n",
    "\n",
    "df_sub = df_sub[df_sub['weight'] > 0]\n",
    "df_sub.head()"
   ]
  },
  {
   "cell_type": "markdown",
   "id": "789651cf",
   "metadata": {},
   "source": [
    "### Shareholders Dataframe"
   ]
  },
  {
   "cell_type": "markdown",
   "id": "cb682c42",
   "metadata": {},
   "source": [
    "#### Checking for non-numeric values"
   ]
  },
  {
   "cell_type": "code",
   "execution_count": 17,
   "id": "4f627689",
   "metadata": {},
   "outputs": [
    {
     "data": {
      "text/plain": [
       "WO     40\n",
       "NG     32\n",
       "FC     11\n",
       "MO      9\n",
       "GP      9\n",
       "BR      3\n",
       "T       3\n",
       "FME     1\n",
       "Name: Sha_%, dtype: int64"
      ]
     },
     "execution_count": 17,
     "metadata": {},
     "output_type": "execute_result"
    }
   ],
   "source": [
    "df_sha[(df_sha['Sha_%'].str.isalpha())]['Sha_%'].value_counts()"
   ]
  },
  {
   "cell_type": "code",
   "execution_count": 18,
   "id": "4751f10c",
   "metadata": {},
   "outputs": [],
   "source": [
    "# Converting entire cells\n",
    "df_sha['Sha_%'].replace({\n",
    "    'WO': 100,\n",
    "    'MO': 51,\n",
    "    'NG': 0.01,\n",
    "    'VE': 0.01,\n",
    "    'FC': 0.01,\n",
    "    'GP': 50,\n",
    "    'BR': 0.01,\n",
    "    'T': 0.01,\n",
    "    'FME': 0.01,\n",
    "    '-': 0\n",
    "}, \n",
    "                        inplace=True)\n",
    "\n",
    "# 'WO': Whole ownership,\n",
    "# 'MO': Major ownership,\n",
    "# 'NG': Negligable,\n",
    "# 'VE': ? (Venture Equity?),\n",
    "# 'FC': ?,\n",
    "# 'GP': General partnership,\n",
    "# 'BR': Business Relief,\n",
    "# 'T': ?,\n",
    "# 'FME': ? "
   ]
  },
  {
   "cell_type": "code",
   "execution_count": 19,
   "id": "0b2283fc",
   "metadata": {},
   "outputs": [],
   "source": [
    "# Removing special signs from values\n",
    "import regex\n",
    "df_sha['Sha_%'] = df_sha['Sha_%'].replace('[<>]+','',regex=True).astype(float)"
   ]
  },
  {
   "cell_type": "code",
   "execution_count": 20,
   "id": "2b1424ae",
   "metadata": {},
   "outputs": [
    {
     "data": {
      "text/html": [
       "<div>\n",
       "<style scoped>\n",
       "    .dataframe tbody tr th:only-of-type {\n",
       "        vertical-align: middle;\n",
       "    }\n",
       "\n",
       "    .dataframe tbody tr th {\n",
       "        vertical-align: top;\n",
       "    }\n",
       "\n",
       "    .dataframe thead th {\n",
       "        text-align: right;\n",
       "    }\n",
       "</style>\n",
       "<table border=\"1\" class=\"dataframe\">\n",
       "  <thead>\n",
       "    <tr style=\"text-align: right;\">\n",
       "      <th></th>\n",
       "      <th>source</th>\n",
       "      <th>target</th>\n",
       "      <th>weight</th>\n",
       "    </tr>\n",
       "  </thead>\n",
       "  <tbody>\n",
       "    <tr>\n",
       "      <th>1.0</th>\n",
       "      <td>Neigh_1991</td>\n",
       "      <td>Targi_109</td>\n",
       "      <td>10.90</td>\n",
       "    </tr>\n",
       "    <tr>\n",
       "      <th>NaN</th>\n",
       "      <td>Neigh_4388</td>\n",
       "      <td>Targi_109</td>\n",
       "      <td>10.90</td>\n",
       "    </tr>\n",
       "    <tr>\n",
       "      <th>NaN</th>\n",
       "      <td>Neigh_1287</td>\n",
       "      <td>Targi_109</td>\n",
       "      <td>9.63</td>\n",
       "    </tr>\n",
       "    <tr>\n",
       "      <th>NaN</th>\n",
       "      <td>Neigh_4367</td>\n",
       "      <td>Targi_109</td>\n",
       "      <td>4.12</td>\n",
       "    </tr>\n",
       "    <tr>\n",
       "      <th>NaN</th>\n",
       "      <td>Neigh_4520</td>\n",
       "      <td>Targi_109</td>\n",
       "      <td>3.02</td>\n",
       "    </tr>\n",
       "  </tbody>\n",
       "</table>\n",
       "</div>"
      ],
      "text/plain": [
       "         source     target  weight\n",
       "1.0  Neigh_1991  Targi_109   10.90\n",
       "NaN  Neigh_4388  Targi_109   10.90\n",
       "NaN  Neigh_1287  Targi_109    9.63\n",
       "NaN  Neigh_4367  Targi_109    4.12\n",
       "NaN  Neigh_4520  Targi_109    3.02"
      ]
     },
     "execution_count": 20,
     "metadata": {},
     "output_type": "execute_result"
    }
   ],
   "source": [
    "# Renames columns\n",
    "df_sha.insert(1, 'source', df_sha['Sha_BvD'].map(di_all))\n",
    "df_sha.insert(2, 'target', df_sha['BvD'].map(di_all))\n",
    "df_sha.rename(columns={'Sha_%': 'weight'}, inplace=True)\n",
    "df_sha.drop(['BvD', 'Sha_BvD'], axis=1, inplace=True)\n",
    "\n",
    "# Keeps only present links (Drops Nans and weight 0)\n",
    "df_sha.dropna(inplace=True)\n",
    "\n",
    "df_sha = df_sha[df_sha['weight'] > 0]\n",
    "df_sha.head()"
   ]
  },
  {
   "cell_type": "markdown",
   "id": "5447bf6a",
   "metadata": {},
   "source": [
    "### All links joined"
   ]
  },
  {
   "cell_type": "code",
   "execution_count": 21,
   "id": "3d6af1b4",
   "metadata": {},
   "outputs": [],
   "source": [
    "df_EandN = pd.concat([df_sha, df_sub]).drop_duplicates(subset=['source','target'])"
   ]
  },
  {
   "cell_type": "code",
   "execution_count": 22,
   "id": "369a3539",
   "metadata": {},
   "outputs": [
    {
     "data": {
      "text/html": [
       "<div>\n",
       "<style scoped>\n",
       "    .dataframe tbody tr th:only-of-type {\n",
       "        vertical-align: middle;\n",
       "    }\n",
       "\n",
       "    .dataframe tbody tr th {\n",
       "        vertical-align: top;\n",
       "    }\n",
       "\n",
       "    .dataframe thead th {\n",
       "        text-align: right;\n",
       "    }\n",
       "</style>\n",
       "<table border=\"1\" class=\"dataframe\">\n",
       "  <thead>\n",
       "    <tr style=\"text-align: right;\">\n",
       "      <th></th>\n",
       "      <th>source</th>\n",
       "      <th>target</th>\n",
       "      <th>weight</th>\n",
       "    </tr>\n",
       "  </thead>\n",
       "  <tbody>\n",
       "    <tr>\n",
       "      <th>1.0</th>\n",
       "      <td>Neigh_1991</td>\n",
       "      <td>Targi_109</td>\n",
       "      <td>10.90</td>\n",
       "    </tr>\n",
       "    <tr>\n",
       "      <th>NaN</th>\n",
       "      <td>Neigh_4388</td>\n",
       "      <td>Targi_109</td>\n",
       "      <td>10.90</td>\n",
       "    </tr>\n",
       "    <tr>\n",
       "      <th>NaN</th>\n",
       "      <td>Neigh_1287</td>\n",
       "      <td>Targi_109</td>\n",
       "      <td>9.63</td>\n",
       "    </tr>\n",
       "    <tr>\n",
       "      <th>NaN</th>\n",
       "      <td>Neigh_4367</td>\n",
       "      <td>Targi_109</td>\n",
       "      <td>4.12</td>\n",
       "    </tr>\n",
       "    <tr>\n",
       "      <th>NaN</th>\n",
       "      <td>Neigh_4520</td>\n",
       "      <td>Targi_109</td>\n",
       "      <td>3.02</td>\n",
       "    </tr>\n",
       "  </tbody>\n",
       "</table>\n",
       "</div>"
      ],
      "text/plain": [
       "         source     target  weight\n",
       "1.0  Neigh_1991  Targi_109   10.90\n",
       "NaN  Neigh_4388  Targi_109   10.90\n",
       "NaN  Neigh_1287  Targi_109    9.63\n",
       "NaN  Neigh_4367  Targi_109    4.12\n",
       "NaN  Neigh_4520  Targi_109    3.02"
      ]
     },
     "execution_count": 22,
     "metadata": {},
     "output_type": "execute_result"
    }
   ],
   "source": [
    "df_EandN.head()"
   ]
  },
  {
   "cell_type": "code",
   "execution_count": 23,
   "id": "59a6bbbb",
   "metadata": {},
   "outputs": [
    {
     "name": "stdout",
     "output_type": "stream",
     "text": [
      "Sha links: 1957\n",
      "Sub links: 1829\n",
      "Sum of links: 3786\n",
      "All links filtered: 3626\n"
     ]
    }
   ],
   "source": [
    "print(f\"Sha links: {len(df_sha)}\")\n",
    "print(f\"Sub links: {len(df_sub)}\")\n",
    "print(f\"Sum of links: {len(df_sha) + len(df_sub)}\")\n",
    "print(f\"All links filtered: {len(df_EandN)}\")"
   ]
  },
  {
   "cell_type": "markdown",
   "id": "540587d9",
   "metadata": {},
   "source": [
    "### % turned into share of EC"
   ]
  },
  {
   "cell_type": "code",
   "execution_count": null,
   "id": "659092e9",
   "metadata": {},
   "outputs": [],
   "source": []
  },
  {
   "cell_type": "code",
   "execution_count": null,
   "id": "cf57b153",
   "metadata": {},
   "outputs": [],
   "source": []
  },
  {
   "cell_type": "markdown",
   "id": "eac57503",
   "metadata": {},
   "source": [
    "### Targi extracted"
   ]
  },
  {
   "cell_type": "code",
   "execution_count": 24,
   "id": "12707070",
   "metadata": {},
   "outputs": [],
   "source": [
    "# Extracting EASIN only links\n",
    "newDict = { key:value for (key,value) in di_all.items() if str(value).startswith('Targi')}\n",
    "\n",
    "df_EASIN = df_EandN[(df_EandN['source'].isin(newDict.values())) &\n",
    "                    (df_EandN['target'].isin(newDict.values()))].reset_index(drop=True)"
   ]
  },
  {
   "cell_type": "code",
   "execution_count": 25,
   "id": "65691a34",
   "metadata": {},
   "outputs": [],
   "source": [
    "df_EASIN['weight'] = df_EASIN['weight']/100"
   ]
  },
  {
   "cell_type": "markdown",
   "id": "934a4452",
   "metadata": {},
   "source": [
    "## Visualisation"
   ]
  },
  {
   "cell_type": "code",
   "execution_count": 26,
   "id": "ad239a99",
   "metadata": {},
   "outputs": [],
   "source": [
    "# #Imports\n",
    "# import networkx as nx\n",
    "# from pyvis.network import Network"
   ]
  },
  {
   "cell_type": "code",
   "execution_count": 27,
   "id": "ec8309b9",
   "metadata": {},
   "outputs": [],
   "source": [
    "# # Visualisation of PIN\n",
    "# G1 = nx.from_pandas_edgelist(df_EASIN,\n",
    "#                            source='source',\n",
    "#                            target='target',\n",
    "#                            edge_attr='weight')\n",
    "\n",
    "# net = Network(notebook=True)\n",
    "# net.from_nx(G1)\n",
    "# net.show('example.html')"
   ]
  },
  {
   "cell_type": "code",
   "execution_count": null,
   "id": "14142509",
   "metadata": {},
   "outputs": [],
   "source": []
  }
 ],
 "metadata": {
  "kernelspec": {
   "display_name": "Python 3 (ipykernel)",
   "language": "python",
   "name": "python3"
  },
  "language_info": {
   "codemirror_mode": {
    "name": "ipython",
    "version": 3
   },
   "file_extension": ".py",
   "mimetype": "text/x-python",
   "name": "python",
   "nbconvert_exporter": "python",
   "pygments_lexer": "ipython3",
   "version": "3.9.13"
  },
  "toc": {
   "base_numbering": 1,
   "nav_menu": {},
   "number_sections": true,
   "sideBar": true,
   "skip_h1_title": false,
   "title_cell": "Table of Contents",
   "title_sidebar": "Contents",
   "toc_cell": false,
   "toc_position": {},
   "toc_section_display": true,
   "toc_window_display": false
  }
 },
 "nbformat": 4,
 "nbformat_minor": 5
}
