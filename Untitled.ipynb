{
 "cells": [
  {
   "cell_type": "markdown",
   "id": "285771c9",
   "metadata": {},
   "source": [
    "# Ownership-Networks"
   ]
  },
  {
   "cell_type": "markdown",
   "id": "bc127477",
   "metadata": {},
   "source": [
    "## Data Import"
   ]
  },
  {
   "cell_type": "code",
   "execution_count": 1,
   "id": "eaff2ed0",
   "metadata": {},
   "outputs": [],
   "source": [
    "import pandas as pd\n",
    "import numpy as np"
   ]
  },
  {
   "cell_type": "code",
   "execution_count": 2,
   "id": "23c4ff9e",
   "metadata": {
    "scrolled": true
   },
   "outputs": [],
   "source": [
    "file_name = '3030-own'\n",
    "df = pd.read_csv(f'Data/{file_name}.csv',\n",
    "                     encoding='unicode_escape')\n",
    "\n",
    "df.rename(columns={'Company name Latin alphabet': 'Comp_Name',\n",
    "                   'Country ISO code': 'Country',\n",
    "                   'NACE Rev. 2, core code (4 digits)': 'NACE',\n",
    "                   'BvD ID number': 'BvD',\n",
    "                   'Operating revenue (Turnover)\\nth USD Last avail. yr': 'TURN',\n",
    "                   'Cash flow\\nth USD Last avail. yr': 'CF',\n",
    "                   'Total assets\\nth USD Last avail. yr': 'TASS',\n",
    "                   'Shareholders funds\\nth USD Last avail. yr': 'EC',\n",
    "                   'Number of employees\\nLast avail. yr': 'EM',\n",
    "                   'Shareholder - BvD ID number': 'Sha_BvD',\n",
    "                   'Shareholder - Direct %': 'Sha_%',\n",
    "                   'Subsidiary - BvD ID number': 'Sub_BvD',\n",
    "                   'Subsidiary - Direct %': 'Sub_%'\n",
    "                  },\n",
    "            inplace=True)\n",
    "\n",
    "# Codebook\n",
    "cdbk = pd.read_csv(f'Data\\\\Codebook.csv',index_col=0)\n",
    "\n",
    "# Creating dictionary so that it can be used for index in the main dataframe\n",
    "di_cdbk = dict([(bvd, index) for index, bvd in zip(cdbk.index, cdbk.BvD)])"
   ]
  },
  {
   "cell_type": "markdown",
   "id": "24146ae5",
   "metadata": {},
   "source": [
    "## Creating separate dataframe with economic attributes"
   ]
  },
  {
   "cell_type": "code",
   "execution_count": 3,
   "id": "9cf20b3b",
   "metadata": {},
   "outputs": [
    {
     "data": {
      "text/html": [
       "<div>\n",
       "<style scoped>\n",
       "    .dataframe tbody tr th:only-of-type {\n",
       "        vertical-align: middle;\n",
       "    }\n",
       "\n",
       "    .dataframe tbody tr th {\n",
       "        vertical-align: top;\n",
       "    }\n",
       "\n",
       "    .dataframe thead th {\n",
       "        text-align: right;\n",
       "    }\n",
       "</style>\n",
       "<table border=\"1\" class=\"dataframe\">\n",
       "  <thead>\n",
       "    <tr style=\"text-align: right;\">\n",
       "      <th></th>\n",
       "      <th>Comp_Name</th>\n",
       "      <th>Country</th>\n",
       "      <th>NACE</th>\n",
       "      <th>BvD</th>\n",
       "      <th>TURN</th>\n",
       "      <th>CF</th>\n",
       "      <th>TASS</th>\n",
       "      <th>EC</th>\n",
       "      <th>EM</th>\n",
       "    </tr>\n",
       "    <tr>\n",
       "      <th>index</th>\n",
       "      <th></th>\n",
       "      <th></th>\n",
       "      <th></th>\n",
       "      <th></th>\n",
       "      <th></th>\n",
       "      <th></th>\n",
       "      <th></th>\n",
       "      <th></th>\n",
       "      <th></th>\n",
       "    </tr>\n",
       "  </thead>\n",
       "  <tbody>\n",
       "    <tr>\n",
       "      <th>Targi_117</th>\n",
       "      <td>AIRBUS SE</td>\n",
       "      <td>NL</td>\n",
       "      <td>3030.0</td>\n",
       "      <td>NL24288945</td>\n",
       "      <td>59 736 738</td>\n",
       "      <td>7 471 764</td>\n",
       "      <td>121 241 465</td>\n",
       "      <td>10 743 847</td>\n",
       "      <td>126 495</td>\n",
       "    </tr>\n",
       "    <tr>\n",
       "      <th>Targi_95</th>\n",
       "      <td>AIRBUS</td>\n",
       "      <td>FR</td>\n",
       "      <td>3030.0</td>\n",
       "      <td>FR383474814</td>\n",
       "      <td>46 503 021</td>\n",
       "      <td>1 450 146</td>\n",
       "      <td>67 241 069</td>\n",
       "      <td>11 035 552</td>\n",
       "      <td>8 944</td>\n",
       "    </tr>\n",
       "    <tr>\n",
       "      <th>Targi_277</th>\n",
       "      <td>BAE SYSTEMS PLC</td>\n",
       "      <td>GB</td>\n",
       "      <td>3030.0</td>\n",
       "      <td>GB01470151</td>\n",
       "      <td>26 837 099</td>\n",
       "      <td>3 328 945</td>\n",
       "      <td>36 453 156</td>\n",
       "      <td>10 301 190</td>\n",
       "      <td>82 000</td>\n",
       "    </tr>\n",
       "    <tr>\n",
       "      <th>Targi_927</th>\n",
       "      <td>SAFRAN</td>\n",
       "      <td>FR</td>\n",
       "      <td>3030.0</td>\n",
       "      <td>FR562082909</td>\n",
       "      <td>18 434 203</td>\n",
       "      <td>1 792 906</td>\n",
       "      <td>47 247 554</td>\n",
       "      <td>15 029 606</td>\n",
       "      <td>77 008</td>\n",
       "    </tr>\n",
       "    <tr>\n",
       "      <th>Targi_694</th>\n",
       "      <td>LEONARDO S.P.A.</td>\n",
       "      <td>IT</td>\n",
       "      <td>3030.0</td>\n",
       "      <td>IT00401990585</td>\n",
       "      <td>16 651 490</td>\n",
       "      <td>1 258 319</td>\n",
       "      <td>32 142 064</td>\n",
       "      <td>7 310 935</td>\n",
       "      <td>50 413</td>\n",
       "    </tr>\n",
       "  </tbody>\n",
       "</table>\n",
       "</div>"
      ],
      "text/plain": [
       "                 Comp_Name Country    NACE            BvD        TURN  \\\n",
       "index                                                                   \n",
       "Targi_117        AIRBUS SE      NL  3030.0     NL24288945  59 736 738   \n",
       "Targi_95            AIRBUS      FR  3030.0    FR383474814  46 503 021   \n",
       "Targi_277  BAE SYSTEMS PLC      GB  3030.0     GB01470151  26 837 099   \n",
       "Targi_927           SAFRAN      FR  3030.0    FR562082909  18 434 203   \n",
       "Targi_694  LEONARDO S.P.A.      IT  3030.0  IT00401990585  16 651 490   \n",
       "\n",
       "                  CF         TASS          EC       EM  \n",
       "index                                                   \n",
       "Targi_117  7 471 764  121 241 465  10 743 847  126 495  \n",
       "Targi_95   1 450 146   67 241 069  11 035 552    8 944  \n",
       "Targi_277  3 328 945   36 453 156  10 301 190   82 000  \n",
       "Targi_927  1 792 906   47 247 554  15 029 606   77 008  \n",
       "Targi_694  1 258 319   32 142 064   7 310 935   50 413  "
      ]
     },
     "execution_count": 3,
     "metadata": {},
     "output_type": "execute_result"
    }
   ],
   "source": [
    "df_econ = df[['Comp_Name', 'Country', 'NACE', 'BvD', 'TURN', 'CF',\n",
    "       'TASS', 'EC', 'EM']].dropna(subset='Comp_Name')\n",
    "\n",
    "\n",
    "df_econ['index'] = df_econ['BvD'].map(di_cdbk)\n",
    "df_econ.set_index('index', inplace=True)\n",
    "\n",
    "df_econ.head()"
   ]
  },
  {
   "cell_type": "code",
   "execution_count": 4,
   "id": "3e451502",
   "metadata": {},
   "outputs": [],
   "source": [
    "# Treats the NA in column with company name and BvD-code in the main dataframe\n",
    "df['Comp_Name'].fillna(method='ffill', inplace=True)\n",
    "df['BvD'].fillna(method='ffill', inplace=True)"
   ]
  },
  {
   "cell_type": "markdown",
   "id": "5c8cfc1b",
   "metadata": {},
   "source": [
    "## Creating separate dataframes for links with shareholders and subsidiaries"
   ]
  },
  {
   "cell_type": "code",
   "execution_count": 5,
   "id": "ec7c3d75",
   "metadata": {},
   "outputs": [],
   "source": [
    "import copy\n",
    "df_sub = copy.copy(df[['Comp_Name', 'BvD','Sub_BvD', 'Sub_%']].dropna(subset='Sub_BvD')).drop('Comp_Name', axis=1)\n",
    "df_sha = copy.copy(df[['Comp_Name', 'BvD','Sha_BvD', 'Sha_%',]].dropna(subset='Sha_BvD')).drop('Comp_Name', axis=1)"
   ]
  },
  {
   "cell_type": "markdown",
   "id": "9bb95f05",
   "metadata": {},
   "source": [
    "### Subsidiaries Dataframe"
   ]
  },
  {
   "cell_type": "code",
   "execution_count": 6,
   "id": "3c6affd9",
   "metadata": {
    "scrolled": true
   },
   "outputs": [
    {
     "data": {
      "text/html": [
       "<div>\n",
       "<style scoped>\n",
       "    .dataframe tbody tr th:only-of-type {\n",
       "        vertical-align: middle;\n",
       "    }\n",
       "\n",
       "    .dataframe tbody tr th {\n",
       "        vertical-align: top;\n",
       "    }\n",
       "\n",
       "    .dataframe thead th {\n",
       "        text-align: right;\n",
       "    }\n",
       "</style>\n",
       "<table border=\"1\" class=\"dataframe\">\n",
       "  <thead>\n",
       "    <tr style=\"text-align: right;\">\n",
       "      <th></th>\n",
       "      <th>BvD</th>\n",
       "      <th>Sub_BvD</th>\n",
       "      <th>Sub_%</th>\n",
       "    </tr>\n",
       "  </thead>\n",
       "  <tbody>\n",
       "    <tr>\n",
       "      <th>0</th>\n",
       "      <td>NL24288945</td>\n",
       "      <td>LULB51757</td>\n",
       "      <td>100</td>\n",
       "    </tr>\n",
       "    <tr>\n",
       "      <th>1</th>\n",
       "      <td>NL24288945</td>\n",
       "      <td>DEFEB14827</td>\n",
       "      <td>100</td>\n",
       "    </tr>\n",
       "    <tr>\n",
       "      <th>2</th>\n",
       "      <td>NL24288945</td>\n",
       "      <td>GB02449259</td>\n",
       "      <td>100</td>\n",
       "    </tr>\n",
       "    <tr>\n",
       "      <th>3</th>\n",
       "      <td>NL24288945</td>\n",
       "      <td>NL28086907</td>\n",
       "      <td>100</td>\n",
       "    </tr>\n",
       "    <tr>\n",
       "      <th>4</th>\n",
       "      <td>NL24288945</td>\n",
       "      <td>NL63545128</td>\n",
       "      <td>100</td>\n",
       "    </tr>\n",
       "  </tbody>\n",
       "</table>\n",
       "</div>"
      ],
      "text/plain": [
       "          BvD     Sub_BvD Sub_%\n",
       "0  NL24288945   LULB51757   100\n",
       "1  NL24288945  DEFEB14827   100\n",
       "2  NL24288945  GB02449259   100\n",
       "3  NL24288945  NL28086907   100\n",
       "4  NL24288945  NL63545128   100"
      ]
     },
     "execution_count": 6,
     "metadata": {},
     "output_type": "execute_result"
    }
   ],
   "source": [
    "df_sub.head()"
   ]
  },
  {
   "cell_type": "markdown",
   "id": "d08c65c1",
   "metadata": {},
   "source": [
    "#### Checking for non-numeric values"
   ]
  },
  {
   "cell_type": "code",
   "execution_count": 7,
   "id": "c2ad386d",
   "metadata": {
    "scrolled": false
   },
   "outputs": [
    {
     "data": {
      "text/plain": [
       "WO    54\n",
       "MO    13\n",
       "NG     9\n",
       "VE     3\n",
       "Name: Sub_%, dtype: int64"
      ]
     },
     "execution_count": 7,
     "metadata": {},
     "output_type": "execute_result"
    }
   ],
   "source": [
    "df_sub[(df_sub['Sub_%'].str.isalpha())]['Sub_%'].value_counts()"
   ]
  },
  {
   "cell_type": "markdown",
   "id": "65e298f1",
   "metadata": {},
   "source": [
    "#### Changing strings into numeric values"
   ]
  },
  {
   "cell_type": "code",
   "execution_count": 8,
   "id": "c80d6412",
   "metadata": {
    "scrolled": true
   },
   "outputs": [],
   "source": [
    "# Converting entire cells\n",
    "df_sub['Sub_%'].replace({\n",
    "    'WO': 100,\n",
    "    'MO': 51,\n",
    "    'NG': 0.01,\n",
    "    'VE': 0.01,\n",
    "    '-': 0\n",
    "}, \n",
    "                        inplace=True)\n",
    "\n",
    "# Removing special signs from values\n",
    "import regex\n",
    "df_sub['Sub_%'] = df_sub['Sub_%'].replace('[<>]+','',regex=True).astype(float)"
   ]
  },
  {
   "cell_type": "code",
   "execution_count": 9,
   "id": "a47827e7",
   "metadata": {},
   "outputs": [
    {
     "data": {
      "text/html": [
       "<div>\n",
       "<style scoped>\n",
       "    .dataframe tbody tr th:only-of-type {\n",
       "        vertical-align: middle;\n",
       "    }\n",
       "\n",
       "    .dataframe tbody tr th {\n",
       "        vertical-align: top;\n",
       "    }\n",
       "\n",
       "    .dataframe thead th {\n",
       "        text-align: right;\n",
       "    }\n",
       "</style>\n",
       "<table border=\"1\" class=\"dataframe\">\n",
       "  <thead>\n",
       "    <tr style=\"text-align: right;\">\n",
       "      <th></th>\n",
       "      <th>source</th>\n",
       "      <th>target</th>\n",
       "      <th>weight</th>\n",
       "    </tr>\n",
       "  </thead>\n",
       "  <tbody>\n",
       "    <tr>\n",
       "      <th>2</th>\n",
       "      <td>Targi_117</td>\n",
       "      <td>Neigh_525</td>\n",
       "      <td>100.0</td>\n",
       "    </tr>\n",
       "    <tr>\n",
       "      <th>3</th>\n",
       "      <td>Targi_117</td>\n",
       "      <td>Targi_98</td>\n",
       "      <td>100.0</td>\n",
       "    </tr>\n",
       "    <tr>\n",
       "      <th>9</th>\n",
       "      <td>Targi_117</td>\n",
       "      <td>Targi_398</td>\n",
       "      <td>100.0</td>\n",
       "    </tr>\n",
       "    <tr>\n",
       "      <th>15</th>\n",
       "      <td>Targi_117</td>\n",
       "      <td>Targi_850</td>\n",
       "      <td>100.0</td>\n",
       "    </tr>\n",
       "    <tr>\n",
       "      <th>49</th>\n",
       "      <td>Targi_117</td>\n",
       "      <td>Targi_95</td>\n",
       "      <td>95.0</td>\n",
       "    </tr>\n",
       "  </tbody>\n",
       "</table>\n",
       "</div>"
      ],
      "text/plain": [
       "       source     target  weight\n",
       "2   Targi_117  Neigh_525   100.0\n",
       "3   Targi_117   Targi_98   100.0\n",
       "9   Targi_117  Targi_398   100.0\n",
       "15  Targi_117  Targi_850   100.0\n",
       "49  Targi_117   Targi_95    95.0"
      ]
     },
     "execution_count": 9,
     "metadata": {},
     "output_type": "execute_result"
    }
   ],
   "source": [
    "# Renames columns\n",
    "df_sub.insert(1, 'source', df_sub['BvD'].map(di_cdbk))\n",
    "df_sub.insert(2, 'target', df_sub['Sub_BvD'].map(di_cdbk))\n",
    "df_sub.rename(columns={'Sub_%': 'weight'}, inplace=True)\n",
    "df_sub.drop(['BvD', 'Sub_BvD'], axis=1, inplace=True)\n",
    "\n",
    "# Keeps only present links (Drops Nans and weight 0)\n",
    "df_sub.dropna(inplace=True)\n",
    "\n",
    "df_sub = df_sub[df_sub['weight'] > 0]\n",
    "df_sub.head()"
   ]
  },
  {
   "cell_type": "code",
   "execution_count": 10,
   "id": "659f4e68",
   "metadata": {},
   "outputs": [],
   "source": [
    "# Extracting EASIN only links\n",
    "df_sub = df_sub[df_sub['target'].isin(df_sub['source'])]"
   ]
  },
  {
   "cell_type": "code",
   "execution_count": 11,
   "id": "6e3bfe1a",
   "metadata": {},
   "outputs": [
    {
     "data": {
      "text/html": [
       "<div>\n",
       "<style scoped>\n",
       "    .dataframe tbody tr th:only-of-type {\n",
       "        vertical-align: middle;\n",
       "    }\n",
       "\n",
       "    .dataframe tbody tr th {\n",
       "        vertical-align: top;\n",
       "    }\n",
       "\n",
       "    .dataframe thead th {\n",
       "        text-align: right;\n",
       "    }\n",
       "</style>\n",
       "<table border=\"1\" class=\"dataframe\">\n",
       "  <thead>\n",
       "    <tr style=\"text-align: right;\">\n",
       "      <th></th>\n",
       "      <th>source</th>\n",
       "      <th>target</th>\n",
       "      <th>weight</th>\n",
       "    </tr>\n",
       "  </thead>\n",
       "  <tbody>\n",
       "    <tr>\n",
       "      <th>3</th>\n",
       "      <td>Targi_117</td>\n",
       "      <td>Targi_98</td>\n",
       "      <td>100.0</td>\n",
       "    </tr>\n",
       "    <tr>\n",
       "      <th>15</th>\n",
       "      <td>Targi_117</td>\n",
       "      <td>Targi_850</td>\n",
       "      <td>100.0</td>\n",
       "    </tr>\n",
       "    <tr>\n",
       "      <th>49</th>\n",
       "      <td>Targi_117</td>\n",
       "      <td>Targi_95</td>\n",
       "      <td>95.0</td>\n",
       "    </tr>\n",
       "    <tr>\n",
       "      <th>189</th>\n",
       "      <td>Targi_117</td>\n",
       "      <td>Targi_379</td>\n",
       "      <td>9.9</td>\n",
       "    </tr>\n",
       "    <tr>\n",
       "      <th>214</th>\n",
       "      <td>Targi_95</td>\n",
       "      <td>Targi_112</td>\n",
       "      <td>100.0</td>\n",
       "    </tr>\n",
       "  </tbody>\n",
       "</table>\n",
       "</div>"
      ],
      "text/plain": [
       "        source     target  weight\n",
       "3    Targi_117   Targi_98   100.0\n",
       "15   Targi_117  Targi_850   100.0\n",
       "49   Targi_117   Targi_95    95.0\n",
       "189  Targi_117  Targi_379     9.9\n",
       "214   Targi_95  Targi_112   100.0"
      ]
     },
     "execution_count": 11,
     "metadata": {},
     "output_type": "execute_result"
    }
   ],
   "source": [
    "df_sub.head()"
   ]
  },
  {
   "cell_type": "markdown",
   "id": "789651cf",
   "metadata": {},
   "source": [
    "### Shareholders Dataframe"
   ]
  },
  {
   "cell_type": "markdown",
   "id": "cb682c42",
   "metadata": {},
   "source": [
    "#### Checking for non-numeric values"
   ]
  },
  {
   "cell_type": "code",
   "execution_count": 12,
   "id": "4f627689",
   "metadata": {},
   "outputs": [
    {
     "data": {
      "text/plain": [
       "WO     34\n",
       "NG     33\n",
       "MO     10\n",
       "FC      9\n",
       "GP      9\n",
       "BR      3\n",
       "T       3\n",
       "FME     1\n",
       "Name: Sha_%, dtype: int64"
      ]
     },
     "execution_count": 12,
     "metadata": {},
     "output_type": "execute_result"
    }
   ],
   "source": [
    "df_sha[(df_sha['Sha_%'].str.isalpha())]['Sha_%'].value_counts()"
   ]
  },
  {
   "cell_type": "code",
   "execution_count": null,
   "id": "4751f10c",
   "metadata": {},
   "outputs": [],
   "source": []
  }
 ],
 "metadata": {
  "kernelspec": {
   "display_name": "Python 3 (ipykernel)",
   "language": "python",
   "name": "python3"
  },
  "language_info": {
   "codemirror_mode": {
    "name": "ipython",
    "version": 3
   },
   "file_extension": ".py",
   "mimetype": "text/x-python",
   "name": "python",
   "nbconvert_exporter": "python",
   "pygments_lexer": "ipython3",
   "version": "3.9.15"
  },
  "toc": {
   "base_numbering": 1,
   "nav_menu": {},
   "number_sections": true,
   "sideBar": true,
   "skip_h1_title": false,
   "title_cell": "Table of Contents",
   "title_sidebar": "Contents",
   "toc_cell": false,
   "toc_position": {},
   "toc_section_display": true,
   "toc_window_display": false
  }
 },
 "nbformat": 4,
 "nbformat_minor": 5
}
